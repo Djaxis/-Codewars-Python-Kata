{
  "nbformat": 4,
  "nbformat_minor": 0,
  "metadata": {
    "colab": {
      "provenance": [],
      "authorship_tag": "ABX9TyOriz4aU6jjKdqWMqoxmcPn",
      "include_colab_link": true
    },
    "kernelspec": {
      "name": "python3",
      "display_name": "Python 3"
    },
    "language_info": {
      "name": "python"
    }
  },
  "cells": [
    {
      "cell_type": "markdown",
      "metadata": {
        "id": "view-in-github",
        "colab_type": "text"
      },
      "source": [
        "<a href=\"https://colab.research.google.com/github/Djaxis/MY-Python-Evolution/blob/main/Tentative_Scraping_Librairie_Youtube_comment.ipynb\" target=\"_parent\"><img src=\"https://colab.research.google.com/assets/colab-badge.svg\" alt=\"Open In Colab\"/></a>"
      ]
    },
    {
      "cell_type": "code",
      "source": [
        "!pip install youtube_comment_scraper_python"
      ],
      "metadata": {
        "colab": {
          "base_uri": "https://localhost:8080/"
        },
        "id": "Y8VKki61VJzm",
        "outputId": "677458bf-bef7-48a0-f11f-4322a13232c9"
      },
      "execution_count": 1,
      "outputs": [
        {
          "output_type": "stream",
          "name": "stdout",
          "text": [
            "Looking in indexes: https://pypi.org/simple, https://us-python.pkg.dev/colab-wheels/public/simple/\n",
            "Requirement already satisfied: youtube_comment_scraper_python in /usr/local/lib/python3.9/dist-packages (1.0.0)\n",
            "Requirement already satisfied: bot-studio in /usr/local/lib/python3.9/dist-packages (from youtube_comment_scraper_python) (1.4.0)\n",
            "Requirement already satisfied: requests in /usr/local/lib/python3.9/dist-packages (from youtube_comment_scraper_python) (2.27.1)\n",
            "Requirement already satisfied: tqdm in /usr/local/lib/python3.9/dist-packages (from bot-studio->youtube_comment_scraper_python) (4.65.0)\n",
            "Requirement already satisfied: idna<4,>=2.5 in /usr/local/lib/python3.9/dist-packages (from requests->youtube_comment_scraper_python) (3.4)\n",
            "Requirement already satisfied: charset-normalizer~=2.0.0 in /usr/local/lib/python3.9/dist-packages (from requests->youtube_comment_scraper_python) (2.0.12)\n",
            "Requirement already satisfied: urllib3<1.27,>=1.21.1 in /usr/local/lib/python3.9/dist-packages (from requests->youtube_comment_scraper_python) (1.26.15)\n",
            "Requirement already satisfied: certifi>=2017.4.17 in /usr/local/lib/python3.9/dist-packages (from requests->youtube_comment_scraper_python) (2022.12.7)\n"
          ]
        }
      ]
    },
    {
      "cell_type": "markdown",
      "source": [
        "### Impossible d'installer le bon packet de la librairie \"youtube_comment_scraper_python\" que ce soit sur Colab deepnote ouo VSC : TypeError: 'module' object is not callable //// ou alors //// YouTube_Comment_Scraper is not defined\n",
        "\n",
        "---\n",
        "\n"
      ],
      "metadata": {
        "id": "8_cuanO0Z86S"
      }
    },
    {
      "cell_type": "code",
      "execution_count": 10,
      "metadata": {
        "colab": {
          "base_uri": "https://localhost:8080/",
          "height": 264
        },
        "id": "bYIORtZvVH_f",
        "outputId": "1daf1eeb-3729-4c11-88bc-c6c85d1f8212"
      },
      "outputs": [
        {
          "name": "stdout",
          "output_type": "stream",
          "text": [
            "Entrez l'URL de la vidéo YouTube: https://www.youtube.com/watch?v=pbTLz2OQkvs&ab_channel=SansPermission-ByYomi%26Oussama\n"
          ]
        },
        {
          "output_type": "error",
          "ename": "TypeError",
          "evalue": "ignored",
          "traceback": [
            "\u001b[0;31m---------------------------------------------------------------------------\u001b[0m",
            "\u001b[0;31mTypeError\u001b[0m                                 Traceback (most recent call last)",
            "\u001b[0;32m<ipython-input-10-260e30094b10>\u001b[0m in \u001b[0;36m<module>\u001b[0;34m\u001b[0m\n\u001b[1;32m     13\u001b[0m \u001b[0;34m\u001b[0m\u001b[0m\n\u001b[1;32m     14\u001b[0m \u001b[0;34m\u001b[0m\u001b[0m\n\u001b[0;32m---> 15\u001b[0;31m \u001b[0myoutube\u001b[0m \u001b[0;34m=\u001b[0m \u001b[0mYouTube_Comment_Scraper\u001b[0m\u001b[0;34m(\u001b[0m\u001b[0;34m)\u001b[0m\u001b[0;34m\u001b[0m\u001b[0;34m\u001b[0m\u001b[0m\n\u001b[0m\u001b[1;32m     16\u001b[0m \u001b[0myoutube\u001b[0m\u001b[0;34m.\u001b[0m\u001b[0mopen\u001b[0m\u001b[0;34m(\u001b[0m\u001b[0murl\u001b[0m\u001b[0;34m)\u001b[0m\u001b[0;34m\u001b[0m\u001b[0;34m\u001b[0m\u001b[0m\n\u001b[1;32m     17\u001b[0m \u001b[0;34m\u001b[0m\u001b[0m\n",
            "\u001b[0;31mTypeError\u001b[0m: 'module' object is not callable"
          ]
        }
      ],
      "source": [
        "\n",
        "#video à analyser : https://www.youtube.com/watch?v=pbTLz2OQkvs&ab_channel=SansPermission-ByYomi%26Oussama\n",
        "\n",
        "from youtube_comment_scraper_python import * \n",
        "import youtube_comment_scraper_python as YouTube_Comment_Scraper\n",
        "import pandas as pd\n",
        "import time\n",
        "\n",
        "# Entrer l'URL de la vidéo YouTube\n",
        "url = input(\"Entrez l'URL de la vidéo YouTube: \")\n",
        "\n",
        "# Nommer le fichier CSV pour stocker les commentaires extraits\n",
        "filename = \"dataindia.csv\"\n",
        "\n",
        "\n",
        "youtube = YouTube_Comment_Scraper()\n",
        "youtube.open(url)\n",
        "\n",
        "# Créer une liste vide pour stocker tous les commentaires extraits\n",
        "full_comments = []\n",
        "\n",
        "# Extraire les commentaires de la première page de commentaires de la vidéo\n",
        "result = youtube.video_comments()\n",
        "data = result['body']\n",
        "full_comments.extend(data)\n",
        "\n",
        "# Tant qu'il y a plus de pages de commentaires, extraire les commentaires et les ajouter à la liste\n",
        "while 'nextPageToken' in result:\n",
        "    time.sleep(2) # Attendre 2 secondes pour éviter de surcharger le serveur\n",
        "    result = youtube.video_comments(result['nextPageToken'])\n",
        "    data = result['body']\n",
        "    full_comments.extend(data)\n",
        "\n",
        "# Créer un DataFrame Pandas à partir de la liste de commentaires extraits\n",
        "df = pd.DataFrame(full_comments)\n",
        "\n",
        "# Écrire le DataFrame dans un fichier CSV nommé \"dataindia.csv\"\n",
        "df.to_csv(filename, index=False)\n",
        "\n"
      ]
    }
  ]
}