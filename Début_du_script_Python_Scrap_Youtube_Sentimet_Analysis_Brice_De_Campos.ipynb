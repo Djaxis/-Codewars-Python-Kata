{
  "nbformat": 4,
  "nbformat_minor": 0,
  "metadata": {
    "colab": {
      "provenance": [],
      "authorship_tag": "ABX9TyPLtPEBvmYCqH2hVWyXSNJP",
      "include_colab_link": true
    },
    "kernelspec": {
      "name": "python3",
      "display_name": "Python 3"
    },
    "language_info": {
      "name": "python"
    }
  },
  "cells": [
    {
      "cell_type": "markdown",
      "metadata": {
        "id": "view-in-github",
        "colab_type": "text"
      },
      "source": [
        "<a href=\"https://colab.research.google.com/github/Djaxis/MY-Python-Evolution/blob/main/D%C3%A9but_du_script_Python_Scrap_Youtube_Sentimet_Analysis_Brice_De_Campos.ipynb\" target=\"_parent\"><img src=\"https://colab.research.google.com/assets/colab-badge.svg\" alt=\"Open In Colab\"/></a>"
      ]
    },
    {
      "cell_type": "markdown",
      "source": [
        "Chrome > permet de créer une instance d'un navigateur Chrome.\n",
        "\n",
        "By     > est utilisé pour sélectionner des éléments de la page web en utilisant différents critères.\n",
        "\n",
        "Keys   > permet de simuler des touches du clavier, telles que \"Entrée\" ou \"Echap\".\n",
        "\n",
        "WebDriverWait > est utilisé pour attendre qu'un élément spécifié soit présent sur la page avant de continuer le script.\n",
        "\n",
        "expected_conditions >  est utilisé pour définir les conditions attendues pour qu'une action soit effectuée."
      ],
      "metadata": {
        "id": "kjCiYLklFGc5"
      }
    },
    {
      "cell_type": "code",
      "source": [
        "!pip install selenium"
      ],
      "metadata": {
        "id": "-Rmzm3f2nean"
      },
      "execution_count": null,
      "outputs": []
    },
    {
      "cell_type": "markdown",
      "source": [
        "Le script Python ne trouve pas le fichier du driver dans le répertoire courant. Dans ce cas, vous pouvez soit :\n",
        "\n",
        "Copier le fichier du driver dans le répertoire courant où se trouve votre script Python.\n",
        "\n",
        "Indiquer le chemin absolu du fichier du driver. Vous pouvez obtenir le chemin absolu en utilisant la commande pwd dans le terminal (ou cmd sous Windows) pour obtenir le chemin courant, puis ajouter le nom du fichier du driver. Par exemple, si le chemin courant est /home/user/Documents, et que le fichier du driver est dans /home/user/Downloads/chromedriver, alors vous pouvez utiliser executable_path='/home/user/Downloads/chromedriver'.\n",
        "\n",
        "Indiquer le chemin relatif du fichier du driver par rapport au répertoire courant où se trouve votre script Python. Par exemple, si le fichier du driver est dans le répertoire parent (..) de votre script Python, vous pouvez utiliser executable_path='../chromedriver'.\n",
        "\n",
        "Notez également que l'utilisation de executable_path est déconseillée, il est préférable d'utiliser Service comme je vous l'ai montré dans la solution précédente."
      ],
      "metadata": {
        "id": "VOA7zSZBu9J5"
      }
    },
    {
      "cell_type": "code",
      "source": [
        "!ls /content/drive/MyDrive/BDD/\n",
        "from google.colab import drive\n",
        "import os.path\n",
        "import pandas as pd\n",
        "from selenium import webdriver\n",
        "from selenium.webdriver.chrome.options import Options\n",
        "from selenium.webdriver.common.keys import Keys\n",
        "from selenium.webdriver.common.by import By\n",
        "from selenium.webdriver.support.ui import WebDriverWait\n",
        "from selenium.webdriver.support import expected_conditions as EC\n",
        "import csv\n",
        "import json\n",
        "import numpy as np\n",
        "import plotly.express as px\n",
        "import requests\n",
        "import seaborn as sns\n",
        "import urllib.request\n",
        "import matplotlib.pyplot as plt\n",
        "\n",
        "\n",
        "import os\n",
        "# Chemin vers le driver\n",
        "driver_path = \"./chromedriver\"\n",
        "# Vérifier si le fichier existe\n",
        "if os.path.exists(driver_path):\n",
        "    print(\"Le driver est dans le même répertoire que le script Python\")\n",
        "else:\n",
        "    print(\"Le driver n'est pas dans le même répertoire que le script Python\")\n",
        "\n",
        "\n",
        "# monter votre Google Drive\n",
        "from google.colab import drive\n",
        "drive.mount('/content/drive')\n",
        "\n",
        "# vérifier si le dossier 'BDD' existe dans votre Google Drive\n",
        "bdd_path = '/content/drive/MyDrive/BDD'\n",
        "if not os.path.exists(bdd_path):\n",
        "    os.mkdir(bdd_path)\n",
        "\n",
        "# vérifier si le fichier 'scrapyoutube2023.csv' existe dans le dossier 'BDD' de votre Google Drive\n",
        "csv_path = '/content/drive/MyDrive/BDD/scrapyoutube2023.csv'\n",
        "if not os.path.exists(csv_path):\n",
        "    # si le fichier n'existe pas, créer un nouveau dataframe avec le nom \"scrapyoutube2023\"\n",
        "    scrapyoutube2023 = pd.DataFrame()\n",
        "    # enregistrer le dataframe dans le fichier CSV\n",
        "    scrapyoutube2023.to_csv(csv_path, index=False)\n",
        "    print(f'Le fichier {csv_path} a été créé.')\n",
        "\n",
        "# initialisation du driver Selenium\n",
        "options = Options()\n",
        "options.headless = True \n",
        "options.add_argument(\"--disable-dev-shm-usage\")\n",
        "options.add_argument(\"--no-sandbox\")\n",
        "options.add_argument(\"--disable-gpu\")\n",
        "options.add_argument(\"start-maximized\")\n",
        "options.add_argument(\"disable-infobars\")\n",
        "options.add_argument(\"--disable-extensions\")\n",
        "driver = webdriver.Chrome(executable_path='./chromedriver', options=options)\n",
        "\n",
        "url=\"https://www.youtube.com/watch?v=rnDbi8gti0U&ab_channel=Underscore_\" # url adresse \n",
        "html = requests.get(url) # requete de la page \n",
        "html # REPONSE 406\n",
        "\n",
        "\n",
        "# 3 - Contourne la protection en indiquant un navigateur existant. Et relance ta requête.\n",
        "navigator = 'Mozilla/5.0 (Macintosh; Intel Mac OS X 10_10_1)'\n",
        "html = requests.get(url, headers={'User-Agent': navigator})\n",
        "html # REPONSE 200 C'est ok\n",
        "\n",
        "url = \"https://www.youtube.com/watch?v=rnDbi8gti0U&ab_channel=Underscore_\"\n",
        "driver.get(url)\n",
        "\n",
        "# attendre que la section de commentaires soit chargée\n",
        "comment_section = WebDriverWait(driver, 10).until(\n",
        "    EC.presence_of_element_located((By.XPATH, '//*[@id=\"comments\"]'))\n",
        ")\n",
        "\n",
        "# boucle pour scroller et charger tous les commentaires\n",
        "while True:\n",
        "    try:\n",
        "        # cliquer sur le bouton \"Afficher plus de commentaires\"\n",
        "        more_btn = driver.find_element_by_xpath('//*[@id=\"more\"]/yt-formatted-string')\n",
        "        driver.execute_script(\"arguments[0].scrollIntoView(true);\", more_btn)\n",
        "        more_btn.click()\n",
        "        # attendre le chargement des commentaires supplémentaires\n",
        "        WebDriverWait(driver, 10).until(\n",
        "            EC.invisibility_of_element_located((By.XPATH, '//*[@id=\"progress\"]'))\n",
        "        )\n",
        "    except:\n",
        "        break\n",
        "\n",
        "# extraire les commentaires de la section de commentaires\n",
        "comment_elems = driver.find_elements_by_xpath('//*[@id=\"comment\"]')\n",
        "\n",
        "# stocker les commentaires dans une liste\n",
        "comment_list = []\n",
        "for comment_elem in comment_elems:\n",
        "    comment_list.append(comment_elem.text)\n",
        "\n",
        "# créer un dataframe pandas à partir de la liste de commentaires\n",
        "df_comments = pd.DataFrame({'Comment': comment_list})\n",
        "\n",
        "# ajouter le dataframe de commentaires au fichier CSV\n",
        "df_comments.to_csv(csv_path, mode='a', index=False, header=not os.path.exists(csv_path))\n",
        "\n",
        "# imprimer les commentaires\n",
        "for comment in comment_list:\n",
        "    print(comment)\n",
        "\n",
        "# fermer\n"
      ],
      "metadata": {
        "id": "9c31pf5zgP4e"
      },
      "execution_count": null,
      "outputs": []
    },
    {
      "cell_type": "code",
      "source": [
        "import requests\n",
        "from bs4 import BeautifulSoup\n",
        "import time\n",
        "from selenium.webdriver import Chrome\n",
        "from selenium.webdriver.common.by import By\n",
        "from selenium.webdriver.common.keys import Keys\n",
        "from selenium.webdriver.support.ui import WebDriverWait\n",
        "from selenium.webdriver.support import expected_conditions as EC\n",
        "\n",
        "url = \"https://www.youtube.com/watch?v=rnDbi8gti0U&ab_channel=Underscore_\"\n",
        "headers = {'User-Agent': 'Mozilla/5.0 (Macintosh; Intel Mac OS X 10_10_1)'}\n",
        "\n",
        "response = requests.get(url, headers=headers)\n",
        "\n",
        "soup = BeautifulSoup(response.content, 'html.parser')\n",
        "\n",
        "comment_list = []\n",
        "\n",
        "# trouver la section qui contient les commentaires\n",
        "\n",
        "comment_section = soup.find('yt-formatted-string', {'class': 'count-text style-scope ytd-comments-header-renderer'}).find_parent('div', {'id': 'comments'})\n",
        "if comment_section:\n",
        "    # extraire le jeton continu pour la pagination\n",
        "    continuation_token = comment_section.find('yt-next-continuation')['data-continuation']\n",
        "\n",
        "    # boucle pour extraire les commentaires de chaque page de pagination\n",
        "    while continuation_token:\n",
        "        # construire l'URL de la page de pagination\n",
        "        url = 'https://www.youtube.com/comment_service_ajax?action_get_comments=1&pbj=1&ctoken=' + continuation_token + '&continuation=' + continuation_token + '&itct=' + itct\n",
        "\n",
        "        # envoyer une requête GET à l'URL de la page de pagination\n",
        "        response = requests.get(url, headers=headers)\n",
        "\n",
        "        # extraire les commentaires de la page de pagination\n",
        "        comments = extract_comments(response.json())\n",
        "\n",
        "        # ajouter les commentaires extraits à la liste complète de commentaires\n",
        "        comment_list.extend(comments)\n",
        "\n",
        "        # extraire le jeton continu pour la prochaine page de pagination (s'il y en a une)\n",
        "        continuation_token = extract_continuation_token(response.json())\n",
        "else:\n",
        "    print(\"La section de commentaires n'a pas été trouvée.\")\n",
        "\n"
      ],
      "metadata": {
        "colab": {
          "base_uri": "https://localhost:8080/",
          "height": 246
        },
        "id": "w6zlqrQ_fhBY",
        "outputId": "9052a7ea-098f-4c5f-ff9d-399cd5c0d78c"
      },
      "execution_count": null,
      "outputs": [
        {
          "output_type": "error",
          "ename": "AttributeError",
          "evalue": "ignored",
          "traceback": [
            "\u001b[0;31m---------------------------------------------------------------------------\u001b[0m",
            "\u001b[0;31mAttributeError\u001b[0m                            Traceback (most recent call last)",
            "\u001b[0;32m<ipython-input-52-6d0dc92787a4>\u001b[0m in \u001b[0;36m<module>\u001b[0;34m\u001b[0m\n\u001b[1;32m     19\u001b[0m \u001b[0;31m# trouver la section qui contient les commentaires\u001b[0m\u001b[0;34m\u001b[0m\u001b[0;34m\u001b[0m\u001b[0;34m\u001b[0m\u001b[0m\n\u001b[1;32m     20\u001b[0m \u001b[0;34m\u001b[0m\u001b[0m\n\u001b[0;32m---> 21\u001b[0;31m \u001b[0mcomment_section\u001b[0m \u001b[0;34m=\u001b[0m \u001b[0msoup\u001b[0m\u001b[0;34m.\u001b[0m\u001b[0mfind\u001b[0m\u001b[0;34m(\u001b[0m\u001b[0;34m'yt-formatted-string'\u001b[0m\u001b[0;34m,\u001b[0m \u001b[0;34m{\u001b[0m\u001b[0;34m'class'\u001b[0m\u001b[0;34m:\u001b[0m \u001b[0;34m'count-text style-scope ytd-comments-header-renderer'\u001b[0m\u001b[0;34m}\u001b[0m\u001b[0;34m)\u001b[0m\u001b[0;34m.\u001b[0m\u001b[0mfind_parent\u001b[0m\u001b[0;34m(\u001b[0m\u001b[0;34m'div'\u001b[0m\u001b[0;34m,\u001b[0m \u001b[0;34m{\u001b[0m\u001b[0;34m'id'\u001b[0m\u001b[0;34m:\u001b[0m \u001b[0;34m'comments'\u001b[0m\u001b[0;34m}\u001b[0m\u001b[0;34m)\u001b[0m\u001b[0;34m\u001b[0m\u001b[0;34m\u001b[0m\u001b[0m\n\u001b[0m\u001b[1;32m     22\u001b[0m \u001b[0;32mif\u001b[0m \u001b[0mcomment_section\u001b[0m\u001b[0;34m:\u001b[0m\u001b[0;34m\u001b[0m\u001b[0;34m\u001b[0m\u001b[0m\n\u001b[1;32m     23\u001b[0m     \u001b[0;31m# extraire le jeton continu pour la pagination\u001b[0m\u001b[0;34m\u001b[0m\u001b[0;34m\u001b[0m\u001b[0;34m\u001b[0m\u001b[0m\n",
            "\u001b[0;31mAttributeError\u001b[0m: 'NoneType' object has no attribute 'find_parent'"
          ]
        }
      ]
    },
    {
      "cell_type": "code",
      "source": [
        "url=\"https://www.youtube.com/watch?v=rnDbi8gti0U&ab_channel=Underscore_\" # url adresse \n",
        "html = requests.get(url) # requete de la page \n",
        "html # REPONSE 406"
      ],
      "metadata": {
        "colab": {
          "base_uri": "https://localhost:8080/"
        },
        "id": "CYImwuQtJYg9",
        "outputId": "1c896156-5c06-4f10-fba9-cf9ea7acd52e"
      },
      "execution_count": null,
      "outputs": [
        {
          "output_type": "execute_result",
          "data": {
            "text/plain": [
              "<Response [200]>"
            ]
          },
          "metadata": {},
          "execution_count": 30
        }
      ]
    },
    {
      "cell_type": "code",
      "metadata": {
        "id": "5q8lMZif06_k"
      },
      "source": [
        "import requests\n",
        "from bs4 import BeautifulSoup\n",
        "\n",
        "# 3 - Contourne la protection en indiquant un navigateur existant. Et relance ta requête.\n",
        "navigator = 'Mozilla/5.0 (Macintosh; Intel Mac OS X 10_10_1)'\n",
        "html = requests.get(url, headers={'User-Agent': navigator})\n",
        "html # REPONSE 200 C'est ok\n",
        "\n",
        "soup = BeautifulSoup(html.text, 'html.parser') # lecture de la page  avec tous les codes - on crée une soupe avec le code HTML\n",
        "soup # affiche le code et ses balises de la page.\n",
        "\n",
        "# Grace à l'inspecteur d'éléments, on trouve la balise permettant d'identifier le cadre des blagues\n",
        "# chaque commentaire YouTube soit contenu dans une balise ytd-comment-thread-renderer qui contient plusieurs sous-éléments, \n",
        "# y compris la balise div avec l'ID body qui contient le texte du commentaire lui-même. \n",
        "\n",
        "comments = soup.find_all('div', {'id': 'content-text'})\n",
        "comment_list = []\n",
        "\n",
        "for comment in comments:\n",
        "    comment_list.append(comment.text.strip())\n",
        "\n",
        "for comment in comment_list:\n",
        "    print(comment)\n"
      ],
      "execution_count": null,
      "outputs": []
    },
    {
      "cell_type": "code",
      "source": [
        "url=\"https://www.youtube.com/watch?v=rnDbi8gti0U&ab_channel=Underscore_\" # url adresse \n",
        "html = requests.get(url) # requete de la page \n",
        "html # REPONSE 406\n",
        "\n",
        "\n",
        "# 3 - Contourne la protection en indiquant un navigateur existant. Et relance ta requête.\n",
        "navigator = 'Mozilla/5.0 (Macintosh; Intel Mac OS X 10_10_1)'\n",
        "html = requests.get(url, headers={'User-Agent': navigator})\n",
        "html # REPONSE 200 C'est ok\n",
        "\n",
        "from bs4 import BeautifulSoup\n",
        "soup = BeautifulSoup(html.text, 'html.parser') # lecture de la page  avec tous les codes - on crée une soupe avec le code HTML\n",
        "soup # affiche le code et ses balises de la page.\n",
        "\n",
        "\n",
        "# Grace à l'inspecteur d'éléments, on trouve la balise permettant d'identifier le cadre des blagues\n",
        "# chaque commentaire YouTube soit contenu dans une balise ytd-comment-thread-renderer qui contient plusieurs sous-éléments, \n",
        "# y compris la balise div avec l'ID body qui contient le texte du commentaire lui-même. \n",
        "comments = soup.find_all('ytd-comment-thread-renderer')\n",
        "\n",
        "\n",
        "#extraire le texte de chaque commentaire, vous pouvez itérer sur la liste comments \n",
        "#et extraire le texte de la balise div avec l'ID body à l'intérieur de chaque élément :\n",
        "# Voici un exemple de code qui stocke les commentaires dans une liste nommée comment_list et les imprime dans la console Python:\n",
        "comment_list = []\n",
        "\n",
        "for comment in comments:\n",
        "    comment_text = comment.find('div', {'id': 'content-text'}).text.strip()\n",
        "    comment_list.append(comment_text)\n",
        "\n",
        "for comment in comment_list:\n",
        "    print(comment)\n"
      ],
      "metadata": {
        "id": "pEUPojcBZaZ9"
      },
      "execution_count": null,
      "outputs": []
    },
    {
      "cell_type": "code",
      "source": [
        "datascrapyoutube= [] # stocker les commentaires extraits.\n",
        "\n",
        "youtube_video_url= \"https://www.youtube.com/watch?v=rnDbi8gti0U&ab_channel=Underscore_\"\n",
        "\n",
        "with Chrome(executable_path=r'C:\\Program Files\\chromedriver.exe') as driver:\n",
        "      wait = WebDriverWait(driver,15)\n",
        "      driver.get(youtube_video_url)\n",
        "\n",
        " \n",
        "# une boucle for pour faire défiler la page jusqu'à la fin en utilisant la fonction send_keys pour envoyer la touche \"Fin\" à la page web. \n",
        "# Le script attend ensuite 15 secondes pour que la page se charge, puis répète ce processus 200 fois.\n",
        "for item in range(200):\n",
        "\n",
        "      wait.until(EC.visibility_of_element_located((By.TAG_NAME, \"body\"))).send_keys(Keys.END)\n",
        "      time.sleep(15)\n",
        "\n",
        "# Une fois que la page a été complètement chargée, le script utilise \"presence_of_all_elements_located\" pour attendre que tous les éléments de commentaire soient présents sur la page.\n",
        "# Il utilise ensuite la méthode text pour extraire le texte de chaque élément de commentaire et l'ajouter à la liste data.\n",
        "for comment in wait.until(EC.presence_of_all_elements_located((By.CSS_SELECTOR, \"#content\"))):\n",
        "\n",
        "    datascrapyoutube.append(comment.text)\n",
        "\n"
      ],
      "metadata": {
        "colab": {
          "base_uri": "https://localhost:8080/",
          "height": 731
        },
        "id": "K6xlveY6CE3M",
        "outputId": "809299eb-82f0-4089-de1d-aded371581f1"
      },
      "execution_count": null,
      "outputs": [
        {
          "output_type": "stream",
          "name": "stderr",
          "text": [
            "<ipython-input-34-6f0bec398da2>:5: DeprecationWarning: executable_path has been deprecated, please pass in a Service object\n",
            "  with Chrome(executable_path=r'C:\\Program Files\\chromedriver.exe') as driver:\n"
          ]
        },
        {
          "output_type": "error",
          "ename": "WebDriverException",
          "evalue": "ignored",
          "traceback": [
            "\u001b[0;31m---------------------------------------------------------------------------\u001b[0m",
            "\u001b[0;31mWebDriverException\u001b[0m                        Traceback (most recent call last)",
            "\u001b[0;32m<ipython-input-34-6f0bec398da2>\u001b[0m in \u001b[0;36m<module>\u001b[0;34m\u001b[0m\n\u001b[1;32m      3\u001b[0m \u001b[0myoutube_video_url\u001b[0m\u001b[0;34m=\u001b[0m \u001b[0;34m\"https://www.youtube.com/watch?v=rnDbi8gti0U&ab_channel=Underscore_\"\u001b[0m\u001b[0;34m\u001b[0m\u001b[0;34m\u001b[0m\u001b[0m\n\u001b[1;32m      4\u001b[0m \u001b[0;34m\u001b[0m\u001b[0m\n\u001b[0;32m----> 5\u001b[0;31m \u001b[0;32mwith\u001b[0m \u001b[0mChrome\u001b[0m\u001b[0;34m(\u001b[0m\u001b[0mexecutable_path\u001b[0m\u001b[0;34m=\u001b[0m\u001b[0;34mr'C:\\Program Files\\chromedriver.exe'\u001b[0m\u001b[0;34m)\u001b[0m \u001b[0;32mas\u001b[0m \u001b[0mdriver\u001b[0m\u001b[0;34m:\u001b[0m\u001b[0;34m\u001b[0m\u001b[0;34m\u001b[0m\u001b[0m\n\u001b[0m\u001b[1;32m      6\u001b[0m       \u001b[0mwait\u001b[0m \u001b[0;34m=\u001b[0m \u001b[0mWebDriverWait\u001b[0m\u001b[0;34m(\u001b[0m\u001b[0mdriver\u001b[0m\u001b[0;34m,\u001b[0m\u001b[0;36m15\u001b[0m\u001b[0;34m)\u001b[0m\u001b[0;34m\u001b[0m\u001b[0;34m\u001b[0m\u001b[0m\n\u001b[1;32m      7\u001b[0m       \u001b[0mdriver\u001b[0m\u001b[0;34m.\u001b[0m\u001b[0mget\u001b[0m\u001b[0;34m(\u001b[0m\u001b[0myoutube_video_url\u001b[0m\u001b[0;34m)\u001b[0m\u001b[0;34m\u001b[0m\u001b[0;34m\u001b[0m\u001b[0m\n",
            "\u001b[0;32m/usr/local/lib/python3.8/dist-packages/selenium/webdriver/chrome/webdriver.py\u001b[0m in \u001b[0;36m__init__\u001b[0;34m(self, executable_path, port, options, service_args, desired_capabilities, service_log_path, chrome_options, service, keep_alive)\u001b[0m\n\u001b[1;32m     78\u001b[0m             \u001b[0mservice\u001b[0m \u001b[0;34m=\u001b[0m \u001b[0mService\u001b[0m\u001b[0;34m(\u001b[0m\u001b[0mexecutable_path\u001b[0m\u001b[0;34m,\u001b[0m \u001b[0mport\u001b[0m\u001b[0;34m,\u001b[0m \u001b[0mservice_args\u001b[0m\u001b[0;34m,\u001b[0m \u001b[0mservice_log_path\u001b[0m\u001b[0;34m)\u001b[0m\u001b[0;34m\u001b[0m\u001b[0;34m\u001b[0m\u001b[0m\n\u001b[1;32m     79\u001b[0m \u001b[0;34m\u001b[0m\u001b[0m\n\u001b[0;32m---> 80\u001b[0;31m         super().__init__(\n\u001b[0m\u001b[1;32m     81\u001b[0m             \u001b[0mDesiredCapabilities\u001b[0m\u001b[0;34m.\u001b[0m\u001b[0mCHROME\u001b[0m\u001b[0;34m[\u001b[0m\u001b[0;34m\"browserName\"\u001b[0m\u001b[0;34m]\u001b[0m\u001b[0;34m,\u001b[0m\u001b[0;34m\u001b[0m\u001b[0;34m\u001b[0m\u001b[0m\n\u001b[1;32m     82\u001b[0m             \u001b[0;34m\"goog\"\u001b[0m\u001b[0;34m,\u001b[0m\u001b[0;34m\u001b[0m\u001b[0;34m\u001b[0m\u001b[0m\n",
            "\u001b[0;32m/usr/local/lib/python3.8/dist-packages/selenium/webdriver/chromium/webdriver.py\u001b[0m in \u001b[0;36m__init__\u001b[0;34m(self, browser_name, vendor_prefix, port, options, service_args, desired_capabilities, service_log_path, service, keep_alive)\u001b[0m\n\u001b[1;32m    102\u001b[0m \u001b[0;34m\u001b[0m\u001b[0m\n\u001b[1;32m    103\u001b[0m         \u001b[0;32mtry\u001b[0m\u001b[0;34m:\u001b[0m\u001b[0;34m\u001b[0m\u001b[0;34m\u001b[0m\u001b[0m\n\u001b[0;32m--> 104\u001b[0;31m             super().__init__(\n\u001b[0m\u001b[1;32m    105\u001b[0m                 command_executor=ChromiumRemoteConnection(\n\u001b[1;32m    106\u001b[0m                     \u001b[0mremote_server_addr\u001b[0m\u001b[0;34m=\u001b[0m\u001b[0mself\u001b[0m\u001b[0;34m.\u001b[0m\u001b[0mservice\u001b[0m\u001b[0;34m.\u001b[0m\u001b[0mservice_url\u001b[0m\u001b[0;34m,\u001b[0m\u001b[0;34m\u001b[0m\u001b[0;34m\u001b[0m\u001b[0m\n",
            "\u001b[0;32m/usr/local/lib/python3.8/dist-packages/selenium/webdriver/remote/webdriver.py\u001b[0m in \u001b[0;36m__init__\u001b[0;34m(self, command_executor, desired_capabilities, browser_profile, proxy, keep_alive, file_detector, options)\u001b[0m\n\u001b[1;32m    284\u001b[0m         \u001b[0mself\u001b[0m\u001b[0;34m.\u001b[0m\u001b[0m_authenticator_id\u001b[0m \u001b[0;34m=\u001b[0m \u001b[0;32mNone\u001b[0m\u001b[0;34m\u001b[0m\u001b[0;34m\u001b[0m\u001b[0m\n\u001b[1;32m    285\u001b[0m         \u001b[0mself\u001b[0m\u001b[0;34m.\u001b[0m\u001b[0mstart_client\u001b[0m\u001b[0;34m(\u001b[0m\u001b[0;34m)\u001b[0m\u001b[0;34m\u001b[0m\u001b[0;34m\u001b[0m\u001b[0m\n\u001b[0;32m--> 286\u001b[0;31m         \u001b[0mself\u001b[0m\u001b[0;34m.\u001b[0m\u001b[0mstart_session\u001b[0m\u001b[0;34m(\u001b[0m\u001b[0mcapabilities\u001b[0m\u001b[0;34m,\u001b[0m \u001b[0mbrowser_profile\u001b[0m\u001b[0;34m)\u001b[0m\u001b[0;34m\u001b[0m\u001b[0;34m\u001b[0m\u001b[0m\n\u001b[0m\u001b[1;32m    287\u001b[0m \u001b[0;34m\u001b[0m\u001b[0m\n\u001b[1;32m    288\u001b[0m     \u001b[0;32mdef\u001b[0m \u001b[0m__repr__\u001b[0m\u001b[0;34m(\u001b[0m\u001b[0mself\u001b[0m\u001b[0;34m)\u001b[0m\u001b[0;34m:\u001b[0m\u001b[0;34m\u001b[0m\u001b[0;34m\u001b[0m\u001b[0m\n",
            "\u001b[0;32m/usr/local/lib/python3.8/dist-packages/selenium/webdriver/remote/webdriver.py\u001b[0m in \u001b[0;36mstart_session\u001b[0;34m(self, capabilities, browser_profile)\u001b[0m\n\u001b[1;32m    376\u001b[0m         \u001b[0mw3c_caps\u001b[0m \u001b[0;34m=\u001b[0m \u001b[0m_make_w3c_caps\u001b[0m\u001b[0;34m(\u001b[0m\u001b[0mcapabilities\u001b[0m\u001b[0;34m)\u001b[0m\u001b[0;34m\u001b[0m\u001b[0;34m\u001b[0m\u001b[0m\n\u001b[1;32m    377\u001b[0m         \u001b[0mparameters\u001b[0m \u001b[0;34m=\u001b[0m \u001b[0;34m{\u001b[0m\u001b[0;34m\"capabilities\"\u001b[0m\u001b[0;34m:\u001b[0m \u001b[0mw3c_caps\u001b[0m\u001b[0;34m}\u001b[0m\u001b[0;34m\u001b[0m\u001b[0;34m\u001b[0m\u001b[0m\n\u001b[0;32m--> 378\u001b[0;31m         \u001b[0mresponse\u001b[0m \u001b[0;34m=\u001b[0m \u001b[0mself\u001b[0m\u001b[0;34m.\u001b[0m\u001b[0mexecute\u001b[0m\u001b[0;34m(\u001b[0m\u001b[0mCommand\u001b[0m\u001b[0;34m.\u001b[0m\u001b[0mNEW_SESSION\u001b[0m\u001b[0;34m,\u001b[0m \u001b[0mparameters\u001b[0m\u001b[0;34m)\u001b[0m\u001b[0;34m\u001b[0m\u001b[0;34m\u001b[0m\u001b[0m\n\u001b[0m\u001b[1;32m    379\u001b[0m         \u001b[0;32mif\u001b[0m \u001b[0;34m\"sessionId\"\u001b[0m \u001b[0;32mnot\u001b[0m \u001b[0;32min\u001b[0m \u001b[0mresponse\u001b[0m\u001b[0;34m:\u001b[0m\u001b[0;34m\u001b[0m\u001b[0;34m\u001b[0m\u001b[0m\n\u001b[1;32m    380\u001b[0m             \u001b[0mresponse\u001b[0m \u001b[0;34m=\u001b[0m \u001b[0mresponse\u001b[0m\u001b[0;34m[\u001b[0m\u001b[0;34m\"value\"\u001b[0m\u001b[0;34m]\u001b[0m\u001b[0;34m\u001b[0m\u001b[0;34m\u001b[0m\u001b[0m\n",
            "\u001b[0;32m/usr/local/lib/python3.8/dist-packages/selenium/webdriver/remote/webdriver.py\u001b[0m in \u001b[0;36mexecute\u001b[0;34m(self, driver_command, params)\u001b[0m\n\u001b[1;32m    438\u001b[0m         \u001b[0mresponse\u001b[0m \u001b[0;34m=\u001b[0m \u001b[0mself\u001b[0m\u001b[0;34m.\u001b[0m\u001b[0mcommand_executor\u001b[0m\u001b[0;34m.\u001b[0m\u001b[0mexecute\u001b[0m\u001b[0;34m(\u001b[0m\u001b[0mdriver_command\u001b[0m\u001b[0;34m,\u001b[0m \u001b[0mparams\u001b[0m\u001b[0;34m)\u001b[0m\u001b[0;34m\u001b[0m\u001b[0;34m\u001b[0m\u001b[0m\n\u001b[1;32m    439\u001b[0m         \u001b[0;32mif\u001b[0m \u001b[0mresponse\u001b[0m\u001b[0;34m:\u001b[0m\u001b[0;34m\u001b[0m\u001b[0;34m\u001b[0m\u001b[0m\n\u001b[0;32m--> 440\u001b[0;31m             \u001b[0mself\u001b[0m\u001b[0;34m.\u001b[0m\u001b[0merror_handler\u001b[0m\u001b[0;34m.\u001b[0m\u001b[0mcheck_response\u001b[0m\u001b[0;34m(\u001b[0m\u001b[0mresponse\u001b[0m\u001b[0;34m)\u001b[0m\u001b[0;34m\u001b[0m\u001b[0;34m\u001b[0m\u001b[0m\n\u001b[0m\u001b[1;32m    441\u001b[0m             \u001b[0mresponse\u001b[0m\u001b[0;34m[\u001b[0m\u001b[0;34m\"value\"\u001b[0m\u001b[0;34m]\u001b[0m \u001b[0;34m=\u001b[0m \u001b[0mself\u001b[0m\u001b[0;34m.\u001b[0m\u001b[0m_unwrap_value\u001b[0m\u001b[0;34m(\u001b[0m\u001b[0mresponse\u001b[0m\u001b[0;34m.\u001b[0m\u001b[0mget\u001b[0m\u001b[0;34m(\u001b[0m\u001b[0;34m\"value\"\u001b[0m\u001b[0;34m,\u001b[0m \u001b[0;32mNone\u001b[0m\u001b[0;34m)\u001b[0m\u001b[0;34m)\u001b[0m\u001b[0;34m\u001b[0m\u001b[0;34m\u001b[0m\u001b[0m\n\u001b[1;32m    442\u001b[0m             \u001b[0;32mreturn\u001b[0m \u001b[0mresponse\u001b[0m\u001b[0;34m\u001b[0m\u001b[0;34m\u001b[0m\u001b[0m\n",
            "\u001b[0;32m/usr/local/lib/python3.8/dist-packages/selenium/webdriver/remote/errorhandler.py\u001b[0m in \u001b[0;36mcheck_response\u001b[0;34m(self, response)\u001b[0m\n\u001b[1;32m    243\u001b[0m                 \u001b[0malert_text\u001b[0m \u001b[0;34m=\u001b[0m \u001b[0mvalue\u001b[0m\u001b[0;34m[\u001b[0m\u001b[0;34m\"alert\"\u001b[0m\u001b[0;34m]\u001b[0m\u001b[0;34m.\u001b[0m\u001b[0mget\u001b[0m\u001b[0;34m(\u001b[0m\u001b[0;34m\"text\"\u001b[0m\u001b[0;34m)\u001b[0m\u001b[0;34m\u001b[0m\u001b[0;34m\u001b[0m\u001b[0m\n\u001b[1;32m    244\u001b[0m             \u001b[0;32mraise\u001b[0m \u001b[0mexception_class\u001b[0m\u001b[0;34m(\u001b[0m\u001b[0mmessage\u001b[0m\u001b[0;34m,\u001b[0m \u001b[0mscreen\u001b[0m\u001b[0;34m,\u001b[0m \u001b[0mstacktrace\u001b[0m\u001b[0;34m,\u001b[0m \u001b[0malert_text\u001b[0m\u001b[0;34m)\u001b[0m  \u001b[0;31m# type: ignore[call-arg]  # mypy is not smart enough here\u001b[0m\u001b[0;34m\u001b[0m\u001b[0;34m\u001b[0m\u001b[0m\n\u001b[0;32m--> 245\u001b[0;31m         \u001b[0;32mraise\u001b[0m \u001b[0mexception_class\u001b[0m\u001b[0;34m(\u001b[0m\u001b[0mmessage\u001b[0m\u001b[0;34m,\u001b[0m \u001b[0mscreen\u001b[0m\u001b[0;34m,\u001b[0m \u001b[0mstacktrace\u001b[0m\u001b[0;34m)\u001b[0m\u001b[0;34m\u001b[0m\u001b[0;34m\u001b[0m\u001b[0m\n\u001b[0m",
            "\u001b[0;31mWebDriverException\u001b[0m: Message: unknown error: cannot find Chrome binary\nStacktrace:\n#0 0x557311a10d93 <unknown>\n#1 0x5573117df2d7 <unknown>\n#2 0x55731180551f <unknown>\n#3 0x557311803a3d <unknown>\n#4 0x5573118484f4 <unknown>\n#5 0x55731183f353 <unknown>\n#6 0x55731180ee40 <unknown>\n#7 0x557311810038 <unknown>\n#8 0x557311a648be <unknown>\n#9 0x557311a688f0 <unknown>\n#10 0x557311a48f90 <unknown>\n#11 0x557311a69b7d <unknown>\n#12 0x557311a3a578 <unknown>\n#13 0x557311a8e348 <unknown>\n#14 0x557311a8e4d6 <unknown>\n#15 0x557311aa8341 <unknown>\n#16 0x7f82583e3609 start_thread\n"
          ]
        }
      ]
    },
    {
      "cell_type": "code",
      "source": [
        "import pandas as pd \n",
        "\n",
        "df = pd.DataFrame(dadatascrapyoutube, columns=['comment'])\n",
        "\n",
        "df.head()"
      ],
      "metadata": {
        "id": "3JosMU7LIQsX"
      },
      "execution_count": null,
      "outputs": []
    }
  ]
}