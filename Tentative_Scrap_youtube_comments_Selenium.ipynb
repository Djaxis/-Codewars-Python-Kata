{
  "nbformat": 4,
  "nbformat_minor": 0,
  "metadata": {
    "colab": {
      "provenance": [],
      "authorship_tag": "ABX9TyP/T6bD0IuH1FLQ6jxM28bn",
      "include_colab_link": true
    },
    "kernelspec": {
      "name": "python3",
      "display_name": "Python 3"
    },
    "language_info": {
      "name": "python"
    }
  },
  "cells": [
    {
      "cell_type": "markdown",
      "metadata": {
        "id": "view-in-github",
        "colab_type": "text"
      },
      "source": [
        "<a href=\"https://colab.research.google.com/github/Djaxis/MY-Python-Evolution/blob/main/Tentative_Scrap_youtube_comments_Selenium.ipynb\" target=\"_parent\"><img src=\"https://colab.research.google.com/assets/colab-badge.svg\" alt=\"Open In Colab\"/></a>"
      ]
    },
    {
      "cell_type": "markdown",
      "source": [
        "### Tentative de scrap avec la librairie de selenium : le driver chrome s'ouvre mais ne dépasse pas l'étape d \"Accepter les cookies\". Le navigateur se ferme. Avec le input pour stoper la fermeture le reste du code ne tourne pas.\n"
      ],
      "metadata": {
        "id": "xsacr9FQ3JPM"
      }
    },
    {
      "cell_type": "code",
      "execution_count": null,
      "metadata": {
        "id": "kjaDB1Av3HYR"
      },
      "outputs": [],
      "source": [
        "import os.path\n",
        "import pandas as pd\n",
        "import csv\n",
        "import json\n",
        "import numpy as np\n",
        "\n",
        "\n",
        "import seaborn as sns\n",
        "import urllib.request\n",
        "import matplotlib.pyplot as plt\n",
        "import pandas as pd\n",
        "import os\n",
        "\n",
        "from selenium import webdriver\n",
        "from selenium.webdriver.common.keys import Keys\n",
        "from selenium.webdriver.common.by import By\n",
        "from selenium.webdriver.support.ui import WebDriverWait\n",
        "from selenium.webdriver.support import expected_conditions as EC\n",
        "import time\n",
        "\n",
        "# vérifier si le fichier 'scrapyoutube2023.csv' existe dans le dossier 'BDD/SCRAPPINGBDD' de votre Google Drive\n",
        "csv_path = r\"C:\\Users\\change\\Desktop\\BUREAU\\CODE & PROJETS\\SCRAPING YOUTUBE\\scrapyoutube2023.csv\"\n",
        "\n",
        "# si le fichier n'existe pas, créer un nouveau dataframe avec le nom \"scrapyoutube2023\"\n",
        "if not os.path.exists(csv_path):\n",
        "    print(f'LE FICHIER {csv_path} EST ABSENT !!!')\n",
        "    scrapyoutube2023 = pd.DataFrame()\n",
        "    \n",
        "    # enregistrer le dataframe dans le fichier CSV\n",
        "    scrapyoutube2023.to_csv(csv_path, index=False)\n",
        "    print(f'LE FICHIER {csv_path} A ETE CREE.')\n",
        "\n",
        "def scrapyoutube() :\n",
        "    # Paramètres du navigateur\n",
        "    options = webdriver.ChromeOptions()\n",
        "    options.add_argument(\"--start-maximized\")\n",
        "    options.add_argument(\"--disable-notifications\")\n",
        "    options.add_argument(\"--disable-infobars\")\n",
        "    options.add_argument(\"--mute-audio\")\n",
        "    options.add_argument('--disable-popup-blocking')\n",
        "\n",
        "    \n",
        "    # Démarrer le navigateur\n",
        "    driver = webdriver.Chrome(options=options)\n",
        "    driver.get(\"https://www.youtube.com/watch?v=rnDbi8gti0U\")\n",
        "    \n",
        "    input()\n",
        "\n",
        "    # Accepter les cookies\n",
        "    accept_btn = driver.find_element_by_xpath('//*[@id=\"yDmH0d\"]/div[2]/div[1]/div/div[2]/div[1]/div[1]/div[2]/div[2]/button[1]')\n",
        "    accept_btn.click()\n",
        "\n",
        "\n",
        "\n",
        "    # Faire défiler la page pour charger les commentaires\n",
        "    body = driver.find_element_by_tag_name(\"body\")\n",
        "    for i in range(3):\n",
        "        body.send_keys(Keys.PAGE_DOWN)\n",
        "        time.sleep(2)\n",
        "\n",
        "    # Attendre que tous les commentaires soient chargés\n",
        "    wait = WebDriverWait(driver, 10)\n",
        "    # Extraire les commentaires\n",
        "    comments_section = wait.until(EC.presence_of_element_located((By.XPATH, '//*[@id=\"contents\"]')))\n",
        "    comments = comments_section.find_elements_by_xpath('//*[@id=\"content-text\"]')\n",
        "\n",
        "    # Extraire les commentaires\n",
        "    for comment in comments:\n",
        "        print(comment.text)\n",
        "\n",
        "    # Demander à l'utilisateur d'appuyer sur une touche pour quitter\n",
        "    input(\"Appuyez sur une touche pour quitter...\")\n"
      ]
    }
  ]
}