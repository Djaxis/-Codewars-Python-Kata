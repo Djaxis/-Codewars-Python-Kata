{
  "nbformat": 4,
  "nbformat_minor": 0,
  "metadata": {
    "colab": {
      "provenance": [],
      "include_colab_link": true
    },
    "kernelspec": {
      "name": "python3",
      "display_name": "Python 3"
    }
  },
  "cells": [
    {
      "cell_type": "markdown",
      "metadata": {
        "id": "view-in-github",
        "colab_type": "text"
      },
      "source": [
        "<a href=\"https://colab.research.google.com/github/Djaxis/MY-Python-Evolution/blob/main/Pandas_Numpy_Linear_regressions_Brice_De_Campos.ipynb\" target=\"_parent\"><img src=\"https://colab.research.google.com/assets/colab-badge.svg\" alt=\"Open In Colab\"/></a>"
      ]
    },
    {
      "cell_type": "markdown",
      "metadata": {
        "id": "usp-tku9Mb9X"
      },
      "source": [
        "# Execute the code below"
      ]
    },
    {
      "cell_type": "code",
      "metadata": {
        "id": "ZH2G3U1dMez2"
      },
      "source": [
        "import matplotlib.pyplot as plt\n",
        "import pandas as pd\n",
        "import numpy as np\n",
        "import seaborn as sns\n",
        "link = \"https://raw.githubusercontent.com/murpi/wilddata/master/quests/weather2019.csv\"\n",
        "df_weather = pd.read_csv(link)\n",
        "df_weather['DAY_OF_YEAR'] = df_weather.index+1"
      ],
      "execution_count": null,
      "outputs": []
    },
    {
      "cell_type": "markdown",
      "metadata": {
        "id": "-80p5u1BMzte"
      },
      "source": [
        "# Correlation Matrix\n",
        "Find the most correlated column with MAX Temperature"
      ]
    },
    {
      "cell_type": "code",
      "metadata": {
        "id": "PNkmNey5KeWp",
        "colab": {
          "base_uri": "https://localhost:8080/",
          "height": 626
        },
        "outputId": "68f35b21-de3c-4583-d4f5-d9db1b98d46e"
      },
      "source": [
        "# Did you know that you can have a correlation heatmap with a simple line ?\n",
        "df_weather.corr().style.background_gradient(cmap='coolwarm').set_precision(2)\n",
        "# Now, find the most correlated column with MAX Temperature\n",
        "CorrelMaxTemp = df_weather.corr()[\"MAX_TEMPERATURE_C\"].sort_values(ascending=False).index.values[1]\n",
        "df_weather\n"
      ],
      "execution_count": null,
      "outputs": [
        {
          "output_type": "execute_result",
          "data": {
            "text/html": [
              "<div>\n",
              "<style scoped>\n",
              "    .dataframe tbody tr th:only-of-type {\n",
              "        vertical-align: middle;\n",
              "    }\n",
              "\n",
              "    .dataframe tbody tr th {\n",
              "        vertical-align: top;\n",
              "    }\n",
              "\n",
              "    .dataframe thead th {\n",
              "        text-align: right;\n",
              "    }\n",
              "</style>\n",
              "<table border=\"1\" class=\"dataframe\">\n",
              "  <thead>\n",
              "    <tr style=\"text-align: right;\">\n",
              "      <th></th>\n",
              "      <th>DATE</th>\n",
              "      <th>MAX_TEMPERATURE_C</th>\n",
              "      <th>MIN_TEMPERATURE_C</th>\n",
              "      <th>WINDSPEED_MAX_KMH</th>\n",
              "      <th>TEMPERATURE_MORNING_C</th>\n",
              "      <th>TEMPERATURE_NOON_C</th>\n",
              "      <th>TEMPERATURE_EVENING_C</th>\n",
              "      <th>PRECIP_TOTAL_DAY_MM</th>\n",
              "      <th>HUMIDITY_MAX_PERCENT</th>\n",
              "      <th>VISIBILITY_AVG_KM</th>\n",
              "      <th>PRESSURE_MAX_MB</th>\n",
              "      <th>CLOUDCOVER_AVG_PERCENT</th>\n",
              "      <th>HEATINDEX_MAX_C</th>\n",
              "      <th>DEWPOINT_MAX_C</th>\n",
              "      <th>WINDTEMP_MAX_C</th>\n",
              "      <th>WEATHER_CODE_MORNING</th>\n",
              "      <th>WEATHER_CODE_NOON</th>\n",
              "      <th>WEATHER_CODE_EVENING</th>\n",
              "      <th>TOTAL_SNOW_MM</th>\n",
              "      <th>UV_INDEX</th>\n",
              "      <th>SUNHOUR</th>\n",
              "      <th>OPINION</th>\n",
              "      <th>MONTH</th>\n",
              "      <th>DAY</th>\n",
              "      <th>DAY_OF_YEAR</th>\n",
              "    </tr>\n",
              "  </thead>\n",
              "  <tbody>\n",
              "    <tr>\n",
              "      <th>0</th>\n",
              "      <td>2019-01-01</td>\n",
              "      <td>9</td>\n",
              "      <td>4</td>\n",
              "      <td>10</td>\n",
              "      <td>4</td>\n",
              "      <td>7</td>\n",
              "      <td>8</td>\n",
              "      <td>0.2</td>\n",
              "      <td>94</td>\n",
              "      <td>9.000</td>\n",
              "      <td>1037</td>\n",
              "      <td>62.250</td>\n",
              "      <td>9</td>\n",
              "      <td>6</td>\n",
              "      <td>3</td>\n",
              "      <td>116</td>\n",
              "      <td>143</td>\n",
              "      <td>176</td>\n",
              "      <td>0</td>\n",
              "      <td>1</td>\n",
              "      <td>5.1</td>\n",
              "      <td>very bad</td>\n",
              "      <td>1</td>\n",
              "      <td>1</td>\n",
              "      <td>1</td>\n",
              "    </tr>\n",
              "    <tr>\n",
              "      <th>1</th>\n",
              "      <td>2019-01-02</td>\n",
              "      <td>8</td>\n",
              "      <td>5</td>\n",
              "      <td>18</td>\n",
              "      <td>7</td>\n",
              "      <td>7</td>\n",
              "      <td>5</td>\n",
              "      <td>0.0</td>\n",
              "      <td>90</td>\n",
              "      <td>9.000</td>\n",
              "      <td>1040</td>\n",
              "      <td>58.125</td>\n",
              "      <td>8</td>\n",
              "      <td>6</td>\n",
              "      <td>3</td>\n",
              "      <td>119</td>\n",
              "      <td>116</td>\n",
              "      <td>116</td>\n",
              "      <td>0</td>\n",
              "      <td>1</td>\n",
              "      <td>8.7</td>\n",
              "      <td>very bad</td>\n",
              "      <td>1</td>\n",
              "      <td>2</td>\n",
              "      <td>2</td>\n",
              "    </tr>\n",
              "    <tr>\n",
              "      <th>2</th>\n",
              "      <td>2019-01-03</td>\n",
              "      <td>6</td>\n",
              "      <td>0</td>\n",
              "      <td>18</td>\n",
              "      <td>0</td>\n",
              "      <td>4</td>\n",
              "      <td>3</td>\n",
              "      <td>0.0</td>\n",
              "      <td>88</td>\n",
              "      <td>10.000</td>\n",
              "      <td>1040</td>\n",
              "      <td>37.000</td>\n",
              "      <td>6</td>\n",
              "      <td>1</td>\n",
              "      <td>-4</td>\n",
              "      <td>116</td>\n",
              "      <td>116</td>\n",
              "      <td>116</td>\n",
              "      <td>0</td>\n",
              "      <td>1</td>\n",
              "      <td>8.7</td>\n",
              "      <td>very bad</td>\n",
              "      <td>1</td>\n",
              "      <td>3</td>\n",
              "      <td>3</td>\n",
              "    </tr>\n",
              "    <tr>\n",
              "      <th>3</th>\n",
              "      <td>2019-01-04</td>\n",
              "      <td>5</td>\n",
              "      <td>-1</td>\n",
              "      <td>15</td>\n",
              "      <td>-1</td>\n",
              "      <td>4</td>\n",
              "      <td>3</td>\n",
              "      <td>0.0</td>\n",
              "      <td>91</td>\n",
              "      <td>10.000</td>\n",
              "      <td>1040</td>\n",
              "      <td>42.625</td>\n",
              "      <td>5</td>\n",
              "      <td>1</td>\n",
              "      <td>-4</td>\n",
              "      <td>116</td>\n",
              "      <td>116</td>\n",
              "      <td>122</td>\n",
              "      <td>0</td>\n",
              "      <td>1</td>\n",
              "      <td>5.1</td>\n",
              "      <td>very bad</td>\n",
              "      <td>1</td>\n",
              "      <td>4</td>\n",
              "      <td>4</td>\n",
              "    </tr>\n",
              "    <tr>\n",
              "      <th>4</th>\n",
              "      <td>2019-01-05</td>\n",
              "      <td>6</td>\n",
              "      <td>-1</td>\n",
              "      <td>8</td>\n",
              "      <td>-1</td>\n",
              "      <td>4</td>\n",
              "      <td>3</td>\n",
              "      <td>0.0</td>\n",
              "      <td>91</td>\n",
              "      <td>8.000</td>\n",
              "      <td>1040</td>\n",
              "      <td>17.250</td>\n",
              "      <td>6</td>\n",
              "      <td>2</td>\n",
              "      <td>-2</td>\n",
              "      <td>143</td>\n",
              "      <td>116</td>\n",
              "      <td>116</td>\n",
              "      <td>0</td>\n",
              "      <td>1</td>\n",
              "      <td>8.7</td>\n",
              "      <td>very bad</td>\n",
              "      <td>1</td>\n",
              "      <td>5</td>\n",
              "      <td>5</td>\n",
              "    </tr>\n",
              "    <tr>\n",
              "      <th>...</th>\n",
              "      <td>...</td>\n",
              "      <td>...</td>\n",
              "      <td>...</td>\n",
              "      <td>...</td>\n",
              "      <td>...</td>\n",
              "      <td>...</td>\n",
              "      <td>...</td>\n",
              "      <td>...</td>\n",
              "      <td>...</td>\n",
              "      <td>...</td>\n",
              "      <td>...</td>\n",
              "      <td>...</td>\n",
              "      <td>...</td>\n",
              "      <td>...</td>\n",
              "      <td>...</td>\n",
              "      <td>...</td>\n",
              "      <td>...</td>\n",
              "      <td>...</td>\n",
              "      <td>...</td>\n",
              "      <td>...</td>\n",
              "      <td>...</td>\n",
              "      <td>...</td>\n",
              "      <td>...</td>\n",
              "      <td>...</td>\n",
              "      <td>...</td>\n",
              "    </tr>\n",
              "    <tr>\n",
              "      <th>360</th>\n",
              "      <td>2019-12-27</td>\n",
              "      <td>13</td>\n",
              "      <td>10</td>\n",
              "      <td>13</td>\n",
              "      <td>10</td>\n",
              "      <td>12</td>\n",
              "      <td>11</td>\n",
              "      <td>0.0</td>\n",
              "      <td>96</td>\n",
              "      <td>7.375</td>\n",
              "      <td>1033</td>\n",
              "      <td>57.625</td>\n",
              "      <td>13</td>\n",
              "      <td>10</td>\n",
              "      <td>8</td>\n",
              "      <td>119</td>\n",
              "      <td>143</td>\n",
              "      <td>116</td>\n",
              "      <td>0</td>\n",
              "      <td>1</td>\n",
              "      <td>8.7</td>\n",
              "      <td>not good not bad</td>\n",
              "      <td>12</td>\n",
              "      <td>27</td>\n",
              "      <td>361</td>\n",
              "    </tr>\n",
              "    <tr>\n",
              "      <th>361</th>\n",
              "      <td>2019-12-28</td>\n",
              "      <td>11</td>\n",
              "      <td>5</td>\n",
              "      <td>12</td>\n",
              "      <td>7</td>\n",
              "      <td>8</td>\n",
              "      <td>8</td>\n",
              "      <td>0.0</td>\n",
              "      <td>93</td>\n",
              "      <td>7.625</td>\n",
              "      <td>1035</td>\n",
              "      <td>39.500</td>\n",
              "      <td>11</td>\n",
              "      <td>9</td>\n",
              "      <td>4</td>\n",
              "      <td>143</td>\n",
              "      <td>116</td>\n",
              "      <td>116</td>\n",
              "      <td>0</td>\n",
              "      <td>1</td>\n",
              "      <td>6.9</td>\n",
              "      <td>very bad</td>\n",
              "      <td>12</td>\n",
              "      <td>28</td>\n",
              "      <td>362</td>\n",
              "    </tr>\n",
              "    <tr>\n",
              "      <th>362</th>\n",
              "      <td>2019-12-29</td>\n",
              "      <td>9</td>\n",
              "      <td>2</td>\n",
              "      <td>11</td>\n",
              "      <td>3</td>\n",
              "      <td>6</td>\n",
              "      <td>7</td>\n",
              "      <td>0.0</td>\n",
              "      <td>86</td>\n",
              "      <td>10.000</td>\n",
              "      <td>1034</td>\n",
              "      <td>4.000</td>\n",
              "      <td>9</td>\n",
              "      <td>4</td>\n",
              "      <td>0</td>\n",
              "      <td>116</td>\n",
              "      <td>116</td>\n",
              "      <td>116</td>\n",
              "      <td>0</td>\n",
              "      <td>1</td>\n",
              "      <td>8.7</td>\n",
              "      <td>very bad</td>\n",
              "      <td>12</td>\n",
              "      <td>29</td>\n",
              "      <td>363</td>\n",
              "    </tr>\n",
              "    <tr>\n",
              "      <th>363</th>\n",
              "      <td>2019-12-30</td>\n",
              "      <td>12</td>\n",
              "      <td>4</td>\n",
              "      <td>7</td>\n",
              "      <td>5</td>\n",
              "      <td>9</td>\n",
              "      <td>9</td>\n",
              "      <td>0.0</td>\n",
              "      <td>61</td>\n",
              "      <td>10.000</td>\n",
              "      <td>1033</td>\n",
              "      <td>1.875</td>\n",
              "      <td>12</td>\n",
              "      <td>4</td>\n",
              "      <td>4</td>\n",
              "      <td>113</td>\n",
              "      <td>113</td>\n",
              "      <td>113</td>\n",
              "      <td>0</td>\n",
              "      <td>1</td>\n",
              "      <td>8.7</td>\n",
              "      <td>very bad</td>\n",
              "      <td>12</td>\n",
              "      <td>30</td>\n",
              "      <td>364</td>\n",
              "    </tr>\n",
              "    <tr>\n",
              "      <th>364</th>\n",
              "      <td>2019-12-31</td>\n",
              "      <td>10</td>\n",
              "      <td>4</td>\n",
              "      <td>13</td>\n",
              "      <td>4</td>\n",
              "      <td>7</td>\n",
              "      <td>9</td>\n",
              "      <td>0.1</td>\n",
              "      <td>94</td>\n",
              "      <td>9.000</td>\n",
              "      <td>1031</td>\n",
              "      <td>32.125</td>\n",
              "      <td>10</td>\n",
              "      <td>8</td>\n",
              "      <td>1</td>\n",
              "      <td>113</td>\n",
              "      <td>143</td>\n",
              "      <td>119</td>\n",
              "      <td>0</td>\n",
              "      <td>1</td>\n",
              "      <td>8.7</td>\n",
              "      <td>very bad</td>\n",
              "      <td>12</td>\n",
              "      <td>31</td>\n",
              "      <td>365</td>\n",
              "    </tr>\n",
              "  </tbody>\n",
              "</table>\n",
              "<p>365 rows × 25 columns</p>\n",
              "</div>"
            ],
            "text/plain": [
              "           DATE  MAX_TEMPERATURE_C  MIN_TEMPERATURE_C  ...  MONTH  DAY  DAY_OF_YEAR\n",
              "0    2019-01-01                  9                  4  ...      1    1            1\n",
              "1    2019-01-02                  8                  5  ...      1    2            2\n",
              "2    2019-01-03                  6                  0  ...      1    3            3\n",
              "3    2019-01-04                  5                 -1  ...      1    4            4\n",
              "4    2019-01-05                  6                 -1  ...      1    5            5\n",
              "..          ...                ...                ...  ...    ...  ...          ...\n",
              "360  2019-12-27                 13                 10  ...     12   27          361\n",
              "361  2019-12-28                 11                  5  ...     12   28          362\n",
              "362  2019-12-29                  9                  2  ...     12   29          363\n",
              "363  2019-12-30                 12                  4  ...     12   30          364\n",
              "364  2019-12-31                 10                  4  ...     12   31          365\n",
              "\n",
              "[365 rows x 25 columns]"
            ]
          },
          "metadata": {},
          "execution_count": 23
        }
      ]
    },
    {
      "cell_type": "code",
      "metadata": {
        "id": "UbXYoLFyXCmj"
      },
      "source": [],
      "execution_count": null,
      "outputs": []
    },
    {
      "cell_type": "markdown",
      "metadata": {
        "id": "ep681xN4NTkS"
      },
      "source": [
        "# ScatterPlot\n",
        "Draw a scatterplot with MAX Temperature on Y-axis, and the most correlated column on X-axis"
      ]
    },
    {
      "cell_type": "code",
      "metadata": {
        "id": "04k6UUhVNXJh",
        "colab": {
          "base_uri": "https://localhost:8080/",
          "height": 297
        },
        "outputId": "ae67958f-873b-40b8-accb-bea5a3cffea4"
      },
      "source": [
        "# Hop !\n",
        "sns.scatterplot(x=\"MAX_TEMPERATURE_C\", y=CorrelMaxTemp, data=df_weather)"
      ],
      "execution_count": null,
      "outputs": [
        {
          "output_type": "execute_result",
          "data": {
            "text/plain": [
              "<matplotlib.axes._subplots.AxesSubplot at 0x7f873172f310>"
            ]
          },
          "metadata": {},
          "execution_count": 24
        },
        {
          "output_type": "display_data",
          "data": {
            "image/png": "[encoded data removed]",
            "text/plain": [
              "<Figure size 432x288 with 1 Axes>"
            ]
          },
          "metadata": {
            "needs_background": "light"
          }
        }
      ]
    },
    {
      "cell_type": "markdown",
      "metadata": {
        "id": "T5ZOJ__4O3sI"
      },
      "source": [
        "# Univariate linear regression with NumPy"
      ]
    },
    {
      "cell_type": "markdown",
      "metadata": {
        "id": "KSACp89LRhLt"
      },
      "source": [
        "## Find the equation"
      ]
    },
    {
      "cell_type": "code",
      "metadata": {
        "id": "Ve7i5RfcN7gZ"
      },
      "source": [
        "# NumPy can find the coefficients of the linear regression\n",
        "\n",
        "# First of all, you have to define 2 series :\n",
        "# X-axis : the most correlated column, that you found above\n",
        "Xaxis = df_weather[CorrelMaxTemp] # Complete with your column\n",
        "\n",
        "# Y-axis : the column to predict, so Max Temperature here\n",
        "Yaxis = df_weather['MAX_TEMPERATURE_C']\n",
        "\n"
      ],
      "execution_count": null,
      "outputs": []
    },
    {
      "cell_type": "code",
      "metadata": {
        "id": "EM5clOC4RqVv",
        "colab": {
          "base_uri": "https://localhost:8080/"
        },
        "outputId": "09b76b88-77f5-4608-cd34-d4c10ba08cb3"
      },
      "source": [
        "# Then, NumPy calculate automatically coefficient. You just have to execute this code.\n",
        "\n",
        "model = np.polyfit(x = Xaxis, y = Yaxis, deg = 1)\n",
        "\n",
        "print(\"What's the type of this model ?, \", type(model))\n",
        "print(\"What's inside ?, \", model)\n",
        "print(\"\\nHow can I read it ? \\nDo you know linear function equation : f(x) = ax + b ? That's it !\")\n",
        "print(round(model[0], 3) ,\" * x  +  \", round(model[1], 3) )"
      ],
      "execution_count": null,
      "outputs": [
        {
          "output_type": "stream",
          "name": "stdout",
          "text": [
            "What's the type of this model ?,  <class 'numpy.ndarray'>\n",
            "What's inside ?,  [0.93721643 0.74475835]\n",
            "\n",
            "How can I read it ? \n",
            "Do you know linear function equation : f(x) = ax + b ? That's it !\n",
            "0.937  * x  +   0.745\n"
          ]
        }
      ]
    },
    {
      "cell_type": "markdown",
      "metadata": {
        "id": "gkN0f7MiT6Ph"
      },
      "source": [
        "## Prediction"
      ]
    },
    {
      "cell_type": "code",
      "metadata": {
        "id": "-d_A_-WbT8Aa",
        "colab": {
          "base_uri": "https://localhost:8080/"
        },
        "outputId": "343bfc9a-269d-4c30-c9e8-b6c5b0a956aa"
      },
      "source": [
        "# You can \"predict\" the Max Temperature from your column and the equation\n",
        "# For example, let's try if your column value is 21.\n",
        "\n",
        "# Hand calculation :\n",
        "print(\"By hand :\", model[0] * 21 + model[1] ) # ax + b\n",
        "\n",
        "# With a NumPy function :\n",
        "print(\"NumPy :  \", np.poly1d(model)(21) )\n",
        "\n",
        "# And NumPy can calculate the prediction on multiple values, let's try with a list of values :\n",
        "listtest = [12, 21, 30]\n",
        "print(\"NumPy list of values :  \", np.poly1d(model)(listtest))"
      ],
      "execution_count": null,
      "outputs": [
        {
          "output_type": "stream",
          "name": "stdout",
          "text": [
            "By hand : 20.426303380116146\n",
            "NumPy :   20.426303380116146\n",
            "NumPy list of values :   [11.99135551 20.42630338 28.86125125]\n"
          ]
        }
      ]
    },
    {
      "cell_type": "markdown",
      "metadata": {
        "id": "dsPxgWvwRezc"
      },
      "source": [
        "## Scatterplot and linear regression on the same chart"
      ]
    },
    {
      "cell_type": "code",
      "metadata": {
        "id": "nlCupby6SG6K"
      },
      "source": [
        "# You have to define your Min and Max value for the X-axis\n",
        "Xmin = Xaxis.min()\n",
        "Xmax = Xaxis.max()            # Complete this code\n",
        "\n",
        "# We generate an array with a range of values between your min and max values\n",
        "array = np.arange(Xmin, Xmax)"
      ],
      "execution_count": null,
      "outputs": []
    },
    {
      "cell_type": "code",
      "metadata": {
        "id": "HiVJiHp5Oe9g",
        "colab": {
          "base_uri": "https://localhost:8080/"
        },
        "outputId": "e86edb5d-42bc-4a59-9da9-29f3450b0f87"
      },
      "source": [
        "# Please display your array. Just execute the code below:\n",
        "array"
      ],
      "execution_count": null,
      "outputs": [
        {
          "output_type": "execute_result",
          "data": {
            "text/plain": [
              "array([ 5,  6,  7,  8,  9, 10, 11, 12, 13, 14, 15, 16, 17, 18, 19, 20, 21,\n",
              "       22, 23, 24, 25, 26, 27, 28, 29, 30, 31, 32, 33, 34, 35, 36, 37, 38,\n",
              "       39, 40])"
            ]
          },
          "metadata": {},
          "execution_count": 29
        }
      ]
    },
    {
      "cell_type": "code",
      "metadata": {
        "id": "Jg-Vp6BcOjWu",
        "colab": {
          "base_uri": "https://localhost:8080/"
        },
        "outputId": "d64c0094-3a0b-41e3-873e-5051fb18879f"
      },
      "source": [
        "# Please display prediction based on the array-values. Just execute the code below:\n",
        "np.poly1d(model)(array)"
      ],
      "execution_count": null,
      "outputs": [
        {
          "output_type": "execute_result",
          "data": {
            "text/plain": [
              "array([ 5.4308405 ,  6.36805693,  7.30527336,  8.24248979,  9.17970622,\n",
              "       10.11692265, 11.05413908, 11.99135551, 12.92857194, 13.86578837,\n",
              "       14.8030048 , 15.74022123, 16.67743766, 17.61465409, 18.55187052,\n",
              "       19.48908695, 20.42630338, 21.36351981, 22.30073624, 23.23795267,\n",
              "       24.1751691 , 25.11238553, 26.04960196, 26.98681839, 27.92403482,\n",
              "       28.86125125, 29.79846768, 30.73568411, 31.67290054, 32.61011697,\n",
              "       33.5473334 , 34.48454983, 35.42176626, 36.35898269, 37.29619912,\n",
              "       38.23341555])"
            ]
          },
          "metadata": {},
          "execution_count": 30
        }
      ]
    },
    {
      "cell_type": "code",
      "metadata": {
        "id": "dBFB5LKWTBFW",
        "colab": {
          "base_uri": "https://localhost:8080/",
          "height": 265
        },
        "outputId": "08d57478-b187-4366-c07a-f83ecf4c01ca"
      },
      "source": [
        "# On the same chart, draw :\n",
        "#         the same scatterplot than above, in blue\n",
        "#         a red line plot with the array on X-axis and prediction based on the array-values on Y-axis (use np.poly1d function, as previously)\n",
        "# It's your turn now :\n",
        "\n",
        "plt.scatter(Xaxis, Yaxis,  c='blue')\n",
        "plt.plot(array, np.poly1d(model)(array), c='red')\n",
        "plt.show()"
      ],
      "execution_count": null,
      "outputs": [
        {
          "output_type": "display_data",
          "data": {
            "image/png": "[encoded data removed]",
            "text/plain": [
              "<Figure size 432x288 with 1 Axes>"
            ]
          },
          "metadata": {
            "needs_background": "light"
          }
        }
      ]
    },
    {
      "cell_type": "markdown",
      "metadata": {
        "id": "dFAWMdOnR62a"
      },
      "source": [
        "## Compare it with Seaborn\n",
        "Draw a [regplot with Seaborn](https://seaborn.pydata.org/generated/seaborn.regplot.html), and compare your charts. It's simpler with Seaborn, but you can't access to the coeffeicient..."
      ]
    },
    {
      "cell_type": "code",
      "metadata": {
        "id": "a4sHe-Q8SP8f",
        "colab": {
          "base_uri": "https://localhost:8080/",
          "height": 351
        },
        "outputId": "ac4e3b20-b8c4-438b-854a-fd65d81fdd6d"
      },
      "source": [
        "# Your code for the regplot with seaborn here :\n",
        "import seaborn as sbs\n",
        "\n",
        "sbs.regplot(Xaxis, Yaxis)"
      ],
      "execution_count": null,
      "outputs": [
        {
          "output_type": "stream",
          "name": "stderr",
          "text": [
            "/usr/local/lib/python3.7/dist-packages/seaborn/_decorators.py:43: FutureWarning: Pass the following variables as keyword args: x, y. From version 0.12, the only valid positional argument will be `data`, and passing other arguments without an explicit keyword will result in an error or misinterpretation.\n",
            "  FutureWarning\n"
          ]
        },
        {
          "output_type": "execute_result",
          "data": {
            "text/plain": [
              "<matplotlib.axes._subplots.AxesSubplot at 0x7f8731603dd0>"
            ]
          },
          "metadata": {},
          "execution_count": 36
        },
        {
          "output_type": "display_data",
          "data": {
            "image/png": "[encoded data removed]",
            "text/plain": [
              "<Figure size 432x288 with 1 Axes>"
            ]
          },
          "metadata": {
            "needs_background": "light"
          }
        }
      ]
    },
    {
      "cell_type": "markdown",
      "metadata": {
        "id": "lcFsGn7tVKmR"
      },
      "source": [
        "# Polynomial regression"
      ]
    },
    {
      "cell_type": "markdown",
      "metadata": {
        "id": "PsVRfDicW_Hj"
      },
      "source": [
        "## Create a new model, similar to the previous model, but the X-axis has to be 'Day of the year' column. Y-axis is unchanged (Max Temperature).\n",
        "\n",
        "Here is an example of expected chart :\n",
        "\n",
        "![lineplot.png](data:image/png;base64,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)\n"
      ]
    },
    {
      "cell_type": "code",
      "metadata": {
        "id": "YpfY2IFPXSzE",
        "colab": {
          "base_uri": "https://localhost:8080/",
          "height": 282
        },
        "outputId": "888dacdd-8fb0-4d71-a375-3effedc5eb92"
      },
      "source": [
        "# Follow the same step as previously, to obtain a chart with :\n",
        "#       blue scatterplot with real values\n",
        "#       red lineplot with predicted values (linear regression)\n",
        "#       'Day of the year' on X-axis\n",
        "#       Max temperature on Y-axis\n",
        "# Be carefull : we change the X-axis, so you have to define one more time variables Xaxis, Xmin, Xmax and array before create your \"polymodel\" with \"polyfit\"\n",
        "\n",
        "polymodel = np.polyfit(df_weather[\"DAY_OF_YEAR\"],df_weather[\"MAX_TEMPERATURE_C\"],1)\n",
        "plt.scatter(x=df_weather[\"DAY_OF_YEAR\"],y=df_weather[\"MAX_TEMPERATURE_C\"],c='blue')\n",
        "plt.plot(df_weather[\"DAY_OF_YEAR\"],np.poly1d(polymodel)(df_weather[\"DAY_OF_YEAR\"]),c='red')"
      ],
      "execution_count": null,
      "outputs": [
        {
          "output_type": "execute_result",
          "data": {
            "text/plain": [
              "[<matplotlib.lines.Line2D at 0x7f873146b7d0>]"
            ]
          },
          "metadata": {},
          "execution_count": 37
        },
        {
          "output_type": "display_data",
          "data": {
            "image/png": "[encoded data removed]",
            "text/plain": [
              "<Figure size 432x288 with 1 Axes>"
            ]
          },
          "metadata": {
            "needs_background": "light"
          }
        }
      ]
    },
    {
      "cell_type": "markdown",
      "metadata": {
        "id": "fiStO3QDYSWk"
      },
      "source": [
        "## It doesn't seem a good prediction ? Let's try to change the degree (deg argument of the polyfit function)\n",
        "[More information here](https://docs.scipy.org/doc/numpy/reference/generated/numpy.polyfit.html)"
      ]
    },
    {
      "cell_type": "code",
      "metadata": {
        "id": "xjpVJPSGVSjI",
        "colab": {
          "base_uri": "https://localhost:8080/",
          "height": 282
        },
        "outputId": "23d1102a-7d5b-4b88-f52c-d2ed595b1c61"
      },
      "source": [
        "# Copy-paste your code, and just change the \"deg\" argument to find a better value\n",
        "polymodel = np.polyfit(df_weather[\"DAY_OF_YEAR\"],df_weather[\"MAX_TEMPERATURE_C\"],3)\n",
        "plt.scatter(x=df_weather[\"DAY_OF_YEAR\"],y=df_weather[\"MAX_TEMPERATURE_C\"],c='blue')\n",
        "plt.plot(df_weather[\"DAY_OF_YEAR\"],np.poly1d(polymodel)(df_weather[\"DAY_OF_YEAR\"]),c='red')"
      ],
      "execution_count": null,
      "outputs": [
        {
          "output_type": "execute_result",
          "data": {
            "text/plain": [
              "[<matplotlib.lines.Line2D at 0x7f87313e9150>]"
            ]
          },
          "metadata": {},
          "execution_count": 38
        },
        {
          "output_type": "display_data",
          "data": {
            "image/png": "[encoded data removed]",
            "text/plain": [
              "<Figure size 432x288 with 1 Axes>"
            ]
          },
          "metadata": {
            "needs_background": "light"
          }
        }
      ]
    },
    {
      "cell_type": "markdown",
      "metadata": {
        "id": "VVO8ZnDDJC1D"
      },
      "source": [
        "## Calculate the predicted Max temperature for the day 171\n",
        "You have to calculate twice :\n",
        "- by hand\n",
        "- with numpy function"
      ]
    },
    {
      "cell_type": "code",
      "metadata": {
        "id": "ejEpQWnwJXfn",
        "colab": {
          "base_uri": "https://localhost:8080/"
        },
        "outputId": "f38d4c5a-8f8a-4b2e-ed06-24893365b173"
      },
      "source": [
        "# Your code here\n",
        "byhand=polymodel[0] * 171**3 + polymodel[1]*171**2+polymodel[2]*171+polymodel[3]\n",
        "nfunction= np.poly1d(polymodel)(171)\n",
        "\n",
        "print(byhand,nfunction)"
      ],
      "execution_count": null,
      "outputs": [
        {
          "output_type": "stream",
          "name": "stdout",
          "text": [
            "21.9301418348153 21.9301418348153\n"
          ]
        }
      ]
    },
    {
      "cell_type": "markdown",
      "metadata": {
        "id": "ANtQeSwBYoSr"
      },
      "source": [
        "# Yes, you did it ! Now, let's save our work in the DataFrame"
      ]
    },
    {
      "cell_type": "markdown",
      "metadata": {
        "id": "e17gcDNQZ1vS"
      },
      "source": [
        "## Create a new column in the DataFrame, and find a way to write in this column the predicted values corresponding to the Day of the year column. This method could be usefull to fill missing values or outliers for example.\n"
      ]
    },
    {
      "cell_type": "code",
      "metadata": {
        "id": "IWo908roVZxg"
      },
      "source": [
        "df_weather[\"PREDICTION\"]=np.poly1d(polymodel)(df_weather[\"DAY_OF_YEAR\"])"
      ],
      "execution_count": null,
      "outputs": []
    },
    {
      "cell_type": "code",
      "metadata": {
        "id": "qS6Y9Agmf4Bq",
        "colab": {
          "base_uri": "https://localhost:8080/",
          "height": 309
        },
        "outputId": "029c0c03-39bf-403a-ec3d-57c517209cd7"
      },
      "source": [
        "df_weather.head()"
      ],
      "execution_count": null,
      "outputs": [
        {
          "output_type": "execute_result",
          "data": {
            "text/html": [
              "<div>\n",
              "<style scoped>\n",
              "    .dataframe tbody tr th:only-of-type {\n",
              "        vertical-align: middle;\n",
              "    }\n",
              "\n",
              "    .dataframe tbody tr th {\n",
              "        vertical-align: top;\n",
              "    }\n",
              "\n",
              "    .dataframe thead th {\n",
              "        text-align: right;\n",
              "    }\n",
              "</style>\n",
              "<table border=\"1\" class=\"dataframe\">\n",
              "  <thead>\n",
              "    <tr style=\"text-align: right;\">\n",
              "      <th></th>\n",
              "      <th>DATE</th>\n",
              "      <th>MAX_TEMPERATURE_C</th>\n",
              "      <th>MIN_TEMPERATURE_C</th>\n",
              "      <th>WINDSPEED_MAX_KMH</th>\n",
              "      <th>TEMPERATURE_MORNING_C</th>\n",
              "      <th>TEMPERATURE_NOON_C</th>\n",
              "      <th>TEMPERATURE_EVENING_C</th>\n",
              "      <th>PRECIP_TOTAL_DAY_MM</th>\n",
              "      <th>HUMIDITY_MAX_PERCENT</th>\n",
              "      <th>VISIBILITY_AVG_KM</th>\n",
              "      <th>PRESSURE_MAX_MB</th>\n",
              "      <th>CLOUDCOVER_AVG_PERCENT</th>\n",
              "      <th>HEATINDEX_MAX_C</th>\n",
              "      <th>DEWPOINT_MAX_C</th>\n",
              "      <th>WINDTEMP_MAX_C</th>\n",
              "      <th>WEATHER_CODE_MORNING</th>\n",
              "      <th>WEATHER_CODE_NOON</th>\n",
              "      <th>WEATHER_CODE_EVENING</th>\n",
              "      <th>TOTAL_SNOW_MM</th>\n",
              "      <th>UV_INDEX</th>\n",
              "      <th>SUNHOUR</th>\n",
              "      <th>OPINION</th>\n",
              "      <th>MONTH</th>\n",
              "      <th>DAY</th>\n",
              "      <th>DAY_OF_YEAR</th>\n",
              "      <th>PREDICTION</th>\n",
              "    </tr>\n",
              "  </thead>\n",
              "  <tbody>\n",
              "    <tr>\n",
              "      <th>0</th>\n",
              "      <td>2019-01-01</td>\n",
              "      <td>9</td>\n",
              "      <td>4</td>\n",
              "      <td>10</td>\n",
              "      <td>4</td>\n",
              "      <td>7</td>\n",
              "      <td>8</td>\n",
              "      <td>0.2</td>\n",
              "      <td>94</td>\n",
              "      <td>9.0</td>\n",
              "      <td>1037</td>\n",
              "      <td>62.250</td>\n",
              "      <td>9</td>\n",
              "      <td>6</td>\n",
              "      <td>3</td>\n",
              "      <td>116</td>\n",
              "      <td>143</td>\n",
              "      <td>176</td>\n",
              "      <td>0</td>\n",
              "      <td>1</td>\n",
              "      <td>5.1</td>\n",
              "      <td>very bad</td>\n",
              "      <td>1</td>\n",
              "      <td>1</td>\n",
              "      <td>1</td>\n",
              "      <td>6.690481</td>\n",
              "    </tr>\n",
              "    <tr>\n",
              "      <th>1</th>\n",
              "      <td>2019-01-02</td>\n",
              "      <td>8</td>\n",
              "      <td>5</td>\n",
              "      <td>18</td>\n",
              "      <td>7</td>\n",
              "      <td>7</td>\n",
              "      <td>5</td>\n",
              "      <td>0.0</td>\n",
              "      <td>90</td>\n",
              "      <td>9.0</td>\n",
              "      <td>1040</td>\n",
              "      <td>58.125</td>\n",
              "      <td>8</td>\n",
              "      <td>6</td>\n",
              "      <td>3</td>\n",
              "      <td>119</td>\n",
              "      <td>116</td>\n",
              "      <td>116</td>\n",
              "      <td>0</td>\n",
              "      <td>1</td>\n",
              "      <td>8.7</td>\n",
              "      <td>very bad</td>\n",
              "      <td>1</td>\n",
              "      <td>2</td>\n",
              "      <td>2</td>\n",
              "      <td>6.773027</td>\n",
              "    </tr>\n",
              "    <tr>\n",
              "      <th>2</th>\n",
              "      <td>2019-01-03</td>\n",
              "      <td>6</td>\n",
              "      <td>0</td>\n",
              "      <td>18</td>\n",
              "      <td>0</td>\n",
              "      <td>4</td>\n",
              "      <td>3</td>\n",
              "      <td>0.0</td>\n",
              "      <td>88</td>\n",
              "      <td>10.0</td>\n",
              "      <td>1040</td>\n",
              "      <td>37.000</td>\n",
              "      <td>6</td>\n",
              "      <td>1</td>\n",
              "      <td>-4</td>\n",
              "      <td>116</td>\n",
              "      <td>116</td>\n",
              "      <td>116</td>\n",
              "      <td>0</td>\n",
              "      <td>1</td>\n",
              "      <td>8.7</td>\n",
              "      <td>very bad</td>\n",
              "      <td>1</td>\n",
              "      <td>3</td>\n",
              "      <td>3</td>\n",
              "      <td>6.856155</td>\n",
              "    </tr>\n",
              "    <tr>\n",
              "      <th>3</th>\n",
              "      <td>2019-01-04</td>\n",
              "      <td>5</td>\n",
              "      <td>-1</td>\n",
              "      <td>15</td>\n",
              "      <td>-1</td>\n",
              "      <td>4</td>\n",
              "      <td>3</td>\n",
              "      <td>0.0</td>\n",
              "      <td>91</td>\n",
              "      <td>10.0</td>\n",
              "      <td>1040</td>\n",
              "      <td>42.625</td>\n",
              "      <td>5</td>\n",
              "      <td>1</td>\n",
              "      <td>-4</td>\n",
              "      <td>116</td>\n",
              "      <td>116</td>\n",
              "      <td>122</td>\n",
              "      <td>0</td>\n",
              "      <td>1</td>\n",
              "      <td>5.1</td>\n",
              "      <td>very bad</td>\n",
              "      <td>1</td>\n",
              "      <td>4</td>\n",
              "      <td>4</td>\n",
              "      <td>6.939857</td>\n",
              "    </tr>\n",
              "    <tr>\n",
              "      <th>4</th>\n",
              "      <td>2019-01-05</td>\n",
              "      <td>6</td>\n",
              "      <td>-1</td>\n",
              "      <td>8</td>\n",
              "      <td>-1</td>\n",
              "      <td>4</td>\n",
              "      <td>3</td>\n",
              "      <td>0.0</td>\n",
              "      <td>91</td>\n",
              "      <td>8.0</td>\n",
              "      <td>1040</td>\n",
              "      <td>17.250</td>\n",
              "      <td>6</td>\n",
              "      <td>2</td>\n",
              "      <td>-2</td>\n",
              "      <td>143</td>\n",
              "      <td>116</td>\n",
              "      <td>116</td>\n",
              "      <td>0</td>\n",
              "      <td>1</td>\n",
              "      <td>8.7</td>\n",
              "      <td>very bad</td>\n",
              "      <td>1</td>\n",
              "      <td>5</td>\n",
              "      <td>5</td>\n",
              "      <td>7.024122</td>\n",
              "    </tr>\n",
              "  </tbody>\n",
              "</table>\n",
              "</div>"
            ],
            "text/plain": [
              "         DATE  MAX_TEMPERATURE_C  ...  DAY_OF_YEAR  PREDICTION\n",
              "0  2019-01-01                  9  ...            1    6.690481\n",
              "1  2019-01-02                  8  ...            2    6.773027\n",
              "2  2019-01-03                  6  ...            3    6.856155\n",
              "3  2019-01-04                  5  ...            4    6.939857\n",
              "4  2019-01-05                  6  ...            5    7.024122\n",
              "\n",
              "[5 rows x 26 columns]"
            ]
          },
          "metadata": {},
          "execution_count": 41
        }
      ]
    }
  ]
}