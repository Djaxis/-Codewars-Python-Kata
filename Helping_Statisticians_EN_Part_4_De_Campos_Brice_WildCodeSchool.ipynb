{
  "nbformat": 4,
  "nbformat_minor": 0,
  "metadata": {
    "colab": {
      "provenance": [],
      "include_colab_link": true
    },
    "kernelspec": {
      "name": "python3",
      "display_name": "Python 3"
    }
  },
  "cells": [
    {
      "cell_type": "markdown",
      "metadata": {
        "id": "view-in-github",
        "colab_type": "text"
      },
      "source": [
        "<a href=\"https://colab.research.google.com/github/Djaxis/MY-Python-Evolution/blob/main/Helping_Statisticians_EN_Part_4_De_Campos_Brice_WildCodeSchool.ipynb\" target=\"_parent\"><img src=\"https://colab.research.google.com/assets/colab-badge.svg\" alt=\"Open In Colab\"/></a>"
      ]
    },
    {
      "cell_type": "markdown",
      "metadata": {
        "id": "zsHobPhC3ffd"
      },
      "source": [
        "## Mathematical functions that need coding\n",
        "\n",
        "\n",
        "**Now the statisticians are begging you to code ready-made math functions for them. Below are the functions they use most often. Code the function in the cells below ;-) :**\n",
        "\n",
        "- Power of x : Create a function that takes in two numbers as parameters, a number and a power, and returns that number to the indicated power.\n",
        "- Prime number less than x : Create a function that takes a number and returns all the prime numbers that are less than it.\n",
        "- Continuation of Fibonacci : Create a function that takes no parameters, but returns the first 30 numbers in the Fibonnaci sequence.\n",
        "- Square root: Create a function that returns the square root of a number."
      ]
    },
    {
      "cell_type": "code",
      "metadata": {
        "id": "5YhLQIHGnMtD",
        "colab": {
          "base_uri": "https://localhost:8080/"
        },
        "outputId": "efa56038-a3cc-43d3-d10f-f4ec9daec4dc"
      },
      "source": [
        "# Power of x\n",
        "x= 23\n",
        "p= 9\n",
        "\n",
        "def puissance(x, p): # elle va calculer le résultat de x élevé à la puissance p \n",
        "    resultat = x**p\n",
        "    return resultat\n",
        "print(f\"{x} à la puissance {p} est égal à {puissance(x, p)}\")"
      ],
      "execution_count": 7,
      "outputs": [
        {
          "output_type": "stream",
          "name": "stdout",
          "text": [
            "23 à la puissance 9 est égal à 1801152661463\n"
          ]
        }
      ]
    },
    {
      "cell_type": "code",
      "source": [
        "# Prime number less than x ---- Fonction pour trouver tous les nombres premiers inférieurs à x :\n",
        "\n",
        "def est_premier(n):\n",
        "    if n < 2:\n",
        "        return False\n",
        "    for i in range(2, int(n**0.5)+1): #vérifie si un nombre donné est premier en cherchant des diviseurs compris entre 2 et la racine carrée du nombre. \n",
        "        if n % i == 0:\n",
        "            return False\n",
        "    return True\n",
        "\n",
        "def nombres_premiers_inférieurs_à(x):\n",
        "    premiers = []\n",
        "    \n",
        "    for i in range(2, x):\n",
        "        if est_premier(i):\n",
        "            premiers.append(i)\n",
        "    return premiers\n",
        "\n",
        "premiers = nombres_premiers_inférieurs_à(20)\n",
        "print(premiers)"
      ],
      "metadata": {
        "colab": {
          "base_uri": "https://localhost:8080/"
        },
        "id": "Hi-2elW-as-4",
        "outputId": "19165ceb-f264-4b13-f8fe-5c9f76489d08"
      },
      "execution_count": 9,
      "outputs": [
        {
          "output_type": "stream",
          "name": "stdout",
          "text": [
            "[2, 3, 5, 7, 11, 13, 17, 19]\n"
          ]
        }
      ]
    },
    {
      "cell_type": "code",
      "source": [
        "# Continuation of Fibonacci : Create a function that takes no parameters, but returns the first 30 numbers in the Fibonnaci sequence.\n",
        "# Fonction pour trouver les 30 premiers nombres de la suite de Fibonacci.\n",
        "def fibonacci():\n",
        "    fib = [0, 1]\n",
        "    for i in range(2, 30):\n",
        "        fib.append(fib[i-1] + fib[i-2]) # À chaque itération de la boucle, nous ajoutons à la liste \"fib\" le résultat de la somme des deux termes précédents, qui sont \"fib[i-1]\" et \"fib[i-2]\".\n",
        "    return fib\n",
        "fib = fibonacci()\n",
        "print(fib)"
      ],
      "metadata": {
        "colab": {
          "base_uri": "https://localhost:8080/"
        },
        "id": "guflWsWDbmXp",
        "outputId": "682c4a9e-7a8f-4dc4-9614-89c55e91fb95"
      },
      "execution_count": 15,
      "outputs": [
        {
          "output_type": "stream",
          "name": "stdout",
          "text": [
            "[0, 1, 1, 2, 3, 5, 8, 13, 21, 34, 55, 89, 144, 233, 377, 610, 987, 1597, 2584, 4181, 6765, 10946, 17711, 28657, 46368, 75025, 121393, 196418, 317811, 514229]\n"
          ]
        }
      ]
    },
    {
      "cell_type": "code",
      "source": [
        "n = 10\n",
        "fib = [0, 1]\n",
        "\n",
        "for i in range(2, n):\n",
        "    fib.append(fib[i-1] + fib[i-2])\n",
        "\n",
        "print(fib)"
      ],
      "metadata": {
        "colab": {
          "base_uri": "https://localhost:8080/"
        },
        "id": "r9lfmXzYpd9k",
        "outputId": "acf9d000-520c-4b81-ab39-28a9ec7e01cb"
      },
      "execution_count": 14,
      "outputs": [
        {
          "output_type": "stream",
          "name": "stdout",
          "text": [
            "[0, 1, 1, 2, 3, 5, 8, 13, 21, 34]\n"
          ]
        }
      ]
    },
    {
      "cell_type": "code",
      "source": [
        "# Fonction pour calculer la racine carrée d'un nombre : ---Square root: Create a function that returns the square root of a number.\n",
        "def racine_carree(x):\n",
        "  \n",
        "    resultatracine = x**0.5\n",
        "    return  resultatracine\n",
        "\n",
        "resultat = racine_carree(9)\n",
        "print(resultat)"
      ],
      "metadata": {
        "colab": {
          "base_uri": "https://localhost:8080/"
        },
        "id": "xAZ48d-Lb_lh",
        "outputId": "014be44b-56c2-451c-d92d-b73806eef590"
      },
      "execution_count": 27,
      "outputs": [
        {
          "output_type": "stream",
          "name": "stdout",
          "text": [
            "3.0\n"
          ]
        }
      ]
    },
    {
      "cell_type": "markdown",
      "metadata": {
        "id": "AqCWp4543lAd"
      },
      "source": [
        "# The central theorem limits\n",
        "\n",
        "The code below simulates the **central limit theorem**. You must replace the following functions with your own functions all the while achieving the same visual result :\n",
        "\n",
        "\n",
        "* sqrt(): Your square root function\n",
        "* pow() : Your power function of x\n",
        "\n"
      ]
    },
    {
      "cell_type": "code",
      "metadata": {
        "id": "zxu2w-qU3fK2",
        "colab": {
          "base_uri": "https://localhost:8080/",
          "height": 265
        },
        "outputId": "40be33e1-c7e4-4321-84b3-f055eff72f13"
      },
      "source": [
        "# Code example\n",
        "\n",
        "import numpy as np\n",
        "import matplotlib.pyplot as plt\n",
        "from math import sqrt, pi, exp\n",
        "\n",
        "domain = range(-100,100)\n",
        "mu = 0\n",
        "sigma = 20\n",
        "\n",
        "f = lambda x : 1/(sqrt(2*pi*pow(sigma,2))) * exp(-pow((x-mu),2)/(2*pow(sigma,2)))\n",
        "\n",
        "y = [f(x) for x in domain]\n",
        "plot = plt.plot(domain, y)"
      ],
      "execution_count": null,
      "outputs": [
        {
          "output_type": "display_data",
          "data": {
            "image/png": "[encoded data removed]",
            "text/plain": [
              "<Figure size 432x288 with 1 Axes>"
            ]
          },
          "metadata": {
            "needs_background": "light"
          }
        }
      ]
    },
    {
      "cell_type": "code",
      "source": [],
      "metadata": {
        "id": "xO-8Egi-vtGL"
      },
      "execution_count": null,
      "outputs": []
    },
    {
      "cell_type": "code",
      "source": [
        "# Fonction pour calculer la racine carrée d'un nombre : ---Square root: Create a function that returns the square root of a number.\n",
        "def racine_carree(x):\n",
        "  \n",
        "    resultatracine = x**0.5\n",
        "    return  resultatracine\n",
        "\n",
        "resultat = racine_carree(9)\n",
        "print(resultat)"
      ],
      "metadata": {
        "colab": {
          "base_uri": "https://localhost:8080/"
        },
        "outputId": "014be44b-56c2-451c-d92d-b73806eef590",
        "id": "Grz2zxsIvvcl"
      },
      "execution_count": null,
      "outputs": [
        {
          "output_type": "stream",
          "name": "stdout",
          "text": [
            "3.0\n"
          ]
        }
      ]
    },
    {
      "cell_type": "code",
      "source": [
        "# Power of x\n",
        "x= 23\n",
        "p= 9\n",
        "\n",
        "def puissance(x, p): # elle va calculer le résultat de x élevé à la puissance p \n",
        "    resultat = x**p\n",
        "    return resultat\n",
        "print(f\"{x} à la puissance {p} est égal à {puissance(x, p)}\")"
      ],
      "metadata": {
        "colab": {
          "base_uri": "https://localhost:8080/"
        },
        "id": "Umz14I32vwej",
        "outputId": "537661e3-e088-40cf-c50f-4f65fdf25802"
      },
      "execution_count": 32,
      "outputs": [
        {
          "output_type": "stream",
          "name": "stdout",
          "text": [
            "23 à la puissance 9 est égal à 1801152661463\n"
          ]
        }
      ]
    },
    {
      "cell_type": "code",
      "metadata": {
        "id": "IhjaJ1A03q_q",
        "colab": {
          "base_uri": "https://localhost:8080/",
          "height": 265
        },
        "outputId": "62453db1-573d-418e-878f-81b49b4b8861"
      },
      "source": [
        "# Your code\n",
        "# The visual must be the same as above using your function\n",
        "# myFunctionRacineCarre and myFunctionPowerOfX\n",
        "\n",
        "import numpy as np\n",
        "import matplotlib.pyplot as plt\n",
        "from math import sqrt, pi, exp\n",
        "\n",
        "domain = range(-100,100)\n",
        "mu = 0\n",
        "sigma = 20\n",
        "\n",
        "#injection de mes fonctions :\n",
        "def mySquareRootFunction(x):\n",
        "    return racine_carree(x)\n",
        "\n",
        "def myXPowerFunction(x, p):\n",
        "    return puissance(x, p)\n",
        "\n",
        "\n",
        "f = lambda x : 1/(mySquareRootFunction(2*pi*myXPowerFunction(sigma,2))) * exp(-myXPowerFunction((x-mu),2)/(2*myXPowerFunction(sigma,2)))\n",
        "\n",
        "y = [f(x) for x in domain]\n",
        "plot = plt.plot(domain, y)"
      ],
      "execution_count": 33,
      "outputs": [
        {
          "output_type": "display_data",
          "data": {
            "text/plain": [
              "<Figure size 432x288 with 1 Axes>"
            ],
            "image/png": "[encoded data removed]"
          },
          "metadata": {
            "needs_background": "light"
          }
        }
      ]
    }
  ]
}