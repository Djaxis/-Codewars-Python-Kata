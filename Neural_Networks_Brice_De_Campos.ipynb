{
  "nbformat": 4,
  "nbformat_minor": 0,
  "metadata": {
    "colab": {
      "provenance": [],
      "include_colab_link": true
    },
    "kernelspec": {
      "name": "python3",
      "display_name": "Python 3"
    },
    "accelerator": "GPU"
  },
  "cells": [
    {
      "cell_type": "markdown",
      "metadata": {
        "id": "view-in-github",
        "colab_type": "text"
      },
      "source": [
        "<a href=\"https://colab.research.google.com/github/Djaxis/MY-Python-Evolution/blob/main/Neural_Networks_Brice_De_Campos.ipynb\" target=\"_parent\"><img src=\"https://colab.research.google.com/assets/colab-badge.svg\" alt=\"Open In Colab\"/></a>"
      ]
    },
    {
      "cell_type": "code",
      "metadata": {
        "id": "kPGv9wRu_Z1Z"
      },
      "source": [
        "\n",
        "import tensorflow as tf\n",
        "import numpy as np\n",
        "import matplotlib.pyplot as plt\n",
        "from tensorflow.keras.layers import Input, Conv2D, Dense, Flatten, Dropout, GlobalMaxPooling2D\n",
        "from tensorflow.keras.models import Model"
      ],
      "execution_count": null,
      "outputs": []
    },
    {
      "cell_type": "code",
      "metadata": {
        "colab": {
          "base_uri": "https://localhost:8080/"
        },
        "id": "pTPgxSQXO-4E",
        "outputId": "97502bc4-9e3f-4c3b-8c35-df1231b2e017"
      },
      "source": [
        "# Load in the data\n",
        "cifar10 = tf.keras.datasets.cifar10\n",
        "\n",
        "(x_train, y_train), (x_test, y_test) = cifar10.load_data()\n",
        "x_train, x_test = x_train / 255.0, x_test / 255.0\n",
        "y_train, y_test = y_train.flatten(), y_test.flatten()\n",
        "print(\"x_train.shape:\", x_train.shape)\n",
        "print(\"y_train.shape\", y_train.shape)"
      ],
      "execution_count": null,
      "outputs": [
        {
          "output_type": "stream",
          "text": [
            "Downloading data from https://www.cs.toronto.edu/~kriz/cifar-10-python.tar.gz\n",
            "170500096/170498071 [==============================] - 7s 0us/step\n",
            "x_train.shape: (50000, 32, 32, 3)\n",
            "y_train.shape (50000,)\n"
          ],
          "name": "stdout"
        }
      ]
    },
    {
      "cell_type": "code",
      "metadata": {
        "colab": {
          "base_uri": "https://localhost:8080/"
        },
        "id": "l2UyZK8tO_eh",
        "outputId": "dce44eba-6248-4213-8cbc-f69c6430b73f"
      },
      "source": [
        "# number of classes\n",
        "K = len(set(y_train))\n",
        "print(\"number of classes:\", K)"
      ],
      "execution_count": null,
      "outputs": [
        {
          "output_type": "stream",
          "text": [
            "number of classes: 10\n"
          ],
          "name": "stdout"
        }
      ]
    },
    {
      "cell_type": "code",
      "metadata": {
        "id": "BeouXF6dPBXw"
      },
      "source": [
        "# Build the model using the functional API\n",
        "i = Input(shape=x_train[0].shape)\n",
        "x = Conv2D(32, (3, 3), strides=2, activation='relu')(i)\n",
        "x = Conv2D(64, (3, 3), strides=2, activation='relu')(x)\n",
        "x = Conv2D(128, (3, 3), strides=2, activation='relu')(x)\n",
        "x = Flatten()(x)\n",
        "x = Dropout(0.5)(x)\n",
        "x = Dense(1024, activation='relu')(x)\n",
        "x = Dense(512, activation='relu')(x)\n",
        "x = Dropout(0.2)(x)\n",
        "x = Dense(K, activation='softmax')(x)\n",
        "\n",
        "model = Model(i, x)"
      ],
      "execution_count": null,
      "outputs": []
    },
    {
      "cell_type": "code",
      "metadata": {
        "colab": {
          "base_uri": "https://localhost:8080/"
        },
        "id": "lHRXMhtSPD1g",
        "outputId": "148dce1d-01c2-4be7-c8e3-0d36cc6314b8"
      },
      "source": [
        "# Compile and fit\n",
        "# Note: make sure you are using the GPU for this!\n",
        "model.compile(optimizer='adam',\n",
        "              loss='sparse_categorical_crossentropy',\n",
        "              metrics=['accuracy'])\n",
        "r = model.fit(x_train, y_train, validation_data=(x_test, y_test), epochs=15)"
      ],
      "execution_count": null,
      "outputs": [
        {
          "output_type": "stream",
          "text": [
            "Epoch 1/15\n",
            "1563/1563 [==============================] - 11s 7ms/step - loss: 1.7909 - accuracy: 0.3302 - val_loss: 1.3173 - val_accuracy: 0.5249\n",
            "Epoch 2/15\n",
            "1563/1563 [==============================] - 10s 6ms/step - loss: 1.3492 - accuracy: 0.5118 - val_loss: 1.1773 - val_accuracy: 0.5778\n",
            "Epoch 3/15\n",
            "1563/1563 [==============================] - 10s 6ms/step - loss: 1.1936 - accuracy: 0.5748 - val_loss: 1.0451 - val_accuracy: 0.6246\n",
            "Epoch 4/15\n",
            "1563/1563 [==============================] - 10s 6ms/step - loss: 1.0804 - accuracy: 0.6157 - val_loss: 0.9974 - val_accuracy: 0.6473\n",
            "Epoch 5/15\n",
            "1563/1563 [==============================] - 10s 6ms/step - loss: 1.0048 - accuracy: 0.6411 - val_loss: 0.9678 - val_accuracy: 0.6649\n",
            "Epoch 6/15\n",
            "1563/1563 [==============================] - 10s 6ms/step - loss: 0.9219 - accuracy: 0.6711 - val_loss: 0.8975 - val_accuracy: 0.6893\n",
            "Epoch 7/15\n",
            "1563/1563 [==============================] - 10s 6ms/step - loss: 0.8666 - accuracy: 0.6920 - val_loss: 0.8718 - val_accuracy: 0.6971\n",
            "Epoch 8/15\n",
            "1563/1563 [==============================] - 10s 6ms/step - loss: 0.8054 - accuracy: 0.7146 - val_loss: 0.8781 - val_accuracy: 0.6930\n",
            "Epoch 9/15\n",
            "1563/1563 [==============================] - 10s 6ms/step - loss: 0.7629 - accuracy: 0.7288 - val_loss: 0.8628 - val_accuracy: 0.6967\n",
            "Epoch 10/15\n",
            "1563/1563 [==============================] - 10s 6ms/step - loss: 0.7301 - accuracy: 0.7359 - val_loss: 0.8482 - val_accuracy: 0.7100\n",
            "Epoch 11/15\n",
            "1563/1563 [==============================] - 10s 6ms/step - loss: 0.7052 - accuracy: 0.7472 - val_loss: 0.8381 - val_accuracy: 0.7170\n",
            "Epoch 12/15\n",
            "1563/1563 [==============================] - 10s 6ms/step - loss: 0.6794 - accuracy: 0.7581 - val_loss: 0.8551 - val_accuracy: 0.7075\n",
            "Epoch 13/15\n",
            "1563/1563 [==============================] - 10s 6ms/step - loss: 0.6432 - accuracy: 0.7693 - val_loss: 0.8491 - val_accuracy: 0.7133\n",
            "Epoch 14/15\n",
            "1563/1563 [==============================] - 10s 6ms/step - loss: 0.6267 - accuracy: 0.7760 - val_loss: 0.8457 - val_accuracy: 0.7141\n",
            "Epoch 15/15\n",
            "1563/1563 [==============================] - 10s 6ms/step - loss: 0.6047 - accuracy: 0.7870 - val_loss: 0.8428 - val_accuracy: 0.7145\n"
          ],
          "name": "stdout"
        }
      ]
    },
    {
      "cell_type": "code",
      "metadata": {
        "id": "KyH4KokhPFTo"
      },
      "source": [
        "def plot_confusion_matrix(cm, classes,\n",
        "                        normalize=False,\n",
        "                        title='Confusion matrix',\n",
        "                        cmap=plt.cm.Blues):\n",
        "    \"\"\"\n",
        "    This function prints and plots the confusion matrix.\n",
        "    Normalization can be applied by setting `normalize=True`.\n",
        "    \"\"\"\n",
        "    plt.imshow(cm, interpolation='nearest', cmap=cmap)\n",
        "    plt.title(title)\n",
        "    plt.colorbar()\n",
        "    tick_marks = np.arange(len(classes))\n",
        "    plt.xticks(tick_marks, classes, rotation=45)\n",
        "    plt.yticks(tick_marks, classes)\n",
        "\n",
        "    if normalize:\n",
        "        cm = cm.astype('float') / cm.sum(axis=1)[:, np.newaxis]\n",
        "        print(\"Normalized confusion matrix\")\n",
        "    else:\n",
        "        print('Confusion matrix, without normalization')\n",
        "\n",
        "    print(cm)\n",
        "\n",
        "    thresh = cm.max() / 2.\n",
        "    for i, j in itertools.product(range(cm.shape[0]), range(cm.shape[1])):\n",
        "        plt.text(j, i, cm[i, j],\n",
        "            horizontalalignment=\"center\",\n",
        "            color=\"white\" if cm[i, j] > thresh else \"black\")\n",
        "\n",
        "    plt.tight_layout()\n",
        "    plt.ylabel('True label')\n",
        "    plt.xlabel('Predicted label')"
      ],
      "execution_count": null,
      "outputs": []
    },
    {
      "cell_type": "code",
      "metadata": {
        "colab": {
          "base_uri": "https://localhost:8080/",
          "height": 498
        },
        "id": "N_zyuzK2Rt2k",
        "outputId": "56f022ba-0866-4ea1-91db-5895ca6531bf"
      },
      "source": [
        "# Plot confusion matrix\n",
        "from sklearn.metrics import confusion_matrix\n",
        "import itertools\n",
        "\n",
        "\n",
        "predict_test = model.predict(x_test).argmax(axis=1)\n",
        "cm = confusion_matrix(y_test, predict_test)\n",
        "plot_confusion_matrix(cm, list(range(10)))\n"
      ],
      "execution_count": null,
      "outputs": [
        {
          "output_type": "stream",
          "text": [
            "Confusion matrix, without normalization\n",
            "[[760  17  28  15  31  10   8   5  83  43]\n",
            " [ 20 811   2   9   2   1   8   0  28 119]\n",
            " [ 64   8 524  64 159  57  66  27  16  15]\n",
            " [ 23  12  50 512  97 145  86  32  10  33]\n",
            " [ 21   2  37  44 766  20  45  48  10   7]\n",
            " [ 12   6  28 211  80 538  47  60   8  10]\n",
            " [  5   6  24  62  69  12 802   5   4  11]\n",
            " [ 19   1  20  36  96  40  10 749   4  25]\n",
            " [ 57  23   8  17   6   4   4  10 835  36]\n",
            " [ 30  53   6  15  12   3   6  10  17 848]]\n"
          ],
          "name": "stdout"
        },
        {
          "output_type": "display_data",
          "data": {
            "image/png": "[encoded data removed]",
            "text/plain": [
              "<Figure size 432x288 with 2 Axes>"
            ]
          },
          "metadata": {
            "tags": [],
            "needs_background": "light"
          }
        }
      ]
    },
    {
      "cell_type": "code",
      "metadata": {
        "id": "yGBCm9-0R0xb"
      },
      "source": [
        "# label mapping\n",
        "labels = '''airplane\n",
        "automobile\n",
        "bird\n",
        "cat\n",
        "deer\n",
        "dog\n",
        "frog\n",
        "horse\n",
        "ship\n",
        "truck'''.split()"
      ],
      "execution_count": null,
      "outputs": []
    },
    {
      "cell_type": "code",
      "metadata": {
        "colab": {
          "base_uri": "https://localhost:8080/",
          "height": 281
        },
        "id": "Io8SWRtwR_GB",
        "outputId": "a49fe6cd-fe45-4773-ea81-70d5e49cddb0"
      },
      "source": [
        "# Show some misclassified examples\n",
        "# TODO: add label names\n",
        "misclassified = np.where(predict_test != y_test)[0]\n",
        "i = np.random.choice(misclassified)\n",
        "plt.imshow(x_test[i], cmap='gray')\n",
        "plt.title(\"True label: %s Predicted: %s\" % (labels[y_test[i]], labels[predict_test[i]]));"
      ],
      "execution_count": null,
      "outputs": [
        {
          "output_type": "display_data",
          "data": {
            "image/png": "[encoded data removed]",
            "text/plain": [
              "<Figure size 432x288 with 1 Axes>"
            ]
          },
          "metadata": {
            "tags": [],
            "needs_background": "light"
          }
        }
      ]
    },
    {
      "cell_type": "code",
      "metadata": {
        "id": "ey1Ap8KnSK_I"
      },
      "source": [
        "import tensorflow as tf"
      ],
      "execution_count": null,
      "outputs": []
    },
    {
      "cell_type": "code",
      "metadata": {
        "id": "5Ya35jqbvNTC"
      },
      "source": [
        "# Load in the data\n",
        "from sklearn.datasets import load_breast_cancer"
      ],
      "execution_count": null,
      "outputs": []
    },
    {
      "cell_type": "code",
      "metadata": {
        "id": "Miibd_Orvay9"
      },
      "source": [
        "# load the data\n",
        "data = load_breast_cancer()"
      ],
      "execution_count": null,
      "outputs": []
    },
    {
      "cell_type": "code",
      "metadata": {
        "colab": {
          "base_uri": "https://localhost:8080/"
        },
        "id": "df_oyJ-2vcw-",
        "outputId": "5ec51f21-c1f4-42a5-e2f1-3bb022b56f62"
      },
      "source": [
        "data.keys()"
      ],
      "execution_count": null,
      "outputs": [
        {
          "output_type": "execute_result",
          "data": {
            "text/plain": [
              "dict_keys(['data', 'target', 'target_names', 'DESCR', 'feature_names', 'filename'])"
            ]
          },
          "metadata": {
            "tags": []
          },
          "execution_count": 4
        }
      ]
    },
    {
      "cell_type": "code",
      "metadata": {
        "colab": {
          "base_uri": "https://localhost:8080/"
        },
        "id": "E9QeQx_hvem9",
        "outputId": "4d2bac4f-be59-4eae-f486-73e0742d2549"
      },
      "source": [
        "data.data.shape"
      ],
      "execution_count": null,
      "outputs": [
        {
          "output_type": "execute_result",
          "data": {
            "text/plain": [
              "(569, 30)"
            ]
          },
          "metadata": {
            "tags": []
          },
          "execution_count": 5
        }
      ]
    },
    {
      "cell_type": "code",
      "metadata": {
        "colab": {
          "base_uri": "https://localhost:8080/"
        },
        "id": "yz1Hq0lBviAN",
        "outputId": "a73d89f9-639c-4af7-d754-cb64be537830"
      },
      "source": [
        "data.target"
      ],
      "execution_count": null,
      "outputs": [
        {
          "output_type": "execute_result",
          "data": {
            "text/plain": [
              "array([0, 0, 0, 0, 0, 0, 0, 0, 0, 0, 0, 0, 0, 0, 0, 0, 0, 0, 0, 1, 1, 1,\n",
              "       0, 0, 0, 0, 0, 0, 0, 0, 0, 0, 0, 0, 0, 0, 0, 1, 0, 0, 0, 0, 0, 0,\n",
              "       0, 0, 1, 0, 1, 1, 1, 1, 1, 0, 0, 1, 0, 0, 1, 1, 1, 1, 0, 1, 0, 0,\n",
              "       1, 1, 1, 1, 0, 1, 0, 0, 1, 0, 1, 0, 0, 1, 1, 1, 0, 0, 1, 0, 0, 0,\n",
              "       1, 1, 1, 0, 1, 1, 0, 0, 1, 1, 1, 0, 0, 1, 1, 1, 1, 0, 1, 1, 0, 1,\n",
              "       1, 1, 1, 1, 1, 1, 1, 0, 0, 0, 1, 0, 0, 1, 1, 1, 0, 0, 1, 0, 1, 0,\n",
              "       0, 1, 0, 0, 1, 1, 0, 1, 1, 0, 1, 1, 1, 1, 0, 1, 1, 1, 1, 1, 1, 1,\n",
              "       1, 1, 0, 1, 1, 1, 1, 0, 0, 1, 0, 1, 1, 0, 0, 1, 1, 0, 0, 1, 1, 1,\n",
              "       1, 0, 1, 1, 0, 0, 0, 1, 0, 1, 0, 1, 1, 1, 0, 1, 1, 0, 0, 1, 0, 0,\n",
              "       0, 0, 1, 0, 0, 0, 1, 0, 1, 0, 1, 1, 0, 1, 0, 0, 0, 0, 1, 1, 0, 0,\n",
              "       1, 1, 1, 0, 1, 1, 1, 1, 1, 0, 0, 1, 1, 0, 1, 1, 0, 0, 1, 0, 1, 1,\n",
              "       1, 1, 0, 1, 1, 1, 1, 1, 0, 1, 0, 0, 0, 0, 0, 0, 0, 0, 0, 0, 0, 0,\n",
              "       0, 0, 1, 1, 1, 1, 1, 1, 0, 1, 0, 1, 1, 0, 1, 1, 0, 1, 0, 0, 1, 1,\n",
              "       1, 1, 1, 1, 1, 1, 1, 1, 1, 1, 1, 0, 1, 1, 0, 1, 0, 1, 1, 1, 1, 1,\n",
              "       1, 1, 1, 1, 1, 1, 1, 1, 1, 0, 1, 1, 1, 0, 1, 0, 1, 1, 1, 1, 0, 0,\n",
              "       0, 1, 1, 1, 1, 0, 1, 0, 1, 0, 1, 1, 1, 0, 1, 1, 1, 1, 1, 1, 1, 0,\n",
              "       0, 0, 1, 1, 1, 1, 1, 1, 1, 1, 1, 1, 1, 0, 0, 1, 0, 0, 0, 1, 0, 0,\n",
              "       1, 1, 1, 1, 1, 0, 1, 1, 1, 1, 1, 0, 1, 1, 1, 0, 1, 1, 0, 0, 1, 1,\n",
              "       1, 1, 1, 1, 0, 1, 1, 1, 1, 1, 1, 1, 0, 1, 1, 1, 1, 1, 0, 1, 1, 0,\n",
              "       1, 1, 1, 1, 1, 1, 1, 1, 1, 1, 1, 1, 0, 1, 0, 0, 1, 0, 1, 1, 1, 1,\n",
              "       1, 0, 1, 1, 0, 1, 0, 1, 1, 0, 1, 0, 1, 1, 1, 1, 1, 1, 1, 1, 0, 0,\n",
              "       1, 1, 1, 1, 1, 1, 0, 1, 1, 1, 1, 1, 1, 1, 1, 1, 1, 0, 1, 1, 1, 1,\n",
              "       1, 1, 1, 0, 1, 0, 1, 1, 0, 1, 1, 1, 1, 1, 0, 0, 1, 0, 1, 0, 1, 1,\n",
              "       1, 1, 1, 0, 1, 1, 0, 1, 0, 1, 0, 0, 1, 1, 1, 0, 1, 1, 1, 1, 1, 1,\n",
              "       1, 1, 1, 1, 1, 0, 1, 0, 0, 1, 1, 1, 1, 1, 1, 1, 1, 1, 1, 1, 1, 1,\n",
              "       1, 1, 1, 1, 1, 1, 1, 1, 1, 1, 1, 1, 0, 0, 0, 0, 0, 0, 1])"
            ]
          },
          "metadata": {
            "tags": []
          },
          "execution_count": 6
        }
      ]
    },
    {
      "cell_type": "code",
      "metadata": {
        "colab": {
          "base_uri": "https://localhost:8080/"
        },
        "id": "8Y2z_MgpvmGN",
        "outputId": "8388a2c2-2f95-4450-fdae-548d925447bf"
      },
      "source": [
        "data.target_names"
      ],
      "execution_count": null,
      "outputs": [
        {
          "output_type": "execute_result",
          "data": {
            "text/plain": [
              "array(['malignant', 'benign'], dtype='<U9')"
            ]
          },
          "metadata": {
            "tags": []
          },
          "execution_count": 7
        }
      ]
    },
    {
      "cell_type": "code",
      "metadata": {
        "colab": {
          "base_uri": "https://localhost:8080/"
        },
        "id": "4Yl9SFqsvph8",
        "outputId": "b79b0812-b34a-4649-cc18-6edb45471dbb"
      },
      "source": [
        "data.target.shape"
      ],
      "execution_count": null,
      "outputs": [
        {
          "output_type": "execute_result",
          "data": {
            "text/plain": [
              "(569,)"
            ]
          },
          "metadata": {
            "tags": []
          },
          "execution_count": 8
        }
      ]
    },
    {
      "cell_type": "code",
      "metadata": {
        "colab": {
          "base_uri": "https://localhost:8080/"
        },
        "id": "qAjV1CJfvsXk",
        "outputId": "03765808-f318-40f2-e542-4cb8d68dd7f5"
      },
      "source": [
        "data.feature_names"
      ],
      "execution_count": null,
      "outputs": [
        {
          "output_type": "execute_result",
          "data": {
            "text/plain": [
              "array(['mean radius', 'mean texture', 'mean perimeter', 'mean area',\n",
              "       'mean smoothness', 'mean compactness', 'mean concavity',\n",
              "       'mean concave points', 'mean symmetry', 'mean fractal dimension',\n",
              "       'radius error', 'texture error', 'perimeter error', 'area error',\n",
              "       'smoothness error', 'compactness error', 'concavity error',\n",
              "       'concave points error', 'symmetry error',\n",
              "       'fractal dimension error', 'worst radius', 'worst texture',\n",
              "       'worst perimeter', 'worst area', 'worst smoothness',\n",
              "       'worst compactness', 'worst concavity', 'worst concave points',\n",
              "       'worst symmetry', 'worst fractal dimension'], dtype='<U23')"
            ]
          },
          "metadata": {
            "tags": []
          },
          "execution_count": 9
        }
      ]
    },
    {
      "cell_type": "code",
      "metadata": {
        "id": "KtBu2t2svuKb"
      },
      "source": [
        "from sklearn.model_selection import train_test_split\n"
      ],
      "execution_count": null,
      "outputs": []
    },
    {
      "cell_type": "code",
      "metadata": {
        "id": "7bb3WgP4vzLb"
      },
      "source": [
        "X_train, X_test, y_train, y_test = train_test_split(data.data, data.target, test_size=0.33)"
      ],
      "execution_count": null,
      "outputs": []
    },
    {
      "cell_type": "code",
      "metadata": {
        "id": "dt2qskclv0yb"
      },
      "source": [
        "N, D = X_train.shape"
      ],
      "execution_count": null,
      "outputs": []
    },
    {
      "cell_type": "code",
      "metadata": {
        "id": "BHQ8QfLcv3OM"
      },
      "source": [
        "from sklearn.preprocessing import StandardScaler\n",
        "\n",
        "scaler = StandardScaler()\n",
        "X_train = scaler.fit_transform(X_train)\n",
        "X_test = scaler.transform(X_test)"
      ],
      "execution_count": null,
      "outputs": []
    },
    {
      "cell_type": "code",
      "metadata": {
        "id": "3dFhPkZyv9UM"
      },
      "source": [
        "# Coder notre modele\n",
        "\n",
        "model = tf.keras.models.Sequential([\n",
        "      tf.keras.layers.Input(shape=(D,)),\n",
        "      tf.keras.layers.Dense(1, activation='sigmoid')\n",
        "])"
      ],
      "execution_count": null,
      "outputs": []
    },
    {
      "cell_type": "code",
      "metadata": {
        "id": "faqBRZwmxG65"
      },
      "source": [
        "model.compile(optimizer='adam',\n",
        "              loss=\"binary_crossentropy\",\n",
        "              metrics=['accuracy'])"
      ],
      "execution_count": null,
      "outputs": []
    },
    {
      "cell_type": "code",
      "metadata": {
        "colab": {
          "base_uri": "https://localhost:8080/"
        },
        "id": "mH8mksgMxpAv",
        "outputId": "f0ef1bcf-89e8-472f-e376-9dd6638524df"
      },
      "source": [
        "result = model.fit(X_train, y_train, validation_data=(X_test, y_test), epochs=100)\n",
        "\n",
        "print('Train Score', model.evaluate(X_train, y_train))\n",
        "print('Test Score', model.evaluate(X_test, y_test))"
      ],
      "execution_count": null,
      "outputs": [
        {
          "output_type": "stream",
          "text": [
            "Epoch 1/100\n",
            "12/12 [==============================] - 2s 43ms/step - loss: 0.9095 - accuracy: 0.4289 - val_loss: 0.9536 - val_accuracy: 0.4628\n",
            "Epoch 2/100\n",
            "12/12 [==============================] - 0s 7ms/step - loss: 0.7977 - accuracy: 0.5076 - val_loss: 0.8702 - val_accuracy: 0.5000\n",
            "Epoch 3/100\n",
            "12/12 [==============================] - 0s 16ms/step - loss: 0.7596 - accuracy: 0.5530 - val_loss: 0.7955 - val_accuracy: 0.5532\n",
            "Epoch 4/100\n",
            "12/12 [==============================] - 0s 8ms/step - loss: 0.6962 - accuracy: 0.6404 - val_loss: 0.7313 - val_accuracy: 0.6011\n",
            "Epoch 5/100\n",
            "12/12 [==============================] - 0s 7ms/step - loss: 0.6498 - accuracy: 0.6723 - val_loss: 0.6744 - val_accuracy: 0.6436\n",
            "Epoch 6/100\n",
            "12/12 [==============================] - 0s 6ms/step - loss: 0.5966 - accuracy: 0.7017 - val_loss: 0.6248 - val_accuracy: 0.7021\n",
            "Epoch 7/100\n",
            "12/12 [==============================] - 0s 6ms/step - loss: 0.5531 - accuracy: 0.7263 - val_loss: 0.5811 - val_accuracy: 0.7181\n",
            "Epoch 8/100\n",
            "12/12 [==============================] - 0s 6ms/step - loss: 0.4881 - accuracy: 0.7665 - val_loss: 0.5427 - val_accuracy: 0.7447\n",
            "Epoch 9/100\n",
            "12/12 [==============================] - 0s 7ms/step - loss: 0.4852 - accuracy: 0.7827 - val_loss: 0.5077 - val_accuracy: 0.7606\n",
            "Epoch 10/100\n",
            "12/12 [==============================] - 0s 6ms/step - loss: 0.4692 - accuracy: 0.7934 - val_loss: 0.4767 - val_accuracy: 0.7819\n",
            "Epoch 11/100\n",
            "12/12 [==============================] - 0s 6ms/step - loss: 0.4153 - accuracy: 0.8337 - val_loss: 0.4499 - val_accuracy: 0.8032\n",
            "Epoch 12/100\n",
            "12/12 [==============================] - 0s 6ms/step - loss: 0.4089 - accuracy: 0.8259 - val_loss: 0.4247 - val_accuracy: 0.8191\n",
            "Epoch 13/100\n",
            "12/12 [==============================] - 0s 6ms/step - loss: 0.3599 - accuracy: 0.8776 - val_loss: 0.4021 - val_accuracy: 0.8511\n",
            "Epoch 14/100\n",
            "12/12 [==============================] - 0s 6ms/step - loss: 0.3260 - accuracy: 0.8893 - val_loss: 0.3823 - val_accuracy: 0.8617\n",
            "Epoch 15/100\n",
            "12/12 [==============================] - 0s 6ms/step - loss: 0.3510 - accuracy: 0.8750 - val_loss: 0.3633 - val_accuracy: 0.8777\n",
            "Epoch 16/100\n",
            "12/12 [==============================] - 0s 7ms/step - loss: 0.3057 - accuracy: 0.9011 - val_loss: 0.3464 - val_accuracy: 0.8830\n",
            "Epoch 17/100\n",
            "12/12 [==============================] - 0s 7ms/step - loss: 0.3297 - accuracy: 0.8875 - val_loss: 0.3307 - val_accuracy: 0.8883\n",
            "Epoch 18/100\n",
            "12/12 [==============================] - 0s 6ms/step - loss: 0.3006 - accuracy: 0.9055 - val_loss: 0.3167 - val_accuracy: 0.8936\n",
            "Epoch 19/100\n",
            "12/12 [==============================] - 0s 6ms/step - loss: 0.2858 - accuracy: 0.9218 - val_loss: 0.3037 - val_accuracy: 0.8936\n",
            "Epoch 20/100\n",
            "12/12 [==============================] - 0s 7ms/step - loss: 0.2820 - accuracy: 0.9265 - val_loss: 0.2915 - val_accuracy: 0.8989\n",
            "Epoch 21/100\n",
            "12/12 [==============================] - 0s 6ms/step - loss: 0.2730 - accuracy: 0.9335 - val_loss: 0.2808 - val_accuracy: 0.9043\n",
            "Epoch 22/100\n",
            "12/12 [==============================] - 0s 6ms/step - loss: 0.2718 - accuracy: 0.9253 - val_loss: 0.2706 - val_accuracy: 0.9043\n",
            "Epoch 23/100\n",
            "12/12 [==============================] - 0s 6ms/step - loss: 0.2492 - accuracy: 0.9229 - val_loss: 0.2612 - val_accuracy: 0.9202\n",
            "Epoch 24/100\n",
            "12/12 [==============================] - 0s 6ms/step - loss: 0.2331 - accuracy: 0.9506 - val_loss: 0.2526 - val_accuracy: 0.9202\n",
            "Epoch 25/100\n",
            "12/12 [==============================] - 0s 6ms/step - loss: 0.2360 - accuracy: 0.9497 - val_loss: 0.2445 - val_accuracy: 0.9202\n",
            "Epoch 26/100\n",
            "12/12 [==============================] - 0s 6ms/step - loss: 0.2186 - accuracy: 0.9470 - val_loss: 0.2372 - val_accuracy: 0.9202\n",
            "Epoch 27/100\n",
            "12/12 [==============================] - 0s 7ms/step - loss: 0.2208 - accuracy: 0.9602 - val_loss: 0.2303 - val_accuracy: 0.9255\n",
            "Epoch 28/100\n",
            "12/12 [==============================] - 0s 7ms/step - loss: 0.2317 - accuracy: 0.9327 - val_loss: 0.2237 - val_accuracy: 0.9309\n",
            "Epoch 29/100\n",
            "12/12 [==============================] - 0s 6ms/step - loss: 0.2034 - accuracy: 0.9543 - val_loss: 0.2177 - val_accuracy: 0.9309\n",
            "Epoch 30/100\n",
            "12/12 [==============================] - 0s 7ms/step - loss: 0.2068 - accuracy: 0.9575 - val_loss: 0.2121 - val_accuracy: 0.9309\n",
            "Epoch 31/100\n",
            "12/12 [==============================] - 0s 6ms/step - loss: 0.1956 - accuracy: 0.9582 - val_loss: 0.2069 - val_accuracy: 0.9309\n",
            "Epoch 32/100\n",
            "12/12 [==============================] - 0s 6ms/step - loss: 0.1916 - accuracy: 0.9591 - val_loss: 0.2020 - val_accuracy: 0.9309\n",
            "Epoch 33/100\n",
            "12/12 [==============================] - 0s 6ms/step - loss: 0.1977 - accuracy: 0.9457 - val_loss: 0.1974 - val_accuracy: 0.9309\n",
            "Epoch 34/100\n",
            "12/12 [==============================] - 0s 6ms/step - loss: 0.1855 - accuracy: 0.9504 - val_loss: 0.1929 - val_accuracy: 0.9362\n",
            "Epoch 35/100\n",
            "12/12 [==============================] - 0s 6ms/step - loss: 0.1736 - accuracy: 0.9627 - val_loss: 0.1889 - val_accuracy: 0.9362\n",
            "Epoch 36/100\n",
            "12/12 [==============================] - 0s 6ms/step - loss: 0.1685 - accuracy: 0.9704 - val_loss: 0.1850 - val_accuracy: 0.9415\n",
            "Epoch 37/100\n",
            "12/12 [==============================] - 0s 6ms/step - loss: 0.1751 - accuracy: 0.9702 - val_loss: 0.1812 - val_accuracy: 0.9415\n",
            "Epoch 38/100\n",
            "12/12 [==============================] - 0s 6ms/step - loss: 0.1609 - accuracy: 0.9632 - val_loss: 0.1778 - val_accuracy: 0.9415\n",
            "Epoch 39/100\n",
            "12/12 [==============================] - 0s 6ms/step - loss: 0.1563 - accuracy: 0.9773 - val_loss: 0.1745 - val_accuracy: 0.9468\n",
            "Epoch 40/100\n",
            "12/12 [==============================] - 0s 6ms/step - loss: 0.1773 - accuracy: 0.9614 - val_loss: 0.1715 - val_accuracy: 0.9468\n",
            "Epoch 41/100\n",
            "12/12 [==============================] - 0s 6ms/step - loss: 0.1700 - accuracy: 0.9671 - val_loss: 0.1685 - val_accuracy: 0.9468\n",
            "Epoch 42/100\n",
            "12/12 [==============================] - 0s 6ms/step - loss: 0.1540 - accuracy: 0.9756 - val_loss: 0.1657 - val_accuracy: 0.9468\n",
            "Epoch 43/100\n",
            "12/12 [==============================] - 0s 7ms/step - loss: 0.1465 - accuracy: 0.9763 - val_loss: 0.1629 - val_accuracy: 0.9468\n",
            "Epoch 44/100\n",
            "12/12 [==============================] - 0s 6ms/step - loss: 0.1539 - accuracy: 0.9640 - val_loss: 0.1605 - val_accuracy: 0.9468\n",
            "Epoch 45/100\n",
            "12/12 [==============================] - 0s 6ms/step - loss: 0.1342 - accuracy: 0.9780 - val_loss: 0.1581 - val_accuracy: 0.9468\n",
            "Epoch 46/100\n",
            "12/12 [==============================] - 0s 17ms/step - loss: 0.1647 - accuracy: 0.9573 - val_loss: 0.1557 - val_accuracy: 0.9468\n",
            "Epoch 47/100\n",
            "12/12 [==============================] - 0s 6ms/step - loss: 0.1442 - accuracy: 0.9815 - val_loss: 0.1534 - val_accuracy: 0.9468\n",
            "Epoch 48/100\n",
            "12/12 [==============================] - 0s 7ms/step - loss: 0.1481 - accuracy: 0.9674 - val_loss: 0.1514 - val_accuracy: 0.9468\n",
            "Epoch 49/100\n",
            "12/12 [==============================] - 0s 7ms/step - loss: 0.1379 - accuracy: 0.9787 - val_loss: 0.1493 - val_accuracy: 0.9521\n",
            "Epoch 50/100\n",
            "12/12 [==============================] - 0s 7ms/step - loss: 0.1371 - accuracy: 0.9731 - val_loss: 0.1473 - val_accuracy: 0.9521\n",
            "Epoch 51/100\n",
            "12/12 [==============================] - 0s 6ms/step - loss: 0.1374 - accuracy: 0.9685 - val_loss: 0.1456 - val_accuracy: 0.9574\n",
            "Epoch 52/100\n",
            "12/12 [==============================] - 0s 6ms/step - loss: 0.1432 - accuracy: 0.9699 - val_loss: 0.1437 - val_accuracy: 0.9574\n",
            "Epoch 53/100\n",
            "12/12 [==============================] - 0s 6ms/step - loss: 0.1408 - accuracy: 0.9752 - val_loss: 0.1420 - val_accuracy: 0.9574\n",
            "Epoch 54/100\n",
            "12/12 [==============================] - 0s 7ms/step - loss: 0.1295 - accuracy: 0.9757 - val_loss: 0.1403 - val_accuracy: 0.9574\n",
            "Epoch 55/100\n",
            "12/12 [==============================] - 0s 6ms/step - loss: 0.1446 - accuracy: 0.9723 - val_loss: 0.1387 - val_accuracy: 0.9574\n",
            "Epoch 56/100\n",
            "12/12 [==============================] - 0s 7ms/step - loss: 0.1240 - accuracy: 0.9735 - val_loss: 0.1372 - val_accuracy: 0.9574\n",
            "Epoch 57/100\n",
            "12/12 [==============================] - 0s 7ms/step - loss: 0.1258 - accuracy: 0.9773 - val_loss: 0.1356 - val_accuracy: 0.9574\n",
            "Epoch 58/100\n",
            "12/12 [==============================] - 0s 7ms/step - loss: 0.1206 - accuracy: 0.9761 - val_loss: 0.1342 - val_accuracy: 0.9574\n",
            "Epoch 59/100\n",
            "12/12 [==============================] - 0s 6ms/step - loss: 0.1087 - accuracy: 0.9881 - val_loss: 0.1329 - val_accuracy: 0.9574\n",
            "Epoch 60/100\n",
            "12/12 [==============================] - 0s 7ms/step - loss: 0.1167 - accuracy: 0.9699 - val_loss: 0.1315 - val_accuracy: 0.9628\n",
            "Epoch 61/100\n",
            "12/12 [==============================] - 0s 6ms/step - loss: 0.1050 - accuracy: 0.9766 - val_loss: 0.1302 - val_accuracy: 0.9681\n",
            "Epoch 62/100\n",
            "12/12 [==============================] - 0s 6ms/step - loss: 0.1356 - accuracy: 0.9685 - val_loss: 0.1291 - val_accuracy: 0.9628\n",
            "Epoch 63/100\n",
            "12/12 [==============================] - 0s 6ms/step - loss: 0.1120 - accuracy: 0.9767 - val_loss: 0.1278 - val_accuracy: 0.9628\n",
            "Epoch 64/100\n",
            "12/12 [==============================] - 0s 7ms/step - loss: 0.1320 - accuracy: 0.9791 - val_loss: 0.1267 - val_accuracy: 0.9628\n",
            "Epoch 65/100\n",
            "12/12 [==============================] - 0s 6ms/step - loss: 0.1201 - accuracy: 0.9781 - val_loss: 0.1255 - val_accuracy: 0.9628\n",
            "Epoch 66/100\n",
            "12/12 [==============================] - 0s 7ms/step - loss: 0.1258 - accuracy: 0.9774 - val_loss: 0.1244 - val_accuracy: 0.9628\n",
            "Epoch 67/100\n",
            "12/12 [==============================] - 0s 6ms/step - loss: 0.1192 - accuracy: 0.9736 - val_loss: 0.1234 - val_accuracy: 0.9628\n",
            "Epoch 68/100\n",
            "12/12 [==============================] - 0s 6ms/step - loss: 0.1068 - accuracy: 0.9848 - val_loss: 0.1224 - val_accuracy: 0.9628\n",
            "Epoch 69/100\n",
            "12/12 [==============================] - 0s 6ms/step - loss: 0.1012 - accuracy: 0.9828 - val_loss: 0.1214 - val_accuracy: 0.9628\n",
            "Epoch 70/100\n",
            "12/12 [==============================] - 0s 7ms/step - loss: 0.1239 - accuracy: 0.9685 - val_loss: 0.1205 - val_accuracy: 0.9628\n",
            "Epoch 71/100\n",
            "12/12 [==============================] - 0s 7ms/step - loss: 0.1258 - accuracy: 0.9687 - val_loss: 0.1195 - val_accuracy: 0.9628\n",
            "Epoch 72/100\n",
            "12/12 [==============================] - 0s 6ms/step - loss: 0.1095 - accuracy: 0.9718 - val_loss: 0.1186 - val_accuracy: 0.9628\n",
            "Epoch 73/100\n",
            "12/12 [==============================] - 0s 6ms/step - loss: 0.1232 - accuracy: 0.9651 - val_loss: 0.1177 - val_accuracy: 0.9628\n",
            "Epoch 74/100\n",
            "12/12 [==============================] - 0s 6ms/step - loss: 0.1067 - accuracy: 0.9754 - val_loss: 0.1169 - val_accuracy: 0.9628\n",
            "Epoch 75/100\n",
            "12/12 [==============================] - 0s 6ms/step - loss: 0.1228 - accuracy: 0.9668 - val_loss: 0.1160 - val_accuracy: 0.9628\n",
            "Epoch 76/100\n",
            "12/12 [==============================] - 0s 7ms/step - loss: 0.1209 - accuracy: 0.9797 - val_loss: 0.1152 - val_accuracy: 0.9628\n",
            "Epoch 77/100\n",
            "12/12 [==============================] - 0s 7ms/step - loss: 0.1110 - accuracy: 0.9776 - val_loss: 0.1144 - val_accuracy: 0.9628\n",
            "Epoch 78/100\n",
            "12/12 [==============================] - 0s 6ms/step - loss: 0.1189 - accuracy: 0.9712 - val_loss: 0.1136 - val_accuracy: 0.9628\n",
            "Epoch 79/100\n",
            "12/12 [==============================] - 0s 7ms/step - loss: 0.0969 - accuracy: 0.9876 - val_loss: 0.1129 - val_accuracy: 0.9628\n",
            "Epoch 80/100\n",
            "12/12 [==============================] - 0s 7ms/step - loss: 0.1047 - accuracy: 0.9722 - val_loss: 0.1121 - val_accuracy: 0.9628\n",
            "Epoch 81/100\n",
            "12/12 [==============================] - 0s 6ms/step - loss: 0.1026 - accuracy: 0.9727 - val_loss: 0.1114 - val_accuracy: 0.9628\n",
            "Epoch 82/100\n",
            "12/12 [==============================] - 0s 7ms/step - loss: 0.1181 - accuracy: 0.9727 - val_loss: 0.1107 - val_accuracy: 0.9628\n",
            "Epoch 83/100\n",
            "12/12 [==============================] - 0s 6ms/step - loss: 0.1188 - accuracy: 0.9774 - val_loss: 0.1101 - val_accuracy: 0.9628\n",
            "Epoch 84/100\n",
            "12/12 [==============================] - 0s 6ms/step - loss: 0.1214 - accuracy: 0.9777 - val_loss: 0.1094 - val_accuracy: 0.9628\n",
            "Epoch 85/100\n",
            "12/12 [==============================] - 0s 6ms/step - loss: 0.1069 - accuracy: 0.9780 - val_loss: 0.1088 - val_accuracy: 0.9628\n",
            "Epoch 86/100\n",
            "12/12 [==============================] - 0s 7ms/step - loss: 0.1168 - accuracy: 0.9808 - val_loss: 0.1082 - val_accuracy: 0.9628\n",
            "Epoch 87/100\n",
            "12/12 [==============================] - 0s 7ms/step - loss: 0.1159 - accuracy: 0.9772 - val_loss: 0.1075 - val_accuracy: 0.9628\n",
            "Epoch 88/100\n",
            "12/12 [==============================] - 0s 16ms/step - loss: 0.0984 - accuracy: 0.9812 - val_loss: 0.1069 - val_accuracy: 0.9628\n",
            "Epoch 89/100\n",
            "12/12 [==============================] - 0s 7ms/step - loss: 0.1065 - accuracy: 0.9824 - val_loss: 0.1063 - val_accuracy: 0.9628\n",
            "Epoch 90/100\n",
            "12/12 [==============================] - 0s 7ms/step - loss: 0.0979 - accuracy: 0.9814 - val_loss: 0.1058 - val_accuracy: 0.9628\n",
            "Epoch 91/100\n",
            "12/12 [==============================] - 0s 6ms/step - loss: 0.0924 - accuracy: 0.9904 - val_loss: 0.1052 - val_accuracy: 0.9628\n",
            "Epoch 92/100\n",
            "12/12 [==============================] - 0s 6ms/step - loss: 0.0923 - accuracy: 0.9852 - val_loss: 0.1047 - val_accuracy: 0.9628\n",
            "Epoch 93/100\n",
            "12/12 [==============================] - 0s 6ms/step - loss: 0.0952 - accuracy: 0.9845 - val_loss: 0.1041 - val_accuracy: 0.9628\n",
            "Epoch 94/100\n",
            "12/12 [==============================] - 0s 6ms/step - loss: 0.0942 - accuracy: 0.9772 - val_loss: 0.1036 - val_accuracy: 0.9628\n",
            "Epoch 95/100\n",
            "12/12 [==============================] - 0s 7ms/step - loss: 0.1061 - accuracy: 0.9690 - val_loss: 0.1031 - val_accuracy: 0.9628\n",
            "Epoch 96/100\n",
            "12/12 [==============================] - 0s 7ms/step - loss: 0.0971 - accuracy: 0.9829 - val_loss: 0.1026 - val_accuracy: 0.9628\n",
            "Epoch 97/100\n",
            "12/12 [==============================] - 0s 6ms/step - loss: 0.1012 - accuracy: 0.9888 - val_loss: 0.1021 - val_accuracy: 0.9628\n",
            "Epoch 98/100\n",
            "12/12 [==============================] - 0s 6ms/step - loss: 0.0881 - accuracy: 0.9893 - val_loss: 0.1016 - val_accuracy: 0.9628\n",
            "Epoch 99/100\n",
            "12/12 [==============================] - 0s 6ms/step - loss: 0.1015 - accuracy: 0.9816 - val_loss: 0.1011 - val_accuracy: 0.9628\n",
            "Epoch 100/100\n",
            "12/12 [==============================] - 0s 7ms/step - loss: 0.1171 - accuracy: 0.9735 - val_loss: 0.1007 - val_accuracy: 0.9628\n",
            "12/12 [==============================] - 0s 3ms/step - loss: 0.0960 - accuracy: 0.9816\n",
            "Train Score [0.09603779017925262, 0.9816272854804993]\n",
            "6/6 [==============================] - 0s 3ms/step - loss: 0.1007 - accuracy: 0.9628\n",
            "Test Score [0.10071922093629837, 0.9627659320831299]\n"
          ],
          "name": "stdout"
        }
      ]
    },
    {
      "cell_type": "code",
      "metadata": {
        "colab": {
          "base_uri": "https://localhost:8080/",
          "height": 283
        },
        "id": "KWGag_KeyFvT",
        "outputId": "aa0f5e61-fd34-4c26-cf5c-dccbc76813f4"
      },
      "source": [
        "import matplotlib.pyplot as plt\n",
        "\n",
        "\n",
        "plt.plot(result.history['accuracy'], label='acc')\n",
        "plt.plot(result.history['val_accuracy'], label='val_acc')\n",
        "plt.legend()"
      ],
      "execution_count": null,
      "outputs": [
        {
          "output_type": "execute_result",
          "data": {
            "text/plain": [
              "<matplotlib.legend.Legend at 0x7f8cdc8d7588>"
            ]
          },
          "metadata": {
            "tags": []
          },
          "execution_count": 21
        },
        {
          "output_type": "display_data",
          "data": {
            "image/png": "[encoded data removed]",
            "text/plain": [
              "<Figure size 432x288 with 1 Axes>"
            ]
          },
          "metadata": {
            "tags": [],
            "needs_background": "light"
          }
        }
      ]
    },
    {
      "cell_type": "code",
      "metadata": {
        "colab": {
          "base_uri": "https://localhost:8080/",
          "height": 282
        },
        "id": "n0E4ZdAXyQaE",
        "outputId": "fa2612c4-2ee1-4994-c40c-aeb3f9604f54"
      },
      "source": [
        "# Plot what's returned by model.fit()\n",
        "import matplotlib.pyplot as plt\n",
        "plt.plot(result.history['loss'], label='loss')\n",
        "plt.plot(result.history['val_loss'], label='val_loss')\n",
        "plt.legend()"
      ],
      "execution_count": null,
      "outputs": [
        {
          "output_type": "execute_result",
          "data": {
            "text/plain": [
              "<matplotlib.legend.Legend at 0x7f8cdb382fd0>"
            ]
          },
          "metadata": {
            "tags": []
          },
          "execution_count": 23
        },
        {
          "output_type": "display_data",
          "data": {
            "image/png": "[encoded data removed]",
            "text/plain": [
              "<Figure size 432x288 with 1 Axes>"
            ]
          },
          "metadata": {
            "tags": [],
            "needs_background": "light"
          }
        }
      ]
    },
    {
      "cell_type": "code",
      "metadata": {
        "id": "Smihu4uByYIQ"
      },
      "source": [
        "Predict = model.predict(X_test)"
      ],
      "execution_count": null,
      "outputs": []
    },
    {
      "cell_type": "code",
      "metadata": {
        "colab": {
          "base_uri": "https://localhost:8080/"
        },
        "id": "_F-yTmdBykGV",
        "outputId": "08cf3d4d-4c0b-4ab3-bf35-f27beeeb8c7b"
      },
      "source": [
        "Predict"
      ],
      "execution_count": null,
      "outputs": [
        {
          "output_type": "execute_result",
          "data": {
            "text/plain": [
              "array([[9.77745295e-01],\n",
              "       [8.16985130e-01],\n",
              "       [8.31191316e-02],\n",
              "       [9.65584278e-01],\n",
              "       [9.94873345e-01],\n",
              "       [4.04671409e-05],\n",
              "       [3.09683885e-02],\n",
              "       [9.53421891e-01],\n",
              "       [9.97064531e-01],\n",
              "       [9.86523688e-01],\n",
              "       [9.87546742e-01],\n",
              "       [9.98341680e-01],\n",
              "       [9.17043209e-01],\n",
              "       [1.79557633e-02],\n",
              "       [9.99243379e-01],\n",
              "       [7.67985582e-01],\n",
              "       [9.42068994e-01],\n",
              "       [4.14213538e-01],\n",
              "       [9.57114518e-01],\n",
              "       [9.99177754e-01],\n",
              "       [3.65992635e-02],\n",
              "       [8.46163034e-01],\n",
              "       [9.75635886e-01],\n",
              "       [8.50822330e-01],\n",
              "       [1.10318237e-04],\n",
              "       [3.26890789e-04],\n",
              "       [9.41281855e-01],\n",
              "       [9.99606311e-01],\n",
              "       [8.49166885e-03],\n",
              "       [1.34031710e-04],\n",
              "       [9.73375201e-01],\n",
              "       [9.86442924e-01],\n",
              "       [9.99476969e-01],\n",
              "       [9.63854969e-01],\n",
              "       [6.54476928e-03],\n",
              "       [9.99069035e-01],\n",
              "       [8.18324685e-01],\n",
              "       [4.83683310e-04],\n",
              "       [9.99521613e-01],\n",
              "       [2.68086878e-04],\n",
              "       [5.35831094e-01],\n",
              "       [9.94879007e-01],\n",
              "       [9.89627004e-01],\n",
              "       [3.71171951e-01],\n",
              "       [2.48553394e-03],\n",
              "       [9.82605934e-01],\n",
              "       [1.41853478e-03],\n",
              "       [7.65135861e-04],\n",
              "       [9.67997909e-01],\n",
              "       [9.31200325e-01],\n",
              "       [9.97208774e-01],\n",
              "       [8.97765994e-01],\n",
              "       [3.38169962e-01],\n",
              "       [6.98893750e-03],\n",
              "       [7.81484663e-01],\n",
              "       [9.24794793e-01],\n",
              "       [2.22436065e-04],\n",
              "       [7.93925580e-03],\n",
              "       [9.67649877e-01],\n",
              "       [9.96377766e-01],\n",
              "       [9.82057810e-01],\n",
              "       [9.91739511e-01],\n",
              "       [9.97549593e-01],\n",
              "       [7.21958280e-02],\n",
              "       [4.48131710e-01],\n",
              "       [9.70716834e-01],\n",
              "       [1.70276384e-03],\n",
              "       [1.43469311e-02],\n",
              "       [9.67088759e-01],\n",
              "       [3.42881778e-12],\n",
              "       [2.92065650e-01],\n",
              "       [9.79997396e-01],\n",
              "       [6.18811883e-02],\n",
              "       [9.53225136e-01],\n",
              "       [2.77267937e-02],\n",
              "       [4.98817451e-02],\n",
              "       [9.97160435e-01],\n",
              "       [1.44540616e-06],\n",
              "       [1.26966871e-02],\n",
              "       [9.57623303e-01],\n",
              "       [5.67239001e-02],\n",
              "       [9.06062841e-01],\n",
              "       [2.01625819e-03],\n",
              "       [9.82681334e-01],\n",
              "       [1.64809288e-03],\n",
              "       [9.13213074e-01],\n",
              "       [9.97174263e-01],\n",
              "       [1.63638890e-02],\n",
              "       [9.91483986e-01],\n",
              "       [2.12762016e-03],\n",
              "       [9.78324354e-01],\n",
              "       [1.47416994e-01],\n",
              "       [9.03867825e-04],\n",
              "       [8.37822974e-01],\n",
              "       [9.91289020e-01],\n",
              "       [1.88541293e-04],\n",
              "       [1.49090239e-03],\n",
              "       [9.24572741e-05],\n",
              "       [4.47526720e-04],\n",
              "       [8.75017643e-01],\n",
              "       [9.98096645e-01],\n",
              "       [9.99110758e-01],\n",
              "       [7.84728955e-03],\n",
              "       [9.99326706e-01],\n",
              "       [2.14328566e-06],\n",
              "       [9.58330274e-01],\n",
              "       [9.90266263e-01],\n",
              "       [1.56384520e-03],\n",
              "       [9.05472413e-02],\n",
              "       [8.92479181e-01],\n",
              "       [9.92915869e-01],\n",
              "       [9.86067593e-01],\n",
              "       [9.81413245e-01],\n",
              "       [9.74417567e-01],\n",
              "       [8.62844765e-01],\n",
              "       [9.60604429e-01],\n",
              "       [1.19690835e-01],\n",
              "       [1.03509938e-02],\n",
              "       [1.14266537e-01],\n",
              "       [9.83319819e-01],\n",
              "       [1.67664915e-01],\n",
              "       [2.14512542e-01],\n",
              "       [1.99459381e-02],\n",
              "       [9.95780826e-01],\n",
              "       [7.42503166e-01],\n",
              "       [9.90433216e-01],\n",
              "       [8.29716742e-01],\n",
              "       [5.90123855e-05],\n",
              "       [9.23463345e-01],\n",
              "       [9.83266890e-01],\n",
              "       [3.97591412e-01],\n",
              "       [9.98819411e-01],\n",
              "       [1.51386848e-06],\n",
              "       [9.77513433e-01],\n",
              "       [8.52340937e-01],\n",
              "       [9.79959130e-01],\n",
              "       [9.96012211e-01],\n",
              "       [9.92325902e-01],\n",
              "       [9.97291982e-01],\n",
              "       [9.94959950e-01],\n",
              "       [4.69874531e-01],\n",
              "       [1.61157828e-02],\n",
              "       [1.45714823e-02],\n",
              "       [9.23098147e-01],\n",
              "       [2.63167508e-02],\n",
              "       [2.23191082e-01],\n",
              "       [9.90150094e-01],\n",
              "       [1.45587206e-01],\n",
              "       [9.77507889e-01],\n",
              "       [9.97828662e-01],\n",
              "       [9.38293617e-03],\n",
              "       [8.63683701e-01],\n",
              "       [9.93060887e-01],\n",
              "       [9.97493625e-01],\n",
              "       [9.36688840e-01],\n",
              "       [5.50859392e-01],\n",
              "       [1.54927802e-05],\n",
              "       [9.91232693e-01],\n",
              "       [9.75324273e-01],\n",
              "       [7.32578039e-01],\n",
              "       [6.77528739e-01],\n",
              "       [9.95953560e-01],\n",
              "       [9.96895552e-01],\n",
              "       [9.16783931e-04],\n",
              "       [3.66486813e-04],\n",
              "       [4.29049700e-01],\n",
              "       [7.69194961e-01],\n",
              "       [9.48255420e-01],\n",
              "       [9.97883976e-01],\n",
              "       [9.93498683e-01],\n",
              "       [7.53101587e-01],\n",
              "       [9.87294614e-01],\n",
              "       [9.68084037e-01],\n",
              "       [9.92874742e-01],\n",
              "       [9.88835752e-01],\n",
              "       [6.98340774e-01],\n",
              "       [1.94237053e-01],\n",
              "       [4.68683928e-01],\n",
              "       [9.73618090e-01],\n",
              "       [5.61075985e-01],\n",
              "       [2.08230014e-03],\n",
              "       [7.56060183e-02],\n",
              "       [9.99173343e-01],\n",
              "       [9.98417139e-01],\n",
              "       [3.50322247e-01],\n",
              "       [9.30762105e-03],\n",
              "       [9.81425047e-01],\n",
              "       [9.45467591e-01]], dtype=float32)"
            ]
          },
          "metadata": {
            "tags": []
          },
          "execution_count": 26
        }
      ]
    },
    {
      "cell_type": "code",
      "metadata": {
        "id": "IAxhdDo-ylHM",
        "outputId": "0b2ea2a8-52dd-4449-fa25-39676bbc6f8c",
        "colab": {
          "base_uri": "https://localhost:8080/",
          "height": 192
        }
      },
      "source": [
        "# Let's now save our model to a file\n",
        "model.save('linearclassifier.h5')"
      ],
      "execution_count": null,
      "outputs": [
        {
          "output_type": "error",
          "ename": "NameError",
          "evalue": "name 'model' is not defined",
          "traceback": [
            "\u001b[0;31m---------------------------------------------------------------------------\u001b[0m",
            "\u001b[0;31mNameError\u001b[0m                                 Traceback (most recent call last)",
            "\u001b[0;32m<ipython-input-1-e01fcc8921d4>\u001b[0m in \u001b[0;36m<cell line: 2>\u001b[0;34m()\u001b[0m\n\u001b[1;32m      1\u001b[0m \u001b[0;31m# Let's now save our model to a file\u001b[0m\u001b[0;34m\u001b[0m\u001b[0;34m\u001b[0m\u001b[0m\n\u001b[0;32m----> 2\u001b[0;31m \u001b[0mmodel\u001b[0m\u001b[0;34m.\u001b[0m\u001b[0msave\u001b[0m\u001b[0;34m(\u001b[0m\u001b[0;34m'linearclassifier.h5'\u001b[0m\u001b[0;34m)\u001b[0m\u001b[0;34m\u001b[0m\u001b[0;34m\u001b[0m\u001b[0m\n\u001b[0m",
            "\u001b[0;31mNameError\u001b[0m: name 'model' is not defined"
          ]
        }
      ]
    }
  ]
}