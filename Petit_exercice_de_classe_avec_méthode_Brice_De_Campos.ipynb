{
  "nbformat": 4,
  "nbformat_minor": 0,
  "metadata": {
    "colab": {
      "provenance": [],
      "authorship_tag": "ABX9TyOV2S/86fFbaGMClfFMLb9c",
      "include_colab_link": true
    },
    "kernelspec": {
      "name": "python3",
      "display_name": "Python 3"
    },
    "language_info": {
      "name": "python"
    }
  },
  "cells": [
    {
      "cell_type": "markdown",
      "metadata": {
        "id": "view-in-github",
        "colab_type": "text"
      },
      "source": [
        "<a href=\"https://colab.research.google.com/github/Djaxis/MY-Python-Evolution/blob/main/Petit_exercice_de_classe_avec_m%C3%A9thode_Brice_De_Campos.ipynb\" target=\"_parent\"><img src=\"https://colab.research.google.com/assets/colab-badge.svg\" alt=\"Open In Colab\"/></a>"
      ]
    },
    {
      "cell_type": "code",
      "execution_count": 9,
      "metadata": {
        "colab": {
          "base_uri": "https://localhost:8080/"
        },
        "id": "gW95hCRezT0U",
        "outputId": "1980e783-56d9-48ee-a888-b924f4d3d964"
      },
      "outputs": [
        {
          "output_type": "stream",
          "name": "stdout",
          "text": [
            "<class '__main__.Voiture'>\n",
            "La voiture de marque Renault, modèle Clio et de couleur bleu roule à une vitesse de 80 km/h.\n"
          ]
        }
      ],
      "source": [
        "class Voiture:\n",
        "    def __init__(self, marque, modele, couleur, vitesse):\n",
        "        self.marque = marque\n",
        "        self.modele = modele\n",
        "        self.couleur = couleur\n",
        "        self.vitesse = vitesse\n",
        "        \n",
        "    def accelerer(self, acceleration):\n",
        "        self.vitesse += acceleration\n",
        "        \n",
        "    def ralentir(self, freinage):\n",
        "        self.vitesse -= freinage\n",
        "        \n",
        "    def afficher_infos(self):\n",
        "        print(f\"La voiture de marque {self.marque}, modèle {self.modele} et de couleur {self.couleur} roule à une vitesse de {self.vitesse} km/h.\")\n",
        "print(Voiture)\n",
        "voiture1 = Voiture(\"Renault\", \"Clio\", \"bleu\", 50)\n",
        "voiture1.accelerer(30)\n",
        "voiture1.afficher_infos()\n"
      ]
    }
  ]
}