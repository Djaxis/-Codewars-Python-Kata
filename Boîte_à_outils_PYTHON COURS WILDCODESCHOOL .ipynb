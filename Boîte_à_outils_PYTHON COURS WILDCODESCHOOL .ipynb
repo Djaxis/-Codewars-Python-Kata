{
  "nbformat": 4,
  "nbformat_minor": 0,
  "metadata": {
    "colab": {
      "provenance": [],
      "authorship_tag": "ABX9TyMSWxqtZFZzkQtEBovSrIaj",
      "include_colab_link": true
    },
    "kernelspec": {
      "name": "python3",
      "display_name": "Python 3"
    },
    "language_info": {
      "name": "python"
    }
  },
  "cells": [
    {
      "cell_type": "markdown",
      "metadata": {
        "id": "view-in-github",
        "colab_type": "text"
      },
      "source": [
        "<a href=\"https://colab.research.google.com/github/Djaxis/MY-Python-Evolution/blob/main/Bo%C3%AEte_%C3%A0_outils_PYTHON%20COURS%20WILDCODESCHOOL%20.ipynb\" target=\"_parent\"><img src=\"https://colab.research.google.com/assets/colab-badge.svg\" alt=\"Open In Colab\"/></a>"
      ]
    },
    {
      "cell_type": "markdown",
      "source": [
        "### **Boîte à outils [WILDCODESCHOOL]Dans 10 cellules code, tu mettras en commentaire le nom de la fonction ou méthode que tu as sélectionnée, et tu feras une brève démonstration de son fonctionnement.**"
      ],
      "metadata": {
        "id": "8SlioBvGtC8O"
      }
    },
    {
      "cell_type": "markdown",
      "source": [
        "print(): Cette méthode est utilisée pour afficher le contenu d'une chaîne de caractères ou d'une variable à la sortie standard (console).\n",
        "\n",
        "len(): Cette méthode renvoie la longueur d'une chaîne de caractères ou d'une liste.\n",
        "\n",
        "range(): Cette méthode est utilisée pour générer une séquence de nombres entiers.\n",
        "\n",
        "open(): Cette méthode est utilisée pour ouvrir un fichier et retourner un objet fichier.\n",
        "\n",
        "split(): Cette méthode est utilisée pour diviser une chaîne de caractères en une liste de sous-chaînes en utilisant un délimiteur.\n",
        "\n",
        "join(): Cette méthode est utilisée pour concaténer une liste de chaînes de caractères en une seule chaîne de caractères.\n",
        "\n",
        "strip(): Cette méthode est utilisée pour supprimer les caractères blancs au début et à la fin d'une chaîne de caractères.\n",
        "\n",
        "sort(): Cette méthode est utilisée pour trier une liste d'éléments en ordre croissant ou décroissant.\n",
        "\n",
        "append(): Cette méthode est utilisée pour ajouter un élément à la fin d'une liste.\n",
        "\n",
        "replace(): Cette méthode est utilisée pour remplacer une sous-chaîne dans une chaîne de caractères par une autre sous-chaîne.\n",
        "\n",
        "format(): Cette méthode est utilisée pour formater une chaîne de caractères en insérant des valeurs dans des emplacements spécifiques dans la chaîne.\n",
        "\n",
        "input(): Cette méthode est utilisée pour recevoir l'entrée de l'utilisateur à partir du clavier.\n",
        "\n",
        "range(): Cette méthode est utilisée pour générer une séquence de nombres entiers dans un intervalle donné avec un pas donné.\n",
        "\n",
        "enumerate(): Cette méthode est utilisée pour énumérer les éléments d'une liste et renvoyer une liste de tuples contenant l'index et la valeur de chaque élément.\n",
        "\n",
        "max(): Cette méthode est utilisée pour trouver la valeur maximale dans une liste ou un ensemble de valeurs.\n",
        "\n",
        "min(): Cette méthode est utilisée pour trouver la valeur minimale dans une liste ou un ensemble de valeurs.\n",
        "\n",
        "zip(): Cette méthode est utilisée pour combiner les éléments de plusieurs listes en une seule liste de tuples.\n",
        "\n",
        "sum(): Cette méthode est utilisée pour trouver la somme des éléments d'une liste ou d'un ensemble de valeurs.\n",
        "\n",
        "abs(): Cette méthode est utilisée pour trouver la valeur absolue d'un nombre.\n",
        "\n",
        "round(): Cette méthode est utilisée pour arrondir un nombre à un nombre spécifié de décimales."
      ],
      "metadata": {
        "id": "agoBZs91lXZX"
      }
    },
    {
      "cell_type": "markdown",
      "source": [
        "help() est une méthode très utile en Python qui peut fournir une documentation sur n'importe quelle méthode ou fonction. Voici un exemple rigolo qui utilise help() pour obtenir de l'aide sur la fonction print() :\n",
        "\n",
        "Ce code va afficher la valeur de la variable ma_variable en utilisant la fonction print(). Ensuite, il va utiliser la méthode help() pour afficher la documentation de la fonction print() dans la console. La documentation inclut des informations utiles telles que les paramètres que la fonction prend en entrée, le type de valeur renvoyé, et une brève description de ce que fait la fonction."
      ],
      "metadata": {
        "id": "QTWMa8E7sedE"
      }
    },
    {
      "cell_type": "code",
      "source": [
        "# Définir une variable\n",
        "ma_variable = \"Bonjour tout le monde !\"\n",
        "\n",
        "# Utiliser la fonction print() pour afficher la variable\n",
        "print(ma_variable)\n",
        "\n",
        "# Utiliser la méthode help() pour obtenir de l'aide sur la fonction print()\n",
        "help(print)\n"
      ],
      "metadata": {
        "colab": {
          "base_uri": "https://localhost:8080/"
        },
        "id": "O7Vju8D0seJQ",
        "outputId": "ab2b6485-3ba6-468f-f496-9e11315d5793"
      },
      "execution_count": 29,
      "outputs": [
        {
          "output_type": "stream",
          "name": "stdout",
          "text": [
            "Bonjour tout le monde !\n",
            "Help on built-in function print in module builtins:\n",
            "\n",
            "print(...)\n",
            "    print(value, ..., sep=' ', end='\\n', file=sys.stdout, flush=False)\n",
            "    \n",
            "    Prints the values to a stream, or to sys.stdout by default.\n",
            "    Optional keyword arguments:\n",
            "    file:  a file-like object (stream); defaults to the current sys.stdout.\n",
            "    sep:   string inserted between values, default a space.\n",
            "    end:   string appended after the last value, default a newline.\n",
            "    flush: whether to forcibly flush the stream.\n",
            "\n"
          ]
        }
      ]
    },
    {
      "cell_type": "code",
      "source": [
        "print(\"Pourquoi les plongeurs plongent-ils toujours en arrière et jamais en avant ? Parce que sinon ils tombent dans le bateau !\")"
      ],
      "metadata": {
        "colab": {
          "base_uri": "https://localhost:8080/"
        },
        "id": "8qhgoSbal8n2",
        "outputId": "33e0fc65-34e9-4d04-d780-addc42c40523"
      },
      "execution_count": 5,
      "outputs": [
        {
          "output_type": "stream",
          "name": "stdout",
          "text": [
            "Pourquoi les plongeurs plongent-ils toujours en arrière et jamais en avant ? Parce que sinon ils tombent dans le bateau !\n"
          ]
        }
      ]
    },
    {
      "cell_type": "code",
      "source": [
        "blague = \"Pourquoi les plongeurs plongent-ils toujours en arrière et jamais en avant ? Parce que sinon ils tombent dans le bateau !\"\n",
        "longueur = len(blague)\n",
        "print(f\"La blague a une longueur de {longueur} caractères.\")"
      ],
      "metadata": {
        "colab": {
          "base_uri": "https://localhost:8080/"
        },
        "id": "VD9NRxABnkIX",
        "outputId": "32f575ca-e4a4-4335-9488-56936e636693"
      },
      "execution_count": 6,
      "outputs": [
        {
          "output_type": "stream",
          "name": "stdout",
          "text": [
            "La blague a une longueur de 121 caractères.\n"
          ]
        }
      ]
    },
    {
      "cell_type": "code",
      "source": [
        "for i in range(5):\n",
        "    print(\"J'aime les pizzas !\")"
      ],
      "metadata": {
        "colab": {
          "base_uri": "https://localhost:8080/"
        },
        "id": "2Ql1sifznlQp",
        "outputId": "bee8cbf9-0c27-4094-c9c0-f2ae5215d620"
      },
      "execution_count": 7,
      "outputs": [
        {
          "output_type": "stream",
          "name": "stdout",
          "text": [
            "J'aime les pizzas !\n",
            "J'aime les pizzas !\n",
            "J'aime les pizzas !\n",
            "J'aime les pizzas !\n",
            "J'aime les pizzas !\n"
          ]
        }
      ]
    },
    {
      "cell_type": "code",
      "source": [
        "fruits = [\"pomme\", \"banane\", \"orange\"]\n",
        "for  fruit in enumerate(fruits):#avec index\n",
        "    print(f\"Le fruit numéro {index+1} est une {fruit}.\")\n",
        "\n",
        "\n",
        "fruits = [\"pomme\", \"banane\", \"orange\"]\n",
        "for index, fruit in enumerate(fruits): #sans index\n",
        "    print(f\"Le fruit numéro {index+1} est une {fruit}.\")\n"
      ],
      "metadata": {
        "colab": {
          "base_uri": "https://localhost:8080/"
        },
        "id": "4vWhhlqMnlK0",
        "outputId": "45f3ef3f-5692-49ea-a509-96f3773ec611"
      },
      "execution_count": 14,
      "outputs": [
        {
          "output_type": "stream",
          "name": "stdout",
          "text": [
            "Le fruit numéro 3 est une (0, 'pomme').\n",
            "Le fruit numéro 3 est une (1, 'banane').\n",
            "Le fruit numéro 3 est une (2, 'orange').\n",
            "Le fruit numéro 1 est une pomme.\n",
            "Le fruit numéro 2 est une banane.\n",
            "Le fruit numéro 3 est une orange.\n"
          ]
        }
      ]
    },
    {
      "cell_type": "code",
      "source": [
        "nombres = [4, 7, 1, 9, 5, 3]\n",
        "plus_grand_nombre = max(nombres)\n",
        "print(f\"Le plus grand nombre est {plus_grand_nombre}.\")"
      ],
      "metadata": {
        "colab": {
          "base_uri": "https://localhost:8080/"
        },
        "id": "QfKwNWvNnlIZ",
        "outputId": "8c0e304d-9294-49f0-d5a7-7d3de5d892b5"
      },
      "execution_count": 15,
      "outputs": [
        {
          "output_type": "stream",
          "name": "stdout",
          "text": [
            "Le plus grand nombre est 9.\n"
          ]
        }
      ]
    },
    {
      "cell_type": "code",
      "source": [
        "phrase = \"Pourquoi les plongeurs plongent-ils toujours en arrière et jamais en avant ? Parce que sinon ils tombent dans le bateau !\"\n",
        "mots = phrase.split(\" \")\n",
        "print(mots)"
      ],
      "metadata": {
        "colab": {
          "base_uri": "https://localhost:8080/"
        },
        "id": "DLkYsbW0nlF4",
        "outputId": "dd78e3b8-b04b-4bf5-9445-1277129309d1"
      },
      "execution_count": 17,
      "outputs": [
        {
          "output_type": "stream",
          "name": "stdout",
          "text": [
            "['Pourquoi', 'les', 'plongeurs', 'plongent-ils', 'toujours', 'en', 'arrière', 'et', 'jamais', 'en', 'avant', '?', 'Parce', 'que', 'sinon', 'ils', 'tombent', 'dans', 'le', 'bateau', '!']\n"
          ]
        }
      ]
    },
    {
      "cell_type": "code",
      "source": [
        "mots = ['Pourquoi', 'les', 'plongeurs', 'plongent-ils', 'toujours', 'en', 'arrière', 'et', 'jamais', 'en', 'avant', '?', 'Parce', 'que', 'sinon', 'ils', 'tombent', 'dans', 'le', 'bateau', '!']\n",
        "phrase = \" \".join(mots)\n",
        "print(phrase)\n"
      ],
      "metadata": {
        "colab": {
          "base_uri": "https://localhost:8080/"
        },
        "id": "P-EsBnFirChj",
        "outputId": "bdd7bb34-1388-4bd1-dbcd-ca0a96fc38a9"
      },
      "execution_count": 18,
      "outputs": [
        {
          "output_type": "stream",
          "name": "stdout",
          "text": [
            "Pourquoi les plongeurs plongent-ils toujours en arrière et jamais en avant ? Parce que sinon ils tombent dans le bateau !\n"
          ]
        }
      ]
    },
    {
      "cell_type": "code",
      "source": [
        "blague = \"   Pourquoi les plongeurs plongent-ils toujours en arrière et jamais en avant ? Parce que sinon ils tombent dans le bateau !   \"\n",
        "blague_propre = blague.strip()\n",
        "print(blague_propre)\n"
      ],
      "metadata": {
        "colab": {
          "base_uri": "https://localhost:8080/"
        },
        "id": "PvCgibSHnlDh",
        "outputId": "7618a46f-6dde-423c-d3da-523580daaf50"
      },
      "execution_count": 19,
      "outputs": [
        {
          "output_type": "stream",
          "name": "stdout",
          "text": [
            "Pourquoi les plongeurs plongent-ils toujours en arrière et jamais en avant ? Parce que sinon ils tombent dans le bateau !\n"
          ]
        }
      ]
    },
    {
      "cell_type": "code",
      "source": [
        "nombres = [3, 7, 1, 8, 4, 2]\n",
        "nombres.sort()\n",
        "print(nombres)\n"
      ],
      "metadata": {
        "colab": {
          "base_uri": "https://localhost:8080/"
        },
        "id": "qU_WDElCnlA_",
        "outputId": "24de4200-c22d-46dc-f60d-e8a82f1948dc"
      },
      "execution_count": 20,
      "outputs": [
        {
          "output_type": "stream",
          "name": "stdout",
          "text": [
            "[1, 2, 3, 4, 7, 8]\n"
          ]
        }
      ]
    },
    {
      "cell_type": "code",
      "source": [
        "nombres = [1, 2, 3, 4]\n",
        "nombres.append(8)\n",
        "print(nombres)\n"
      ],
      "metadata": {
        "colab": {
          "base_uri": "https://localhost:8080/"
        },
        "id": "M87UlHPYnk-M",
        "outputId": "f0de4e01-c79d-4123-d47d-4e1e37988bbd"
      },
      "execution_count": 22,
      "outputs": [
        {
          "output_type": "stream",
          "name": "stdout",
          "text": [
            "[1, 2, 3, 4, 8]\n"
          ]
        }
      ]
    },
    {
      "cell_type": "code",
      "source": [
        "blague = \"Pourquoi les plongeurs plongent-ils toujours en arrière et jamais en avant ? Parce que sinon ils tombent dans le bateau !\"\n",
        "blague_modifiee = blague.replace(\"plongeurs\", \"plongeuses\")\n",
        "print(blague_modifiee)\n"
      ],
      "metadata": {
        "colab": {
          "base_uri": "https://localhost:8080/"
        },
        "id": "Qc610NBHnk7l",
        "outputId": "7f6d92e2-bcf3-41a9-88a1-c9a6aa420099"
      },
      "execution_count": 23,
      "outputs": [
        {
          "output_type": "stream",
          "name": "stdout",
          "text": [
            "Pourquoi les plongeuses plongent-ils toujours en arrière et jamais en avant ? Parce que sinon ils tombent dans le bateau !\n"
          ]
        }
      ]
    },
    {
      "cell_type": "code",
      "source": [
        "prenom = input(\"Quel est votre prénom ? \")\n",
        "nom = input(\"Quel est votre nom ? \")\n",
        "age = input(\"Quel est votre âge ? \")\n",
        "message = \"Bonjour, je m'appelle {} {} et j'ai {} ans.\".format(prenom, nom, age)\n",
        "print(message)\n"
      ],
      "metadata": {
        "colab": {
          "base_uri": "https://localhost:8080/"
        },
        "id": "kgEkuFH3nk4y",
        "outputId": "fede3f17-ce2f-44be-dd4e-2145b94bf3f7"
      },
      "execution_count": 24,
      "outputs": [
        {
          "output_type": "stream",
          "name": "stdout",
          "text": [
            "Quel est votre prénom ? brice\n",
            "Quel est votre nom ? deca\n",
            "Quel est votre âge ? 45\n",
            "Bonjour, je m'appelle brice deca et j'ai 45 ans.\n"
          ]
        }
      ]
    },
    {
      "cell_type": "code",
      "source": [
        "nombres = [4, 7, 1, 9, 5, 3]\n",
        "plus_grand_nombre = max(nombres)\n",
        "print(f\"Le plus grand nombre est {plus_grand_nombre}.\")"
      ],
      "metadata": {
        "colab": {
          "base_uri": "https://localhost:8080/"
        },
        "id": "tmaH-AfUnk1w",
        "outputId": "876b3af9-54b7-48a0-d6c4-ff5b6e91c0a7"
      },
      "execution_count": 25,
      "outputs": [
        {
          "output_type": "stream",
          "name": "stdout",
          "text": [
            "Le plus grand nombre est 9.\n"
          ]
        }
      ]
    },
    {
      "cell_type": "code",
      "source": [
        "nombres = [4, 7, 1, 9, 5, 3]\n",
        "plus_petit_nombre = min(nombres)\n",
        "print(f\"Le plus petit nombre est {plus_petit_nombre}.\")\n"
      ],
      "metadata": {
        "colab": {
          "base_uri": "https://localhost:8080/"
        },
        "id": "a2OXhZ6lnktX",
        "outputId": "f84a3cd5-ac31-4415-ef05-e3864d21c728"
      },
      "execution_count": 28,
      "outputs": [
        {
          "output_type": "stream",
          "name": "stdout",
          "text": [
            "Le plus petit nombre est 1.\n"
          ]
        }
      ]
    },
    {
      "cell_type": "code",
      "source": [],
      "metadata": {
        "id": "cld25BntnkgH"
      },
      "execution_count": null,
      "outputs": []
    }
  ]
}