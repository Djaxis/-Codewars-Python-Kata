{
  "nbformat": 4,
  "nbformat_minor": 0,
  "metadata": {
    "colab": {
      "provenance": [],
      "authorship_tag": "ABX9TyNdRfZ9WjAr6Mp/Uh4UmJCa",
      "include_colab_link": true
    },
    "kernelspec": {
      "name": "python3",
      "display_name": "Python 3"
    },
    "language_info": {
      "name": "python"
    }
  },
  "cells": [
    {
      "cell_type": "markdown",
      "metadata": {
        "id": "view-in-github",
        "colab_type": "text"
      },
      "source": [
        "<a href=\"https://colab.research.google.com/github/Djaxis/MY-Python-Evolution/blob/main/Cr%C3%A9ation_d'un_labyrinthe_parfait_Brice_De_Campos.ipynb\" target=\"_parent\"><img src=\"https://colab.research.google.com/assets/colab-badge.svg\" alt=\"Open In Colab\"/></a>"
      ]
    },
    {
      "cell_type": "markdown",
      "source": [
        "\n",
        "D'accord, je vais vous donner un exemple simple de génération de labyrinthe parfait en utilisant le parcours en profondeur (DFS). Ce sera un algorithme basique pour une grille 2D.\n",
        "\n",
        "Dans cet exemple, W représente un mur et un espace (' ') représente un chemin. Vous pouvez exécuter cet algorithme pour obtenir un labyrinthe parfait de taille (width, height). Notez que pour garantir que tous les chemins sont valides, nous utilisons des dimensions impaires pour la grille."
      ],
      "metadata": {
        "id": "1SrkF8mFdiCv"
      }
    },
    {
      "cell_type": "code",
      "execution_count": 1,
      "metadata": {
        "colab": {
          "base_uri": "https://localhost:8080/"
        },
        "id": "nP2_FumQdCNG",
        "outputId": "f70b9059-ba03-4ca6-cfe3-dd608f177f5a"
      },
      "outputs": [
        {
          "output_type": "stream",
          "name": "stdout",
          "text": [
            " W             W     \n",
            " WWW WWWWWWWWWWW WWW \n",
            "   W           W   W \n",
            "WW W WWWWWWWWW WWW W \n",
            "   W       W   W   W \n",
            " WWWWWWWWWWW WWW WWW \n",
            "   W         W   W   \n",
            "WW W WWWWWWWWW WWW W \n",
            "   W     W W   W   W \n",
            " WWWWWWW W W WWW WWWW\n",
            "       W       W     \n",
            "WWWWWW WWWWWWWWWWWWW \n",
            "     W W         W   \n",
            "WWWW W W WWWWWWW W WW\n",
            "     W   W     W W   \n",
            " WWWWWWWWWWWWW W WWW \n",
            "       W       W     \n",
            " WWWWW WWW WWWWWWWWW \n",
            " W     W   W         \n",
            " W WWWWW WWW W WWWWWW\n",
            " W           W       \n"
          ]
        }
      ],
      "source": [
        "import random\n",
        "\n",
        "def generate_maze(width, height):\n",
        "    # Directions pour se déplacer dans le labyrinthe\n",
        "    DIRS = [(0, 1), (1, 0), (0, -1), (-1, 0)]\n",
        "\n",
        "    # Initialisation de la grille avec des murs\n",
        "    maze = [['W' for _ in range(width)] for _ in range(height)]\n",
        "\n",
        "    # Fonction pour vérifier si une cellule est dans la grille et non visitée\n",
        "    def is_valid_cell(x, y):\n",
        "        return 0 <= x < height and 0 <= y < width and maze[x][y] == 'W'\n",
        "\n",
        "    # Fonction DFS pour parcourir le labyrinthe\n",
        "    def dfs(x, y):\n",
        "        maze[x][y] = ' '  # Marquez la cellule comme visitée\n",
        "        random.shuffle(DIRS)  # Mélangez les directions pour un parcours aléatoire\n",
        "\n",
        "        for dx, dy in DIRS:\n",
        "            nx, ny = x + 2*dx, y + 2*dy  # On se déplace de 2 cellules à la fois pour garder un mur entre les cellules\n",
        "\n",
        "            if is_valid_cell(nx, ny):\n",
        "                maze[x + dx][y + dy] = ' '  # Abattez le mur entre les deux cellules\n",
        "                dfs(nx, ny)\n",
        "\n",
        "    dfs(0, 0)  # Commencez le DFS à partir de la cellule en haut à gauche\n",
        "    return maze\n",
        "\n",
        "def print_maze(maze):\n",
        "    for row in maze:\n",
        "        print(\"\".join(row))\n",
        "\n",
        "width = 21\n",
        "height = 21\n",
        "maze = generate_maze(width, height)\n",
        "print_maze(maze)\n"
      ]
    },
    {
      "cell_type": "markdown",
      "source": [
        "### **Je m'excuse pour la confusion précédente.**\n",
        "\n",
        "Un \"labyrinthe parfait\" en français désigne un labyrinthe sans boucles et sans circuits fermés. Cela signifie qu'il y a un unique chemin entre deux points quelconques du labyrinthe, sans jamais de bifurcation conduisant à une impasse ou revenant sur ses pas. Dans un tel labyrinthe, il n'y a pas de zones inaccessibles, et il n'y a pas non plus de zones depuis lesquelles on ne pourrait sortir.\n",
        "\n",
        "Le concept de \"labyrinthe parfait\" est couramment utilisé dans les algorithmes de génération de labyrinthes pour s'assurer que le labyrinthe généré est solvable, tout en présentant un certain défi pour ceux qui essaient de le résoudre."
      ],
      "metadata": {
        "id": "ZDVJfteZdUgE"
      }
    },
    {
      "cell_type": "markdown",
      "source": [
        "La création d'un labyrinthe parfait est un problème courant en informatique. Il existe plusieurs algorithmes pour générer de tels labyrinthes. Voici quelques-uns des plus populaires :\n",
        "\n",
        "1. **Algorithme de Prim modifié** :\n",
        "   - Commencez avec une grille où tous les murs sont présents.\n",
        "   - Choisissez une cellule au hasard et marquez-la comme visitée.\n",
        "   - Tant qu'il y a des cellules visitées avec des murs adjacents non visités :\n",
        "     - Choisissez une de ces cellules au hasard.\n",
        "     - Choisissez un mur au hasard parmi les murs non visités adjacents à cette cellule et ouvrez-le pour connecter les deux cellules.\n",
        "     - Marquez la nouvelle cellule comme visitée.\n",
        "\n",
        "2. **Parcours en profondeur (DFS)** :\n",
        "   - Commencez par choisir une cellule au hasard comme point de départ.\n",
        "   - Depuis cette cellule, choisissez une cellule adjacente non visitée au hasard et déplacez-vous vers elle, en abattant le mur entre elles.\n",
        "   - Répétez le processus jusqu'à ce qu'il n'y ait plus de cellules non visitées adjacents.\n",
        "   - Retournez en arrière (backtrack) jusqu'à trouver une cellule avec des cellules non visitées adjacentes et continuez le processus.\n",
        "   - Continuez jusqu'à ce que le point de départ soit atteint.\n",
        "\n",
        "3. **Algorithme de Kruskal modifié** :\n",
        "   - Commencez avec une grille où tous les murs sont présents.\n",
        "   - Créez un ensemble pour chaque cellule.\n",
        "   - Choisissez un mur au hasard. Si les cellules qu'il sépare appartiennent à des ensembles différents, abattez-le et fusionnez les deux ensembles.\n",
        "   - Répétez ce processus jusqu'à ce que tous les ensembles soient fusionnés en un seul, ce qui signifie que le labyrinthe est parfait.\n",
        "\n",
        "4. **Division récursive** :\n",
        "   - Commencez avec une grille sans murs.\n",
        "   - Divisez la grille en deux avec un mur horizontal ou vertical.\n",
        "   - Ouvrez un trou au hasard dans ce mur pour garantir la connectivité.\n",
        "   - Répétez le processus de division pour chaque sous-section jusqu'à obtenir des cellules de taille 1x1.\n",
        "\n",
        "Il y a beaucoup d'autres algorithmes et variantes, mais ceux-ci sont parmi les plus courants. Une fois que le labyrinthe est généré, on peut le visualiser en utilisant diverses techniques graphiques."
      ],
      "metadata": {
        "id": "C5jR8Whyda7R"
      }
    },
    {
      "cell_type": "code",
      "source": [],
      "metadata": {
        "id": "yPY1E3KedaM1"
      },
      "execution_count": null,
      "outputs": []
    }
  ]
}