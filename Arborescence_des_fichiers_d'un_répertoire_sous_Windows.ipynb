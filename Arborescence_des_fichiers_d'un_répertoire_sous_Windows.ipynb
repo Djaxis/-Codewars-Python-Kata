{
  "nbformat": 4,
  "nbformat_minor": 0,
  "metadata": {
    "colab": {
      "provenance": [],
      "authorship_tag": "ABX9TyPuyvYskBXjk1FYS3JB0qLG",
      "include_colab_link": true
    },
    "kernelspec": {
      "name": "python3",
      "display_name": "Python 3"
    },
    "language_info": {
      "name": "python"
    }
  },
  "cells": [
    {
      "cell_type": "markdown",
      "metadata": {
        "id": "view-in-github",
        "colab_type": "text"
      },
      "source": [
        "<a href=\"https://colab.research.google.com/github/Djaxis/MY-Python-Evolution/blob/main/Arborescence_des_fichiers_d'un_r%C3%A9pertoire_sous_Windows.ipynb\" target=\"_parent\"><img src=\"https://colab.research.google.com/assets/colab-badge.svg\" alt=\"Open In Colab\"/></a>"
      ]
    },
    {
      "cell_type": "markdown",
      "source": [
        "### **Voici un exemple de code Python qui lit et affiche l'arborescence des fichiers d'un répertoire sous Windows :**"
      ],
      "metadata": {
        "id": "NSZ2DgniUEpg"
      }
    },
    {
      "cell_type": "markdown",
      "source": [
        " lors de l'exécution d'un code Python dans Jupyter Notebook, le répertoire de travail actuel est le répertoire où se trouve le fichier du notebook. Cela signifie que les fichiers et répertoires mentionnés dans l'arborescence se trouveront dans le même répertoire que votre notebook.\n",
        "\n",
        "Si vous exécutez le code dans un autre environnement Python, l'emplacement des fichiers peut être différent. Il sera déterminé par le répertoire de travail actuel au moment de l'exécution du code.\n",
        "Si vous souhaitez connaître l'emplacement absolu des fichiers à partir de n'importe quel répertoire, vous pouvez utiliser la fonction os.path.abspath() pour obtenir le chemin absolu d'un fichier ou d'un répertoire spécifique. Par exemple : chemin_absolu = os.path.abspath(\"chemin/vers/votre/fichier\")\n",
        "print(\"Chemin absolu :\", chemin_absolu)\n"
      ],
      "metadata": {
        "id": "X798Sr2_WO4B"
      }
    },
    {
      "cell_type": "code",
      "execution_count": 22,
      "metadata": {
        "colab": {
          "base_uri": "https://localhost:8080/"
        },
        "id": "JJk3tDxsMaj2",
        "outputId": "3840ac7c-fb85-499e-8312-4762d5bc8e99"
      },
      "outputs": [
        {
          "output_type": "stream",
          "name": "stdout",
          "text": [
            "|-- .config\n",
            "|   |-- .last_update_check.json\n",
            "|   |-- configurations\n",
            "|   |   |-- config_default\n",
            "|   |-- config_sentinel\n",
            "|   |-- gce\n",
            "|   |-- logs\n",
            "|   |   |-- 2023.05.10\n",
            "|   |   |   |-- 13.35.29.390413.log\n",
            "|   |   |   |-- 13.35.03.978575.log\n",
            "|   |   |   |-- 13.36.04.343920.log\n",
            "|   |   |   |-- 13.36.03.614185.log\n",
            "|   |   |   |-- 13.34.38.468087.log\n",
            "|   |   |   |-- 13.35.37.421553.log\n",
            "|   |-- .last_opt_in_prompt.yaml\n",
            "|   |-- active_config\n",
            "|   |-- .last_survey_prompt.yaml\n",
            "|-- sample_data\n",
            "|   |-- anscombe.json\n",
            "|   |-- README.md\n",
            "|   |-- california_housing_test.csv\n",
            "|   |-- mnist_test.csv\n",
            "|   |-- california_housing_train.csv\n",
            "|   |-- mnist_train_small.csv\n"
          ]
        }
      ],
      "source": [
        "import os\n",
        "\n",
        "def afficher_arborescence(repertoire, niveau=0):\n",
        "    # Récupère la liste des fichiers et des répertoires dans le répertoire donné\n",
        "    liste_fichiers = os.listdir(repertoire)\n",
        "\n",
        "    for fichier in liste_fichiers:\n",
        "        # Construit le chemin absolu vers chaque fichier ou répertoire\n",
        "        chemin = os.path.join(repertoire, fichier)\n",
        "        \n",
        "        # Ajoute des indentations pour représenter la hiérarchie\n",
        "        indentation = \"|   \" * niveau\n",
        "        affichage = f\"{indentation}|-- {fichier}\"\n",
        "        print(affichage)\n",
        "\n",
        "        # Vérifie si l'élément actuel est un répertoire\n",
        "        if os.path.isdir(chemin):\n",
        "            # Appelle récursivement la fonction pour afficher l'arborescence du sous-répertoire\n",
        "            afficher_arborescence(chemin, niveau + 1)\n",
        "\n",
        "# Répertoire de départ (répertoire racine de l'arborescence)\n",
        "repertoire_depart = os.getcwd()\n",
        "\n",
        "# Appelle la fonction pour afficher l'arborescence des fichiers\n",
        "afficher_arborescence(repertoire_depart)\n"
      ]
    },
    {
      "cell_type": "markdown",
      "source": [
        "La fonction afficher_arborescence prend en argument un repertoire (chemin absolu du répertoire) et un niveau (niveau d'indentation pour représenter la hiérarchie). Elle affiche les fichiers et les répertoires dans le répertoire donné et appelle récursivement la fonction pour afficher l'arborescence des sous-répertoires.\n",
        "\n",
        "os.listdir(repertoire) renvoie une liste contenant le nom de tous les fichiers et répertoires présents dans le répertoire donné.\n",
        "\n",
        "os.path.join(repertoire, fichier) construit le chemin absolu en joignant le chemin du répertoire et le nom du fichier ou du répertoire.\n",
        "\n",
        "La variable indentation est utilisée pour représenter la hiérarchie avec des indentations. Elle est construite en multipliant la chaîne de caractères \"| \" par le niveau actuel.\n",
        "\n",
        "La variable affichage contient la ligne à afficher pour représenter chaque fichier ou répertoire avec le bon niveau d'indentation.\n",
        "\n",
        "La fonction vérifie si l'élément actuel est un répertoire en utilisant os.path.isdir(chemin). Si c'est le cas, elle appelle récursivement la fonction afficher_arborescence pour afficher l'arborescence des sous-répertoires, en augmentant le niveau d'indentation de 1.\n",
        "\n",
        "os.getcwd() renvoie le chemin absolu du répertoire de travail actuel. C'est utilisé pour définir le répertoire de départ de l'arborescence.\n",
        "\n",
        "Enfin, la fonction afficher_arborescence est appelée avec le repertoire_depart pour afficher l'arborescence des fichiers à partir du répertoire de travail actuel.\n",
        "\n",
        "J'espère que ces commentaires détaillés vous aident à mieux comprendre le code."
      ],
      "metadata": {
        "id": "gULcdjW6T2Zf"
      }
    },
    {
      "cell_type": "markdown",
      "source": [
        ".config est un répertoire situé directement dans le répertoire de travail actuel. Il contient plusieurs fichiers et répertoires :\n",
        "\n",
        ".last_update_check.json est un fichier situé dans le répertoire .config.\n",
        "\n",
        "configurations est un répertoire situé dans le répertoire .config. Il contient un fichier config_default.\n",
        "\n",
        "config_sentinel, gce, logs, .last_opt_in_prompt.yaml, active_config et .last_survey_prompt.yaml sont des fichiers situés dans le répertoire .config.\n",
        "\n",
        "logs est un répertoire situé dans le répertoire .config. Il contient un répertoire 2023.05.10, qui à son tour contient plusieurs fichiers journaux avec des noms tels que 13.35.29.390413.log, 13.35.03.978575.log, etc.\n",
        "\n",
        "sample_data est un répertoire situé directement dans le répertoire de travail actuel. Il contient plusieurs fichiers tels que anscombe.json, README.md, california_housing_test.csv, mnist_test.csv, california_housing_train.csv et mnist_train_small.csv.\n",
        "\n",
        "Chaque élément est affiché avec une indentation pour indiquer sa position hiérarchique dans l'arborescence des fichiers et des répertoires. Les répertoires sont représentés par des lignes avec |-- et les fichiers sont représentés par des lignes sans indentation.\n",
        "\n",
        "Cela vous donne une vue structurée de l'organisation des fichiers et des répertoires dans cet exemple particulier."
      ],
      "metadata": {
        "id": "fVDsbADWXDB4"
      }
    },
    {
      "cell_type": "markdown",
      "source": [
        "Les emplacements exacts des fichiers dépendent de votre environnement et de votre répertoire de travail actuel lors de l'exécution du code. Le code fourni utilise os.getcwd() pour obtenir le répertoire de travail actuel comme point de départ de l'arborescence.\n",
        "\n",
        "Dans l'exemple que vous avez fourni, je ne peux pas déterminer l'emplacement absolu des fichiers. Cependant, je peux vous expliquer certains des répertoires mentionnés :\n",
        "\n",
        "Le répertoire .config est généralement utilisé pour stocker des fichiers de configuration liés à des applications ou à des bibliothèques.\n",
        "\n",
        "Le répertoire sample_data est un répertoire souvent utilisé pour stocker des fichiers d'exemple ou de test.\n",
        "\n",
        "Les autres fichiers et répertoires mentionnés peuvent être spécifiques à votre système ou à l'environnement dans lequel vous exécutez le code. Vous pouvez utiliser la fonction os.path.abspath() pour obtenir les chemins absolus de ces fichiers et répertoires.\n",
        "\n",
        "Si vous souhaitez connaître les emplacements précis de ces fichiers, vous pouvez utiliser la fonction os.path.abspath() pour obtenir les chemins absolus. Par exemple, vous pouvez ajouter une ligne de code pour afficher le chemin absolu du répertoire de travail actuel :"
      ],
      "metadata": {
        "id": "7ghwiMtZW7R2"
      }
    },
    {
      "cell_type": "markdown",
      "source": [
        "### **Voici le code Python avec des commentaires détaillés pour afficher l'arborescence des fichiers à partir du répertoire C:\\ sur votre PC :**"
      ],
      "metadata": {
        "id": "DE4rwRbnX6Et"
      }
    },
    {
      "cell_type": "code",
      "source": [
        "import os\n",
        "\n",
        "def afficher_arborescence(repertoire, niveau=0):\n",
        "    # Obtenir la liste des fichiers et répertoires dans le répertoire donné\n",
        "    liste_fichiers = os.listdir(repertoire)\n",
        "\n",
        "    for fichier in liste_fichiers:\n",
        "        # Construire le chemin absolu du fichier ou répertoire\n",
        "        chemin = os.path.join(repertoire, fichier)\n",
        "\n",
        "        # Indenter en fonction du niveau pour créer une structure hiérarchique\n",
        "        indentation = \"  \" * niveau\n",
        "\n",
        "        if os.path.isfile(chemin):\n",
        "            # Si c'est un fichier, afficher son nom avec l'indentation appropriée\n",
        "            print(indentation + \"|--\", fichier)\n",
        "        elif os.path.isdir(chemin):\n",
        "            # Si c'est un répertoire, afficher son nom avec l'indentation appropriée\n",
        "            print(indentation + \"|--\", fichier)\n",
        "\n",
        "            # Récursivement, appeler la fonction pour afficher l'arborescence du répertoire\n",
        "            afficher_arborescence(chemin, niveau + 1)\n",
        "\n",
        "# Chemin absolu vers le répertoire C:\\\n",
        "repertoire_depart = r\"C:\\\"\n",
        "\n",
        "# Appelle la fonction pour afficher l'arborescence des fichiers\n",
        "afficher_arborescence(repertoire_depart)\n"
      ],
      "metadata": {
        "id": "EsQcEuonXvhx"
      },
      "execution_count": null,
      "outputs": []
    },
    {
      "cell_type": "markdown",
      "source": [
        "Ce code utilise le module os pour interagir avec le système d'exploitation. Voici une explication des principales parties du code :\n",
        "\n",
        "La fonction afficher_arborescence prend en paramètres le répertoire à explorer et le niveau d'indentation actuel (par défaut, niveau 0).\n",
        "\n",
        "La fonction utilise os.listdir pour obtenir la liste des fichiers et répertoires dans le répertoire donné.\n",
        "\n",
        "Pour chaque élément dans la liste, la fonction construit le chemin absolu du fichier ou du répertoire en utilisant os.path.join.\n",
        "\n",
        "Ensuite, en fonction du type de l'élément, la fonction affiche le nom avec l'indentation appropriée. Si c'est un répertoire, la fonction appelle récursivement afficher_arborescence pour afficher l'arborescence de ce sous-répertoire.\n",
        "\n",
        "Le chemin de départ est défini comme \"C:\\\\\", qui est le répertoire racine du lecteur C: sur votre PC. Vous pouvez modifier cela en utilisant votre propre chemin absolu vers le répertoire que vous souhaitez explorer.\n",
        "\n",
        "Une fois que vous avez remplacé le chemin de départ par votre propre chemin absolu, exécutez le code et il affichera l'arborescence des fichiers à partir du répertoire spécifié sur votre PC. Assurez-vous d'avoir les autorisations nécessaires pour accéder aux fichiers et répertoires dans le répertoire spécifié."
      ],
      "metadata": {
        "id": "VXWfg0DSYCZF"
      }
    }
  ]
}