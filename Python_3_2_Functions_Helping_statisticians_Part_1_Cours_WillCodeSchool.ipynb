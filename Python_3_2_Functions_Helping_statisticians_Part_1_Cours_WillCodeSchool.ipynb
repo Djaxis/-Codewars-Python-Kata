{
  "nbformat": 4,
  "nbformat_minor": 0,
  "metadata": {
    "colab": {
      "provenance": [],
      "include_colab_link": true
    },
    "kernelspec": {
      "name": "python3",
      "display_name": "Python 3"
    }
  },
  "cells": [
    {
      "cell_type": "markdown",
      "metadata": {
        "id": "view-in-github",
        "colab_type": "text"
      },
      "source": [
        "<a href=\"https://colab.research.google.com/github/Djaxis/MY-Python-Evolution/blob/main/Python_3_2_Functions_Helping_statisticians_Part_1_Cours_WillCodeSchool.ipynb\" target=\"_parent\"><img src=\"https://colab.research.google.com/assets/colab-badge.svg\" alt=\"Open In Colab\"/></a>"
      ]
    },
    {
      "cell_type": "markdown",
      "metadata": {
        "id": "co2X9cGIieV0"
      },
      "source": [
        "# Help for statisticians!\n",
        "\n",
        "Your fellow statisticians need you. They want to learn how to program in Python and have tons of calculations to do.\n",
        "\n",
        "Very kindly, you agree to help them. Complete the missions below."
      ]
    },
    {
      "cell_type": "markdown",
      "metadata": {
        "id": "rvnKhKV7CVoS"
      },
      "source": [
        "![Einstien le génie](https://wallup.net/wp-content/uploads/2018/09/30/201016-funny-albert-einstein-748x468.jpg)"
      ]
    },
    {
      "cell_type": "code",
      "metadata": {
        "id": "S4jmbgw-kWcj",
        "colab": {
          "base_uri": "https://localhost:8080/"
        },
        "outputId": "f15efaf7-3b7a-4026-c737-fa8089b43c27"
      },
      "source": [
        "# Mission 1: Create a function, that simply returns the string \"Hello Python\"\n",
        "\n",
        "def message():\n",
        "  return \"Hello Python\"\n",
        "print(message())"
      ],
      "execution_count": 59,
      "outputs": [
        {
          "output_type": "stream",
          "name": "stdout",
          "text": [
            "Hello Python\n"
          ]
        }
      ]
    },
    {
      "cell_type": "code",
      "metadata": {
        "id": "4rJVUEkNk5Oo",
        "colab": {
          "base_uri": "https://localhost:8080/"
        },
        "outputId": "1e6898df-49a6-46fb-a72d-2a902269c3cc"
      },
      "source": [
        "# Mission 2: Create a function that takes in 2 numbers as parameters, and returns a boolean indicating whether or not they are equal\n",
        "num1 = 2\n",
        "num2 = 4\n",
        "\n",
        "def mission2(num1, num2):\n",
        "    return num1 == num2 #Returns True if num1 and num2 are equal, False otherwise.\n",
        "if mission2(num1, num2):\n",
        "    print(\"Les nombres sont égaux\")\n",
        "else:\n",
        "    print(\"Les nombres ne sont pas égaux\")"
      ],
      "execution_count": 60,
      "outputs": [
        {
          "output_type": "stream",
          "name": "stdout",
          "text": [
            "Les nombres ne sont pas égaux\n"
          ]
        }
      ]
    },
    {
      "cell_type": "code",
      "metadata": {
        "id": "Q9X4m3D4h-xu",
        "colab": {
          "base_uri": "https://localhost:8080/"
        },
        "outputId": "80e0372d-cb2c-455f-efb5-e64acee60d80"
      },
      "source": [
        "# Mission 3: Create a function that takes a number as parameter, and returns the first 10 multiples of the number as a list\n",
        "# Example: 2 -> [2, 4, 6, 8, 10, 12, 14, 16, 18, 20]\n",
        "multiples_de = [3]\n",
        "\n",
        "def mission3():\n",
        "    for i in range(1, 11):\n",
        "        resultat = multiples_de.append(n * i)\n",
        "    return resultat\n",
        "\n",
        "print(\"Voici les 10 premiers multiples :\", resultat)"
      ],
      "execution_count": 67,
      "outputs": [
        {
          "output_type": "stream",
          "name": "stdout",
          "text": [
            "Voici les 10 premiers multiples : [3, 6, 9, 12, 15, 18, 21, 24, 27, 30]\n"
          ]
        }
      ]
    },
    {
      "cell_type": "code",
      "source": [
        "# Mission 3:\n",
        "nombre = int(input(\"Entrez un nombre: \"))\n",
        "\n",
        "def mission3():\n",
        "    multiples = [nombre]\n",
        "    for i in range(1, 11):\n",
        "        resultat = multiples.append(n * i)\n",
        "    return resultat\n",
        "\n",
        "print(\"Les 10 premiers multiples de\", nombre, \"sont :\", resultat)\n"
      ],
      "metadata": {
        "id": "rlM5Yh7PFBLf",
        "colab": {
          "base_uri": "https://localhost:8080/"
        },
        "outputId": "741d833e-2207-4349-8b6d-5e8a40713e9f"
      },
      "execution_count": 66,
      "outputs": [
        {
          "output_type": "stream",
          "name": "stdout",
          "text": [
            "Entrez un nombre: 3\n",
            "Les 10 premiers multiples de 3 sont : [3, 6, 9, 12, 15, 18, 21, 24, 27, 30]\n"
          ]
        }
      ]
    },
    {
      "cell_type": "code",
      "metadata": {
        "id": "Fe9kZrvklI0b",
        "colab": {
          "base_uri": "https://localhost:8080/"
        },
        "outputId": "42e27b77-bca7-4d6e-e1d3-9435d3a92cd1"
      },
      "source": [
        "# Mission 4: Create a function that takes a string as input, and return its vowels only, preserving case.\n",
        "# Example: \"Antidisestablishmentarianism\" -> \"Aiieaieaiai\"\n",
        "# Example: \"TO BE OR NOT TO BE\" -> \"OEOOOE\"\n",
        "def extract_vowels(s):\n",
        "    vowels = \"aeiouyAEIOUY\"\n",
        "    result = \"\"\n",
        "    for letter in s:\n",
        "        if letter in vowels: #si tu trouve les voyelles \n",
        "            result += letter # tu les ajoute dans result\n",
        "    return result\n",
        "\n",
        "input_string = input(\"Entrez une suite de lettres : \")\n",
        "print(extract_vowels(input_string))"
      ],
      "execution_count": 70,
      "outputs": [
        {
          "output_type": "stream",
          "name": "stdout",
          "text": [
            "Entrez une suite de lettres : tresory\n",
            "eoy\n"
          ]
        }
      ]
    },
    {
      "cell_type": "code",
      "source": [
        "#Mission 4 avec la méthode re.compile\n",
        "import re\n",
        "\n",
        "def extract_vowels(s):\n",
        "    pattern = re.compile('[aeiouyAEIOUY]')# mise en place de ce que je recherche\n",
        "    result = re.findall(pattern, s) # la chaîne de caractères à rechercher est STOCKEE dans la variable s.\n",
        "    return ''.join(result)\n",
        "\n",
        "input_string = input(\"Entrez une suite de lettres : \")\n",
        "print(extract_vowels(input_string))"
      ],
      "metadata": {
        "id": "M3QVVr48FsVL"
      },
      "execution_count": null,
      "outputs": []
    },
    {
      "cell_type": "code",
      "metadata": {
        "id": "7b3JtuNClm4a",
        "colab": {
          "base_uri": "https://localhost:8080/"
        },
        "outputId": "7d726ac3-cae6-41dc-a1eb-b2445f054f58"
      },
      "source": [
        "# Mission 5: Create a function that takes 2 numbers as parameters, and returns the result of a division operation. \n",
        "# Test if the denominator is equal to 0 and if so, display a message that says: \"You can't divide by zero\".\n",
        "numA = [10]\n",
        "numB = [2]\n",
        "\n",
        "def divise_si_no_zero():\n",
        "    if numB[0] == 0:\n",
        "        print(\"You can't divide by zero.\")\n",
        "        return\n",
        "    resultatmission5 = numA[0] / numB[0]\n",
        "    print(resultatmission5)\n",
        "\n",
        "divise_si_no_zero()\n"
      ],
      "execution_count": 83,
      "outputs": [
        {
          "output_type": "stream",
          "name": "stdout",
          "text": [
            "5.0\n"
          ]
        }
      ]
    },
    {
      "cell_type": "code",
      "source": [
        "a = 10\n",
        "b = 2\n",
        "\n",
        "def divide():\n",
        "    try:\n",
        "        result = a / b\n",
        "        print(result)\n",
        "    except ZeroDivisionError:\n",
        "        print(\"You can't divide by zero.\")\n",
        "\n",
        "divide()\n"
      ],
      "metadata": {
        "colab": {
          "base_uri": "https://localhost:8080/"
        },
        "id": "Zv96QQVJ--mv",
        "outputId": "a8a21cd2-b2d9-456f-901f-1c51836a95a8"
      },
      "execution_count": 92,
      "outputs": [
        {
          "output_type": "stream",
          "name": "stdout",
          "text": [
            "5.0\n"
          ]
        }
      ]
    },
    {
      "cell_type": "code",
      "source": [
        "numA = 10\n",
        "numB = 0\n",
        "def divide():\n",
        "    result = numA / numB if numB != 0 else \"You can't divide by zero.\"\n",
        "    print(result)\n",
        "divide()"
      ],
      "metadata": {
        "colab": {
          "base_uri": "https://localhost:8080/"
        },
        "id": "BWgwgfBG_Efu",
        "outputId": "5bdd4e4c-4fba-40c7-c5cd-10b70a7afee8"
      },
      "execution_count": 91,
      "outputs": [
        {
          "output_type": "stream",
          "name": "stdout",
          "text": [
            "You can't divide by zero.\n"
          ]
        }
      ]
    },
    {
      "cell_type": "code",
      "metadata": {
        "id": "6hjrrDyUlN8o",
        "colab": {
          "base_uri": "https://localhost:8080/"
        },
        "outputId": "342a80ba-84f9-4da9-b318-1b10c607f071"
      },
      "source": [
        "# Mission 6: First, choose two arithmetical operations (such as +, -, *, or /)\n",
        "# Then, create a function that takes in 3 numbers as parameters and carries out those operations, displays a message indicating if the result is positive, negative or zero, and finally returns the result.\n",
        "# If a division by zero is attempted, display an error message.\n",
        "# Mission 6 : Tout d'abord, choisissez deux opérations arithmétiques (telles que +, -, *, ou /).\n",
        "# Ensuite, créez une fonction qui prend 3 nombres en tant que paramètres et effectue ces opérations, affiche un message indiquant si le résultat est positif, négatif ou zéro, et enfin retourne le résultat.\n",
        "# Si une division par zéro est tentée, affichez un message d'erreur.\n",
        "\n",
        "# Example with multiplication and addition: \n",
        "# Calling with 0, 32, 2 will compute (0*32)+2, will display \"Positive result\", and return 2\n",
        "\n",
        "# Example with division and addition:    \n",
        "# Calling with 21, 0, 3 will try to compute (21/0)+2, will display \"Divide-by-zero error\"\n",
        "\n",
        "numA = 10\n",
        "numB = 6\n",
        "numC = 2\n",
        "def mission6():\n",
        "\n",
        "    resultatmission6 = (numA*numB)+numC\n",
        "        \n",
        "    if resultatmission6 > 0:\n",
        "        print(\"Résultat positif\")\n",
        "    elif resultatmission6 < 0:\n",
        "        print(\"Résultat négatif\")\n",
        "   \n",
        "    else:\n",
        "        print(\"Résultat zéro\")\n",
        "\n",
        "    return resultatmission6\n",
        "print(mission6())\n",
        "\n",
        "\n",
        "\n",
        "\n",
        "\n"
      ],
      "execution_count": 103,
      "outputs": [
        {
          "output_type": "stream",
          "name": "stdout",
          "text": [
            "Résultat positif\n",
            "62\n"
          ]
        }
      ]
    },
    {
      "cell_type": "code",
      "metadata": {
        "id": "r6DP6oTDmqfs",
        "colab": {
          "base_uri": "https://localhost:8080/"
        },
        "outputId": "8c8ab3f7-dbba-4597-c1ae-53eb5698b7b0"
      },
      "source": [
        "# Mission 7: Create a function that takes a number as a parameter that corresponds to gross salary and returns the net salary for executives.\n",
        "# You can specify any amount of deductions, or base them on your country's example\n",
        "grosssalary = 3000\n",
        "payspercent = 28\n",
        "def mission7():\n",
        "    netsalary = grosssalary- (grosssalary * payspercent / 100)\n",
        "    return netsalary\n",
        "print(\"Net salary:\", mission7())"
      ],
      "execution_count": 111,
      "outputs": [
        {
          "output_type": "stream",
          "name": "stdout",
          "text": [
            "Net salary: 2160.0\n"
          ]
        }
      ]
    },
    {
      "cell_type": "code",
      "metadata": {
        "id": "T57txpOLjVXv"
      },
      "source": [],
      "execution_count": 136,
      "outputs": []
    },
    {
      "cell_type": "code",
      "source": [
        "# Mission 8: Create a function that can swap the values of any two variables, such as if variable A = 1 and variable B = 2, after applying the function, variable A = 2 and B = 1\n",
        "\n",
        "var1 = 20\n",
        "var2 = 100\n",
        "print(\"var1 était :\", var1)\n",
        "print(\"var2 était :\", var2)\n",
        "\n",
        "def swap_variables():\n",
        "    global var1, var2\n",
        "    var1, var2 = var2, var1\n",
        "    return var1, var2\n",
        "\n",
        "swap_variables()\n",
        "\n",
        "print(\"var1 est maintenant :\", var1)\n",
        "print(\"var2 est maintenant :\", var2)\n"
      ],
      "metadata": {
        "colab": {
          "base_uri": "https://localhost:8080/"
        },
        "id": "S5UBa8bBOwop",
        "outputId": "66ae2eab-6842-443d-d08b-e784de49b1b2"
      },
      "execution_count": 133,
      "outputs": [
        {
          "output_type": "stream",
          "name": "stdout",
          "text": [
            "var1 était : 20\n",
            "var2 était : 100\n",
            "var1 est maintenant : 100\n",
            "var2 est maintenant : 20\n"
          ]
        }
      ]
    },
    {
      "cell_type": "code",
      "source": [
        "# Mission 8: Create a function that can swap the values of any two variables, such as if variable A = 1 and variable B = 2, after applying the function, variable A = 2 and B = 1\n",
        "\n",
        "var1 = 20\n",
        "var2 = 100\n",
        "\n",
        "def swap_variables(a, b):\n",
        "    return b, a\n",
        "\n",
        "var1, var2 = swap_variables(var1, var2)\n",
        "\n",
        "print(var1)\n",
        "print(var2)"
      ],
      "metadata": {
        "colab": {
          "base_uri": "https://localhost:8080/"
        },
        "id": "jVT_a-g_QdQs",
        "outputId": "c50f2e14-3150-404d-9d04-cdfc4974c14e"
      },
      "execution_count": 134,
      "outputs": [
        {
          "output_type": "stream",
          "name": "stdout",
          "text": [
            "100\n",
            "20\n"
          ]
        }
      ]
    }
  ]
}