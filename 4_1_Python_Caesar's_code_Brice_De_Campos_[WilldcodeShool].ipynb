{
  "nbformat": 4,
  "nbformat_minor": 0,
  "metadata": {
    "colab": {
      "provenance": [],
      "authorship_tag": "ABX9TyNAk+ldaRlmGvCrpl+nwun5",
      "include_colab_link": true
    },
    "kernelspec": {
      "name": "python3",
      "display_name": "Python 3"
    },
    "language_info": {
      "name": "python"
    }
  },
  "cells": [
    {
      "cell_type": "markdown",
      "metadata": {
        "id": "view-in-github",
        "colab_type": "text"
      },
      "source": [
        "<a href=\"https://colab.research.google.com/github/Djaxis/MY-Python-Evolution/blob/main/4_1_Python_Caesar's_code_Brice_De_Campos_%5BWilldcodeShool%5D.ipynb\" target=\"_parent\"><img src=\"https://colab.research.google.com/assets/colab-badge.svg\" alt=\"Open In Colab\"/></a>"
      ]
    },
    {
      "cell_type": "markdown",
      "source": [
        "### Dans ce challenge tu vas devoir déchiffrer un message. Dans la phrase à modifier ci-dessous, les lettres normales ont été remplacées par la 7ème lettre précédente (h remplacé par a, i par b etc).\n",
        "### Crée une fonction qui prend en paramètre un message sous forme de liste ou de chaine de caractère, et affiche le message correctement (décrypté). \n",
        "## Voici le message à décrypter : mlspjpahapvuz, jlzhy zlyhpa mply kl avp, zp zlbsltlua ps jvuuhpzzhpa wfaovu."
      ],
      "metadata": {
        "id": "lWcseZQ28fhq"
      }
    },
    {
      "cell_type": "code",
      "execution_count": 4,
      "metadata": {
        "colab": {
          "base_uri": "https://localhost:8080/"
        },
        "id": "skfzgs9Y6u4Y",
        "outputId": "ba6eba80-c1dc-4c6c-e0a3-6931e1be195d"
      },
      "outputs": [
        {
          "output_type": "stream",
          "name": "stdout",
          "text": [
            "felicitations, cesar serait fier de toi, si seulement il connaissait python.\n"
          ]
        }
      ],
      "source": [
        "def decrypt_message(message):# vérifie si le paramètre message est une liste ou une chaîne de caractères et le convertit en une chaîne de caractères si nécessaire. \n",
        "    if not isinstance(message, (list, str)): #Si le paramètre n'est ni une liste ni une chaîne de caractères, la fonction renvoie un message d'erreur.\n",
        "        print(\"Erreur : le message doit être une liste ou une chaîne de caractères\")\n",
        "        return\n",
        "    \n",
        "\n",
        "    if isinstance(message, list):  # Si message est une liste\n",
        "        message = ''.join(message) # Alors convertit la liste en une chaîne de caractères avec la méthode join(). Concatène pour former une seule chaîne de caractères.\n",
        "    \n",
        "    \n",
        "    decrypted_message = \"\" # Cette chaîne de caractères vide est utilisée pour stocker le message décrypté au fur et à mesure que la boucle for.\n",
        "    \n",
        "    for letter in message:\n",
        "        if letter.isalpha():  #vérifie si le caractère letter est une lettre de l'alphabet. \n",
        "            \n",
        "            decrypted_letter = chr(ord(letter) - 7)#Si c'est le cas, le caractère est décalé de 7 caractères vers la gauche avec la fonction chr() et ord().puis stock dans decrypted_letter.\n",
        "            \n",
        "            if decrypted_letter < 'a':# voir notice en dessous\n",
        "                decrypted_letter = chr(ord(decrypted_letter) + 26)\n",
        "            \n",
        "            decrypted_message += decrypted_letter # j'ajoute les lettre trouvées au stock decrypted_message : ce qui va constituer le message.\n",
        "        else:\n",
        "            decrypted_message += letter\n",
        "    \n",
        "    print(decrypted_message)\n",
        "\n",
        "\n",
        "message_chiffre = \"mlspjpahapvuz, jlzhy zlyhpa mply kl avp, zp zlbsltlua ps jvuuhpzzhpa wfaovu.\"\n",
        "decrypt_message(message_chiffre)"
      ]
    },
    {
      "cell_type": "markdown",
      "source": [
        "NOTICE\n",
        "ord(letter) renvoie le code ASCII du caractère letter. Par exemple, ord('a') renvoie la valeur 97.\n",
        "\n",
        "Ensuite, chr() est utilisée pour convertir le code ASCII résultant en un caractère. Par exemple, chr(97) renvoie la lettre 'a'.\n",
        "\n",
        "Donc, chr(ord(letter)) renvoie simplement le caractère letter lui-même, sans changement.\n",
        "\n",
        "Dans le contexte de ce code, chr(ord(letter) - 7) est utilisé pour décaler chaque caractère de 7 positions vers la gauche dans la table ASCII."
      ],
      "metadata": {
        "id": "Q7L71rZ1B8FM"
      }
    },
    {
      "cell_type": "markdown",
      "source": [
        "# **Comprendre le décalage dans l'alphabet anglais.**\n",
        "\n",
        "Dans le chiffrement de César, chaque lettre du message est décalée d'un certain nombre de positions vers la droite ou la gauche. Le décalage peut déplacer les lettres au-delà de la plage des lettres minuscules de l'alphabet anglais.\n",
        "\n",
        "Par exemple, si le caractère 'a' est décalé de 7 positions vers la gauche, il devient le caractère 'T'. Dans ce cas, le caractère 'T' est en dehors de la plage des lettres minuscules de l'alphabet anglais.\n",
        "\n",
        "La condition if decrypted_letter < 'a' vérifie si le caractère décalé est en dehors de la plage des lettres minuscules de l'alphabet anglais. Si c'est le cas, cela signifie que le caractère décalé est un caractère spécial, un chiffre, une majuscule ou un autre caractère qui n'est pas une lettre minuscule.\n",
        "\n",
        "Pour ramener le caractère décalé dans la plage valide des lettres minuscules de l'alphabet anglais, on ajoute 26 positions (la longueur de l'alphabet) au code ASCII du caractère décalé. En ajoutant 26 positions, on s'assure que le caractère décalé revient à une position valide dans la plage des lettres minuscules de l'alphabet anglais.\n",
        "\n",
        "Par exemple, si le caractère 'a' est décalé de 25 positions vers la gauche, il devient le caractère 'f'. Si on ajoute 26 positions au code ASCII du caractère 'f', on revient à la lettre 'a'.\n"
      ],
      "metadata": {
        "id": "HPN3zy63CtBi"
      }
    },
    {
      "cell_type": "markdown",
      "source": [
        "### **COMPRENDRE LE STOCKAGE FINAL**\n",
        "Après avoir décalé chaque lettre du message original à l'aide du chiffrement de César et du décalage de 7 positions, la lettre décalée est stockée dans la variable decrypted_letter.\n",
        "\n",
        "Ensuite, la ligne de code decrypted_message += decrypted_letter ajoute le caractère décalé decrypted_letter au message décrypté decrypted_message. Cette opération est effectuée si le caractère est une lettre.\n",
        "\n",
        "Si le caractère n'est pas une lettre, la ligne de code decrypted_message += letter ajoute simplement le caractère original letter au message décrypté decrypted_message. Cela garantit que tous les caractères du message original, y compris les caractères qui ne sont pas des lettres, sont préservés dans le message décrypté."
      ],
      "metadata": {
        "id": "0G-aBf2IEJXr"
      }
    }
  ]
}