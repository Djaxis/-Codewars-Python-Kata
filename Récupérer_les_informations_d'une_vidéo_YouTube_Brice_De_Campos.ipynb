{
  "nbformat": 4,
  "nbformat_minor": 0,
  "metadata": {
    "colab": {
      "provenance": [],
      "authorship_tag": "ABX9TyO0qL46K6mmLlvwkjH/xJ6N",
      "include_colab_link": true
    },
    "kernelspec": {
      "name": "python3",
      "display_name": "Python 3"
    },
    "language_info": {
      "name": "python"
    }
  },
  "cells": [
    {
      "cell_type": "markdown",
      "metadata": {
        "id": "view-in-github",
        "colab_type": "text"
      },
      "source": [
        "<a href=\"https://colab.research.google.com/github/Djaxis/MY-Python-Evolution/blob/main/R%C3%A9cup%C3%A9rer_les_informations_d'une_vid%C3%A9o_YouTube_Brice_De_Campos.ipynb\" target=\"_parent\"><img src=\"https://colab.research.google.com/assets/colab-badge.svg\" alt=\"Open In Colab\"/></a>"
      ]
    },
    {
      "cell_type": "markdown",
      "source": [
        "### ****Code Python utilisant la bibliothèque google-api-python-client pour récupérer les informations d'une vidéo YouTube : Assurez-vous de remplacer \"votre_clé_d'API_YouTube\" par votre propre clé d'API YouTube et \"ID_de_la_vidéo_YouTube\" par l'ID de la vidéo YouTube dont vous souhaitez récupérer les informations."
      ],
      "metadata": {
        "id": "ZBV7UxfT4O3a"
      }
    },
    {
      "cell_type": "code",
      "execution_count": 1,
      "metadata": {
        "colab": {
          "base_uri": "https://localhost:8080/"
        },
        "id": "3X9BzYSK3cmy",
        "outputId": "4b213221-14da-4b60-9083-b30254189937"
      },
      "outputs": [
        {
          "output_type": "stream",
          "name": "stdout",
          "text": [
            "Une erreur s'est produite :  <HttpError 400 when requesting https://youtube.googleapis.com/youtube/v3/videos?part=snippet&id=ID_de_la_vid%C3%A9o_YouTube&key=votre_cl%C3%A9_d%27API_YouTube&alt=json returned \"API key not valid. Please pass a valid API key.\". Details: \"[{'message': 'API key not valid. Please pass a valid API key.', 'domain': 'global', 'reason': 'badRequest'}]\">\n"
          ]
        }
      ],
      "source": [
        "# Importer les bibliothèques nécessaires\n",
        "from googleapiclient.discovery import build\n",
        "from googleapiclient.errors import HttpError\n",
        "\n",
        "# Clé d'API YouTube\n",
        "API_KEY = \"votre_clé_d'API_YouTube\"\n",
        "\n",
        "# ID de la vidéo YouTube\n",
        "VIDEO_ID = \"ID_de_la_vidéo_YouTube\"\n",
        "\n",
        "# Créer une instance de l'API YouTube\n",
        "youtube = build('youtube', 'v3', developerKey=API_KEY)\n",
        "\n",
        "try:\n",
        "    # Obtenir les informations de la vidéo\n",
        "    video_info = youtube.videos().list(part='snippet', id=VIDEO_ID).execute()\n",
        "\n",
        "    # Afficher les informations de la vidéo\n",
        "    print(\"Titre de la vidéo : \", video_info['items'][0]['snippet']['title'])\n",
        "    print(\"Description de la vidéo : \", video_info['items'][0]['snippet']['description'])\n",
        "    print(\"URL de la vidéo : \", \"https://www.youtube.com/watch?v=\" + VIDEO_ID)\n",
        "\n",
        "except HttpError as e:\n",
        "    print(\"Une erreur s'est produite : \", e)\n"
      ]
    },
    {
      "cell_type": "markdown",
      "source": [
        "### **Assurez-vous de remplacer \"votre_clé_d'API_YouTube\" par votre propre clé d'API YouTube et \"ID_de_la_vidéo_YouTube\" par l'ID de la vidéo YouTube dont vous souhaitez récupérer les informations.**"
      ],
      "metadata": {
        "id": "x0cJJOLW4oqv"
      }
    }
  ]
}